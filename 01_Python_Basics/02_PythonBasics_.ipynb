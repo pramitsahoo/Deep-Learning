{
  "nbformat": 4,
  "nbformat_minor": 0,
  "metadata": {
    "colab": {
      "provenance": [],
      "collapsed_sections": [
        "mkdQFucEOWD0",
        "C1zg6PhSOhAC",
        "shxDdQONOurH",
        "Pe-3-aEOFRtS",
        "QhkfYfzfQ6tD"
      ]
    },
    "kernelspec": {
      "name": "python3",
      "display_name": "Python 3"
    },
    "language_info": {
      "name": "python"
    }
  },
  "cells": [
    {
      "cell_type": "markdown",
      "source": [
        "# Simple Data Types and Operators"
      ],
      "metadata": {
        "id": "mkdQFucEOWD0"
      }
    },
    {
      "cell_type": "code",
      "execution_count": 1,
      "metadata": {
        "id": "1oMy-uHWEczf"
      },
      "outputs": [],
      "source": [
        "name = \"iPhone 5s\""
      ]
    },
    {
      "cell_type": "code",
      "source": [
        "type(name)"
      ],
      "metadata": {
        "colab": {
          "base_uri": "https://localhost:8080/"
        },
        "id": "tnWxs32ZEyvb",
        "outputId": "54594799-e432-40da-af3c-172318565a12"
      },
      "execution_count": 2,
      "outputs": [
        {
          "output_type": "execute_result",
          "data": {
            "text/plain": [
              "str"
            ]
          },
          "metadata": {},
          "execution_count": 2
        }
      ]
    },
    {
      "cell_type": "code",
      "source": [
        "print(name)"
      ],
      "metadata": {
        "colab": {
          "base_uri": "https://localhost:8080/"
        },
        "id": "a_f120iTE-dz",
        "outputId": "aa8b9de1-2d29-404f-e07c-6aa3c4bfb99a"
      },
      "execution_count": 3,
      "outputs": [
        {
          "output_type": "stream",
          "name": "stdout",
          "text": [
            "iPhone 5s\n"
          ]
        }
      ]
    },
    {
      "cell_type": "code",
      "source": [
        "screen_size = 4.3\n",
        "type(screen_size)"
      ],
      "metadata": {
        "colab": {
          "base_uri": "https://localhost:8080/"
        },
        "id": "GGlE6-GXFBhP",
        "outputId": "985f2dc9-1b10-48d9-aa75-f9f7f534d46b"
      },
      "execution_count": 4,
      "outputs": [
        {
          "output_type": "execute_result",
          "data": {
            "text/plain": [
              "float"
            ]
          },
          "metadata": {},
          "execution_count": 4
        }
      ]
    },
    {
      "cell_type": "code",
      "source": [
        "num_of_speakers = 1\n",
        "type(num_of_speakers)"
      ],
      "metadata": {
        "colab": {
          "base_uri": "https://localhost:8080/"
        },
        "id": "mNLRkJVSFHHM",
        "outputId": "84f87a4a-b60d-4843-bb2b-584aeb1bb9c2"
      },
      "execution_count": 5,
      "outputs": [
        {
          "output_type": "execute_result",
          "data": {
            "text/plain": [
              "int"
            ]
          },
          "metadata": {},
          "execution_count": 5
        }
      ]
    },
    {
      "cell_type": "code",
      "source": [
        "print(\"I just bought an \" + name)"
      ],
      "metadata": {
        "colab": {
          "base_uri": "https://localhost:8080/"
        },
        "id": "dSqHpDpxFM7l",
        "outputId": "95a6880d-b43d-4ad1-b5fd-4c5d1d721e06"
      },
      "execution_count": 6,
      "outputs": [
        {
          "output_type": "stream",
          "name": "stdout",
          "text": [
            "I just bought an iPhone 5s\n"
          ]
        }
      ]
    },
    {
      "cell_type": "code",
      "source": [
        "a = 3\n",
        "b = 2\n",
        "print(a*b, a+b, a/b, a-b, a**b, a//b)"
      ],
      "metadata": {
        "colab": {
          "base_uri": "https://localhost:8080/"
        },
        "id": "DvE6Phe-FQoX",
        "outputId": "6c80fac6-b40e-4390-8b07-779575dc2d06"
      },
      "execution_count": 7,
      "outputs": [
        {
          "output_type": "stream",
          "name": "stdout",
          "text": [
            "6 5 1.5 1 9 1\n"
          ]
        }
      ]
    },
    {
      "cell_type": "code",
      "source": [
        "is_android = False\n",
        "type(is_android)"
      ],
      "metadata": {
        "colab": {
          "base_uri": "https://localhost:8080/"
        },
        "id": "izc4L-V-Fc9s",
        "outputId": "8b98b0d4-8467-4ca4-8607-d1f65b855b6f"
      },
      "execution_count": 8,
      "outputs": [
        {
          "output_type": "execute_result",
          "data": {
            "text/plain": [
              "bool"
            ]
          },
          "metadata": {},
          "execution_count": 8
        }
      ]
    },
    {
      "cell_type": "code",
      "source": [
        "print (is_android == True)"
      ],
      "metadata": {
        "colab": {
          "base_uri": "https://localhost:8080/"
        },
        "id": "vfSJtGJPFtbs",
        "outputId": "49df84f3-90d6-4756-ebd3-52e99a66e81a"
      },
      "execution_count": 9,
      "outputs": [
        {
          "output_type": "stream",
          "name": "stdout",
          "text": [
            "False\n"
          ]
        }
      ]
    },
    {
      "cell_type": "code",
      "source": [
        " print (is_android == False and num_of_speakers > 1)"
      ],
      "metadata": {
        "colab": {
          "base_uri": "https://localhost:8080/"
        },
        "id": "FwFB9MOeFyjG",
        "outputId": "7f50786f-814c-4a51-a28a-872fc08848f6"
      },
      "execution_count": 10,
      "outputs": [
        {
          "output_type": "stream",
          "name": "stdout",
          "text": [
            "False\n"
          ]
        }
      ]
    },
    {
      "cell_type": "markdown",
      "source": [
        "# Code Blocks - if, For, While"
      ],
      "metadata": {
        "id": "UnVwpVyXOb9t"
      }
    },
    {
      "cell_type": "code",
      "source": [
        "if is_android == True:\n",
        "  print(name + 'Supports Android')\n",
        "  print(\"Continuing to print inside the if block\")\n",
        "print(\"Prinitng outside of the if block\")"
      ],
      "metadata": {
        "colab": {
          "base_uri": "https://localhost:8080/"
        },
        "id": "G5nrCVdWF7oP",
        "outputId": "e4ec2192-4841-4042-f6ae-af69a7b224f1"
      },
      "execution_count": 35,
      "outputs": [
        {
          "output_type": "stream",
          "name": "stdout",
          "text": [
            "Prinitng outside of the if block\n"
          ]
        }
      ]
    },
    {
      "cell_type": "code",
      "source": [
        "if is_android == False:\n",
        "  print(name + 'Supports Android')\n",
        "  print(\"Continuing to print inside the if block\")\n",
        "print(\"Prinitng outside of the if block\")"
      ],
      "metadata": {
        "colab": {
          "base_uri": "https://localhost:8080/"
        },
        "id": "xT5qld9eGQW9",
        "outputId": "0b159f9a-ce3c-4cdb-d0e1-5fa9a6a955d0"
      },
      "execution_count": 36,
      "outputs": [
        {
          "output_type": "stream",
          "name": "stdout",
          "text": [
            "iPhone 5sSupports Android\n",
            "Continuing to print inside the if block\n",
            "Prinitng outside of the if block\n"
          ]
        }
      ]
    },
    {
      "cell_type": "code",
      "source": [
        "for i in range(5):\n",
        "  print(i, i**2) # i will start from 0 and end at 4 and the second thing is the square of i"
      ],
      "metadata": {
        "colab": {
          "base_uri": "https://localhost:8080/"
        },
        "id": "yyOzNayGGXYe",
        "outputId": "0ee07d7d-a244-40ce-ff66-5451a8176a9f"
      },
      "execution_count": 37,
      "outputs": [
        {
          "output_type": "stream",
          "name": "stdout",
          "text": [
            "0 0\n",
            "1 1\n",
            "2 4\n",
            "3 9\n",
            "4 16\n"
          ]
        }
      ]
    },
    {
      "cell_type": "code",
      "source": [
        "range? # it will give the information about it"
      ],
      "metadata": {
        "colab": {
          "base_uri": "https://localhost:8080/",
          "height": 143
        },
        "id": "c4hkVf6BGfak",
        "outputId": "b0f8a5a0-082a-40e8-bcca-f9cc946ffcf5"
      },
      "execution_count": 38,
      "outputs": [
        {
          "output_type": "error",
          "ename": "SyntaxError",
          "evalue": "ignored",
          "traceback": [
            "\u001b[0;36m  File \u001b[0;32m\"<ipython-input-38-e449dd7f6e7f>\"\u001b[0;36m, line \u001b[0;32m1\u001b[0m\n\u001b[0;31m    range? # it will give the information about it\u001b[0m\n\u001b[0m         ^\u001b[0m\n\u001b[0;31mSyntaxError\u001b[0m\u001b[0;31m:\u001b[0m invalid syntax\n"
          ]
        }
      ]
    },
    {
      "cell_type": "code",
      "source": [
        "i = 0\n",
        "while (i < 5):\n",
        "  print(i, i**2)\n",
        "  i += 1 #equivalent to i = i + 1"
      ],
      "metadata": {
        "colab": {
          "base_uri": "https://localhost:8080/"
        },
        "id": "A5P8j5RPGrfz",
        "outputId": "ae9c374f-f433-4e98-e799-0b74421f83fe"
      },
      "execution_count": 70,
      "outputs": [
        {
          "output_type": "stream",
          "name": "stdout",
          "text": [
            "0 0\n",
            "1 1\n",
            "2 4\n",
            "3 9\n",
            "4 16\n"
          ]
        }
      ]
    },
    {
      "cell_type": "markdown",
      "source": [
        "# Functions"
      ],
      "metadata": {
        "id": "C1zg6PhSOhAC"
      }
    },
    {
      "cell_type": "code",
      "source": [
        " # functions\n",
        "\n",
        " def print_square(stop_value):\n",
        "  for i in range(stop_value):\n",
        "    print(i, i**2)"
      ],
      "metadata": {
        "id": "0m8BTbQ8HAgo"
      },
      "execution_count": 71,
      "outputs": []
    },
    {
      "cell_type": "code",
      "source": [
        "print_square(5)"
      ],
      "metadata": {
        "colab": {
          "base_uri": "https://localhost:8080/"
        },
        "id": "uwiKGB0xHSmk",
        "outputId": "66da2f36-9f61-47de-b832-868d2001840e"
      },
      "execution_count": 72,
      "outputs": [
        {
          "output_type": "stream",
          "name": "stdout",
          "text": [
            "0 0\n",
            "1 1\n",
            "2 4\n",
            "3 9\n",
            "4 16\n"
          ]
        }
      ]
    },
    {
      "cell_type": "code",
      "source": [
        "print_square(3)"
      ],
      "metadata": {
        "colab": {
          "base_uri": "https://localhost:8080/"
        },
        "id": "KG4yA3foHVMK",
        "outputId": "fb63bd9b-7530-4dbb-89ab-0ab384f4aca8"
      },
      "execution_count": 73,
      "outputs": [
        {
          "output_type": "stream",
          "name": "stdout",
          "text": [
            "0 0\n",
            "1 1\n",
            "2 4\n"
          ]
        }
      ]
    },
    {
      "cell_type": "code",
      "source": [
        "def sum_of_squares(stop_val):\n",
        "  sum_ = 0\n",
        "  for i in range(stop_val):\n",
        "    sum_ = sum_ + (i ** 2)\n",
        "  return sum_"
      ],
      "metadata": {
        "id": "Ib4nsaJuHbb8"
      },
      "execution_count": 74,
      "outputs": []
    },
    {
      "cell_type": "code",
      "source": [
        "sum_of_squares(5)"
      ],
      "metadata": {
        "colab": {
          "base_uri": "https://localhost:8080/"
        },
        "id": "dkZwcnCnHsG0",
        "outputId": "f2d5d019-100a-4530-f700-773a27c61b21"
      },
      "execution_count": 75,
      "outputs": [
        {
          "output_type": "execute_result",
          "data": {
            "text/plain": [
              "30"
            ]
          },
          "metadata": {},
          "execution_count": 75
        }
      ]
    },
    {
      "cell_type": "code",
      "source": [
        "sum_5 = sum_of_squares(5)"
      ],
      "metadata": {
        "id": "Ir5iEcx_Hx5h"
      },
      "execution_count": 76,
      "outputs": []
    },
    {
      "cell_type": "code",
      "source": [
        "# choosing of starting value\n",
        "def print_square_with_startval(stop_value, start_val = 0):\n",
        "  \"\"\"\n",
        "  Print the squares of numbers starting from start_val (inclusive) and ending with stop_val (exclusive)\n",
        "  \"\"\"\n",
        "  for i in range(start_val,stop_value):\n",
        "    print(i, i**2)"
      ],
      "metadata": {
        "id": "-R0PReilIMau"
      },
      "execution_count": 77,
      "outputs": []
    },
    {
      "cell_type": "code",
      "source": [
        "print_square_with_startval(5,2)"
      ],
      "metadata": {
        "colab": {
          "base_uri": "https://localhost:8080/"
        },
        "id": "EGSVZ-_6IlRV",
        "outputId": "890e6e88-1a4c-426e-bbf3-a66211863624"
      },
      "execution_count": 78,
      "outputs": [
        {
          "output_type": "stream",
          "name": "stdout",
          "text": [
            "2 4\n",
            "3 9\n",
            "4 16\n"
          ]
        }
      ]
    },
    {
      "cell_type": "code",
      "source": [
        "help(print_square_with_startval)"
      ],
      "metadata": {
        "colab": {
          "base_uri": "https://localhost:8080/"
        },
        "id": "2XANeHZPIpcy",
        "outputId": "69f7abd1-5f60-49b1-afa4-26ff215a49d4"
      },
      "execution_count": 79,
      "outputs": [
        {
          "output_type": "stream",
          "name": "stdout",
          "text": [
            "Help on function print_square_with_startval in module __main__:\n",
            "\n",
            "print_square_with_startval(stop_value, start_val=0)\n",
            "    Print the squares of numbers starting from start_val (inclusive) and ending with stop_val (exclusive)\n",
            "\n"
          ]
        }
      ]
    },
    {
      "cell_type": "code",
      "source": [
        "print_square_with_startval?"
      ],
      "metadata": {
        "id": "XmzK7BxHI-vL"
      },
      "execution_count": 80,
      "outputs": []
    },
    {
      "cell_type": "code",
      "source": [],
      "metadata": {
        "id": "cHhvnXo0JDJA"
      },
      "execution_count": 80,
      "outputs": []
    },
    {
      "cell_type": "markdown",
      "source": [
        "# Lists"
      ],
      "metadata": {
        "id": "shxDdQONOurH"
      }
    },
    {
      "cell_type": "code",
      "source": [
        "my_phone = [name, is_android, screen_size]"
      ],
      "metadata": {
        "id": "aC8VuPc7OwMR"
      },
      "execution_count": 81,
      "outputs": []
    },
    {
      "cell_type": "code",
      "source": [
        "type(my_phone)"
      ],
      "metadata": {
        "colab": {
          "base_uri": "https://localhost:8080/"
        },
        "id": "IlOa3g0MO4_G",
        "outputId": "94de8a5f-3394-488e-8788-f9ca29631af8"
      },
      "execution_count": 82,
      "outputs": [
        {
          "output_type": "execute_result",
          "data": {
            "text/plain": [
              "list"
            ]
          },
          "metadata": {},
          "execution_count": 82
        }
      ]
    },
    {
      "cell_type": "code",
      "source": [
        "print(my_phone)"
      ],
      "metadata": {
        "colab": {
          "base_uri": "https://localhost:8080/"
        },
        "id": "o0BAreXwO7kA",
        "outputId": "80014f5a-c536-4e46-e0d8-e1377f8acf10"
      },
      "execution_count": 83,
      "outputs": [
        {
          "output_type": "stream",
          "name": "stdout",
          "text": [
            "['iPhone 5s', False, 4.3]\n"
          ]
        }
      ]
    },
    {
      "cell_type": "code",
      "source": [
        "my_phone[0]"
      ],
      "metadata": {
        "colab": {
          "base_uri": "https://localhost:8080/",
          "height": 0
        },
        "id": "AHqmh0ZvO9Pw",
        "outputId": "57534a62-d840-4df8-d7a9-8bb7b81a9d5c"
      },
      "execution_count": 84,
      "outputs": [
        {
          "output_type": "execute_result",
          "data": {
            "text/plain": [
              "'iPhone 5s'"
            ],
            "application/vnd.google.colaboratory.intrinsic+json": {
              "type": "string"
            }
          },
          "metadata": {},
          "execution_count": 84
        }
      ]
    },
    {
      "cell_type": "code",
      "source": [
        "type(my_phone[0])"
      ],
      "metadata": {
        "colab": {
          "base_uri": "https://localhost:8080/"
        },
        "id": "uOcQ4ArrPBwE",
        "outputId": "462a1c3e-e942-4a9e-d5e4-ac428e32f2e8"
      },
      "execution_count": 85,
      "outputs": [
        {
          "output_type": "execute_result",
          "data": {
            "text/plain": [
              "str"
            ]
          },
          "metadata": {},
          "execution_count": 85
        }
      ]
    },
    {
      "cell_type": "code",
      "source": [
        "my_phone[0:2]"
      ],
      "metadata": {
        "colab": {
          "base_uri": "https://localhost:8080/"
        },
        "id": "oZX1Vp6cPEU2",
        "outputId": "e508d645-417e-49cc-d289-d91541d7f825"
      },
      "execution_count": 86,
      "outputs": [
        {
          "output_type": "execute_result",
          "data": {
            "text/plain": [
              "['iPhone 5s', False]"
            ]
          },
          "metadata": {},
          "execution_count": 86
        }
      ]
    },
    {
      "cell_type": "code",
      "source": [
        "my_phone [1:3]"
      ],
      "metadata": {
        "colab": {
          "base_uri": "https://localhost:8080/"
        },
        "id": "Gu1R33-6PIP6",
        "outputId": "14b5e27a-7836-4897-d305-6d8ca8bd0950"
      },
      "execution_count": 87,
      "outputs": [
        {
          "output_type": "execute_result",
          "data": {
            "text/plain": [
              "[False, 4.3]"
            ]
          },
          "metadata": {},
          "execution_count": 87
        }
      ]
    },
    {
      "cell_type": "code",
      "source": [
        "my_dads_phone = my_phone\n",
        "print(my_dads_phone)"
      ],
      "metadata": {
        "colab": {
          "base_uri": "https://localhost:8080/"
        },
        "id": "gxh1eslLPWJB",
        "outputId": "bd39571d-e490-464c-8db9-6f0cc56adc4d"
      },
      "execution_count": 88,
      "outputs": [
        {
          "output_type": "stream",
          "name": "stdout",
          "text": [
            "['iPhone 5s', False, 4.3]\n"
          ]
        }
      ]
    },
    {
      "cell_type": "code",
      "source": [
        "my_phone[2] = 4"
      ],
      "metadata": {
        "id": "_-qprr49Pd3X"
      },
      "execution_count": 89,
      "outputs": []
    },
    {
      "cell_type": "code",
      "source": [
        "print(my_phone)"
      ],
      "metadata": {
        "colab": {
          "base_uri": "https://localhost:8080/"
        },
        "id": "I7XxVDYKPgxh",
        "outputId": "698b8f1b-fb9d-4f63-e884-c94682515bfe"
      },
      "execution_count": 90,
      "outputs": [
        {
          "output_type": "stream",
          "name": "stdout",
          "text": [
            "['iPhone 5s', False, 4]\n"
          ]
        }
      ]
    },
    {
      "cell_type": "code",
      "source": [
        "print(my_dads_phone) # it is sharing the referece with my phone"
      ],
      "metadata": {
        "colab": {
          "base_uri": "https://localhost:8080/"
        },
        "id": "-yFx_dvVPhll",
        "outputId": "dddddd63-0983-4500-ae8d-f17b2ed70c9d"
      },
      "execution_count": 91,
      "outputs": [
        {
          "output_type": "stream",
          "name": "stdout",
          "text": [
            "['iPhone 5s', False, 4]\n"
          ]
        }
      ]
    },
    {
      "cell_type": "code",
      "source": [
        "# if we want to do that deep copy\n",
        "my_dads_phone = list(my_phone)\n",
        "# alternate way of doing this is    my_dads_phone = my_phone[:]"
      ],
      "metadata": {
        "id": "ndaLsqqUPmgP"
      },
      "execution_count": 92,
      "outputs": []
    },
    {
      "cell_type": "code",
      "source": [
        "my_phone[2] = 4.3"
      ],
      "metadata": {
        "id": "F2Fi0IxLQsaq"
      },
      "execution_count": 93,
      "outputs": []
    },
    {
      "cell_type": "code",
      "source": [
        "print(my_phone)\n",
        "print(my_dads_phone)"
      ],
      "metadata": {
        "colab": {
          "base_uri": "https://localhost:8080/"
        },
        "id": "LjZy2BinQ-Z9",
        "outputId": "d56d671a-ee14-4c33-c1de-db4b81423ea0"
      },
      "execution_count": 94,
      "outputs": [
        {
          "output_type": "stream",
          "name": "stdout",
          "text": [
            "['iPhone 5s', False, 4.3]\n",
            "['iPhone 5s', False, 4]\n"
          ]
        }
      ]
    },
    {
      "cell_type": "code",
      "source": [
        "len(my_phone)"
      ],
      "metadata": {
        "colab": {
          "base_uri": "https://localhost:8080/"
        },
        "id": "MiY_zimGREyS",
        "outputId": "b530a448-8af1-4372-8949-9b4b47bad6a1"
      },
      "execution_count": 95,
      "outputs": [
        {
          "output_type": "execute_result",
          "data": {
            "text/plain": [
              "3"
            ]
          },
          "metadata": {},
          "execution_count": 95
        }
      ]
    },
    {
      "cell_type": "code",
      "source": [
        "len?"
      ],
      "metadata": {
        "id": "7yFPTsgaRJF5"
      },
      "execution_count": 96,
      "outputs": []
    },
    {
      "cell_type": "code",
      "source": [
        "my_phone.append(\"3G\")"
      ],
      "metadata": {
        "id": "X4PuAZL1RKb_"
      },
      "execution_count": 97,
      "outputs": []
    },
    {
      "cell_type": "code",
      "source": [
        "print(my_phone)"
      ],
      "metadata": {
        "colab": {
          "base_uri": "https://localhost:8080/"
        },
        "id": "c6ZpVeWLRShm",
        "outputId": "565df2a2-e5bb-45c1-f5c9-46bff1f37381"
      },
      "execution_count": 98,
      "outputs": [
        {
          "output_type": "stream",
          "name": "stdout",
          "text": [
            "['iPhone 5s', False, 4.3, '3G']\n"
          ]
        }
      ]
    },
    {
      "cell_type": "code",
      "source": [
        "len(my_phone)"
      ],
      "metadata": {
        "colab": {
          "base_uri": "https://localhost:8080/"
        },
        "id": "oSEldXOoRUXQ",
        "outputId": "012f7682-775a-40f4-fa56-46726b745be3"
      },
      "execution_count": 99,
      "outputs": [
        {
          "output_type": "execute_result",
          "data": {
            "text/plain": [
              "4"
            ]
          },
          "metadata": {},
          "execution_count": 99
        }
      ]
    },
    {
      "cell_type": "code",
      "source": [
        "iphone5s_some_prefs = ['single_sim', 35000]"
      ],
      "metadata": {
        "id": "RUvc9bejRWWp"
      },
      "execution_count": 100,
      "outputs": []
    },
    {
      "cell_type": "code",
      "source": [
        "my_phone = my_phone + iphone5s_some_prefs"
      ],
      "metadata": {
        "id": "xpi0739kRiym"
      },
      "execution_count": 101,
      "outputs": []
    },
    {
      "cell_type": "code",
      "source": [
        "print(my_phone)"
      ],
      "metadata": {
        "colab": {
          "base_uri": "https://localhost:8080/"
        },
        "id": "KknBi9nJRuMH",
        "outputId": "e63b0d0c-7d33-4ba2-dd3d-b7e36c56c90e"
      },
      "execution_count": 102,
      "outputs": [
        {
          "output_type": "stream",
          "name": "stdout",
          "text": [
            "['iPhone 5s', False, 4.3, '3G', 'single_sim', 35000]\n"
          ]
        }
      ]
    },
    {
      "cell_type": "code",
      "source": [
        "for data in my_phone:\n",
        "  print(data)"
      ],
      "metadata": {
        "colab": {
          "base_uri": "https://localhost:8080/"
        },
        "id": "vWYekCv6RvgN",
        "outputId": "81ade515-20de-4c1b-a8e4-5ece1042d961"
      },
      "execution_count": 103,
      "outputs": [
        {
          "output_type": "stream",
          "name": "stdout",
          "text": [
            "iPhone 5s\n",
            "False\n",
            "4.3\n",
            "3G\n",
            "single_sim\n",
            "35000\n"
          ]
        }
      ]
    },
    {
      "cell_type": "code",
      "source": [
        "range(5)"
      ],
      "metadata": {
        "colab": {
          "base_uri": "https://localhost:8080/"
        },
        "id": "AiuvRMpcR4Xy",
        "outputId": "b3906d06-3b9f-4cfd-918d-a5911531b596"
      },
      "execution_count": 104,
      "outputs": [
        {
          "output_type": "execute_result",
          "data": {
            "text/plain": [
              "range(0, 5)"
            ]
          },
          "metadata": {},
          "execution_count": 104
        }
      ]
    },
    {
      "cell_type": "code",
      "source": [
        "print(list(range(5)))"
      ],
      "metadata": {
        "colab": {
          "base_uri": "https://localhost:8080/"
        },
        "id": "8iJvsHnQR9zu",
        "outputId": "d745ad6a-6b38-40ca-eca0-3416909e2090"
      },
      "execution_count": 105,
      "outputs": [
        {
          "output_type": "stream",
          "name": "stdout",
          "text": [
            "[0, 1, 2, 3, 4]\n"
          ]
        }
      ]
    },
    {
      "cell_type": "code",
      "source": [
        "# map function\n",
        "a = list(range(5))\n",
        "print(a)"
      ],
      "metadata": {
        "colab": {
          "base_uri": "https://localhost:8080/"
        },
        "id": "icb1U7dMSBO4",
        "outputId": "4eb063f4-e419-4622-8c75-209c538875a0"
      },
      "execution_count": 106,
      "outputs": [
        {
          "output_type": "stream",
          "name": "stdout",
          "text": [
            "[0, 1, 2, 3, 4]\n"
          ]
        }
      ]
    },
    {
      "cell_type": "code",
      "source": [
        "b = list(map(lambda x:x**2, a))"
      ],
      "metadata": {
        "id": "BaNOCm8DSIGt"
      },
      "execution_count": 107,
      "outputs": []
    },
    {
      "cell_type": "code",
      "source": [
        "print(b)"
      ],
      "metadata": {
        "colab": {
          "base_uri": "https://localhost:8080/"
        },
        "id": "7uRmn0gKSVDz",
        "outputId": "3cec3852-26cc-4dc4-8880-a58768059fb9"
      },
      "execution_count": 108,
      "outputs": [
        {
          "output_type": "stream",
          "name": "stdout",
          "text": [
            "[0, 1, 4, 9, 16]\n"
          ]
        }
      ]
    },
    {
      "cell_type": "code",
      "source": [
        "# filter only even values\n",
        "c = list(filter(lambda x: x%2 == 0, b))"
      ],
      "metadata": {
        "id": "ODOrSrn5Sg58"
      },
      "execution_count": 109,
      "outputs": []
    },
    {
      "cell_type": "code",
      "source": [
        "print(c)"
      ],
      "metadata": {
        "colab": {
          "base_uri": "https://localhost:8080/"
        },
        "id": "D-wJeSUzSrb7",
        "outputId": "5f4e5967-ee65-48e5-a3b1-a30b2d79147f"
      },
      "execution_count": 110,
      "outputs": [
        {
          "output_type": "stream",
          "name": "stdout",
          "text": [
            "[0, 4, 16]\n"
          ]
        }
      ]
    },
    {
      "cell_type": "code",
      "source": [
        "print(my_phone)\n",
        "type(my_phone)"
      ],
      "metadata": {
        "colab": {
          "base_uri": "https://localhost:8080/"
        },
        "id": "oRjSgptnSucf",
        "outputId": "7f615d77-27c1-4a7f-ab11-df693cef68e4"
      },
      "execution_count": 111,
      "outputs": [
        {
          "output_type": "stream",
          "name": "stdout",
          "text": [
            "['iPhone 5s', False, 4.3, '3G', 'single_sim', 35000]\n"
          ]
        },
        {
          "output_type": "execute_result",
          "data": {
            "text/plain": [
              "list"
            ]
          },
          "metadata": {},
          "execution_count": 111
        }
      ]
    },
    {
      "cell_type": "markdown",
      "source": [
        "# Tuples"
      ],
      "metadata": {
        "id": "P46F6LUpTODz"
      }
    },
    {
      "cell_type": "code",
      "source": [
        "my_phone_tuple = (\"iPhone 5s\", False, 4.3)"
      ],
      "metadata": {
        "id": "Y6ur5tIUS5Gw"
      },
      "execution_count": 112,
      "outputs": []
    },
    {
      "cell_type": "code",
      "source": [
        "print(my_phone_tuple)\n",
        "type(my_phone_tuple)"
      ],
      "metadata": {
        "colab": {
          "base_uri": "https://localhost:8080/"
        },
        "id": "17w5ztsRTjJq",
        "outputId": "c5667b0f-7e31-44ee-b181-fd483ab95a19"
      },
      "execution_count": 113,
      "outputs": [
        {
          "output_type": "stream",
          "name": "stdout",
          "text": [
            "('iPhone 5s', False, 4.3)\n"
          ]
        },
        {
          "output_type": "execute_result",
          "data": {
            "text/plain": [
              "tuple"
            ]
          },
          "metadata": {},
          "execution_count": 113
        }
      ]
    },
    {
      "cell_type": "code",
      "source": [
        "my_phone_tuple[0:2]"
      ],
      "metadata": {
        "colab": {
          "base_uri": "https://localhost:8080/"
        },
        "id": "n3Zq93PUTpGT",
        "outputId": "0bcd8086-2476-4975-c053-a28d4fd2dcc1"
      },
      "execution_count": 114,
      "outputs": [
        {
          "output_type": "execute_result",
          "data": {
            "text/plain": [
              "('iPhone 5s', False)"
            ]
          },
          "metadata": {},
          "execution_count": 114
        }
      ]
    },
    {
      "cell_type": "code",
      "source": [
        "for data in my_phone_tuple:\n",
        "  print(data)"
      ],
      "metadata": {
        "colab": {
          "base_uri": "https://localhost:8080/"
        },
        "id": "7gmjXrKeUSR0",
        "outputId": "7bf5a4e6-9c48-42a0-debd-b88ca7513aa5"
      },
      "execution_count": 115,
      "outputs": [
        {
          "output_type": "stream",
          "name": "stdout",
          "text": [
            "iPhone 5s\n",
            "False\n",
            "4.3\n"
          ]
        }
      ]
    },
    {
      "cell_type": "code",
      "source": [
        "my_phone_tuple[2] = 4 # immutable"
      ],
      "metadata": {
        "colab": {
          "base_uri": "https://localhost:8080/",
          "height": 179
        },
        "id": "dTgDrq2EUYkf",
        "outputId": "ad3363c7-f6c0-47f4-e085-febff1186506"
      },
      "execution_count": 116,
      "outputs": [
        {
          "output_type": "error",
          "ename": "TypeError",
          "evalue": "ignored",
          "traceback": [
            "\u001b[0;31m---------------------------------------------------------------------------\u001b[0m",
            "\u001b[0;31mTypeError\u001b[0m                                 Traceback (most recent call last)",
            "\u001b[0;32m<ipython-input-116-574ca9299d7d>\u001b[0m in \u001b[0;36m<cell line: 1>\u001b[0;34m()\u001b[0m\n\u001b[0;32m----> 1\u001b[0;31m \u001b[0mmy_phone_tuple\u001b[0m\u001b[0;34m[\u001b[0m\u001b[0;36m2\u001b[0m\u001b[0;34m]\u001b[0m \u001b[0;34m=\u001b[0m \u001b[0;36m4\u001b[0m \u001b[0;31m# immutable\u001b[0m\u001b[0;34m\u001b[0m\u001b[0;34m\u001b[0m\u001b[0m\n\u001b[0m",
            "\u001b[0;31mTypeError\u001b[0m: 'tuple' object does not support item assignment"
          ]
        }
      ]
    },
    {
      "cell_type": "code",
      "source": [
        "import time"
      ],
      "metadata": {
        "id": "NTePLkO8Ucge"
      },
      "execution_count": 117,
      "outputs": []
    },
    {
      "cell_type": "code",
      "source": [
        "tic = time.time()\n",
        "print(tic)"
      ],
      "metadata": {
        "colab": {
          "base_uri": "https://localhost:8080/"
        },
        "id": "QzS--ZzVUrfI",
        "outputId": "9dd34aec-5167-4b48-9ffe-0e52cd5d1117"
      },
      "execution_count": 118,
      "outputs": [
        {
          "output_type": "stream",
          "name": "stdout",
          "text": [
            "1702018469.3022454\n"
          ]
        }
      ]
    },
    {
      "cell_type": "code",
      "source": [
        "time.time?\n"
      ],
      "metadata": {
        "id": "axALLc_QUw5w"
      },
      "execution_count": 119,
      "outputs": []
    },
    {
      "cell_type": "code",
      "source": [
        "tic = time.time()\n",
        "#do something that takes some time that is to be measured\n",
        "toc = time.time()\n",
        "print(\"Elapsed time in seconds\", toc - tic)"
      ],
      "metadata": {
        "colab": {
          "base_uri": "https://localhost:8080/"
        },
        "id": "6VmXjkMaUyfg",
        "outputId": "f340fbee-14df-4575-a413-8363a33d3706"
      },
      "execution_count": 120,
      "outputs": [
        {
          "output_type": "stream",
          "name": "stdout",
          "text": [
            "Elapsed time in seconds 5.555152893066406e-05\n"
          ]
        }
      ]
    },
    {
      "cell_type": "code",
      "source": [
        "#why we need tuple\n",
        "\n",
        "my_list = list(range(1000000))\n",
        "tic = time.time()\n",
        "my_list_squared = list(map(lambda x:x ** 2, my_list))\n",
        "toc = time.time()\n",
        "print(\"Elapsed time in seconds\", toc - tic)"
      ],
      "metadata": {
        "colab": {
          "base_uri": "https://localhost:8080/"
        },
        "id": "RnXgvyWWVDUV",
        "outputId": "8dcb3e8b-d82d-457d-ddc2-5fcb28d1cbfd"
      },
      "execution_count": 121,
      "outputs": [
        {
          "output_type": "stream",
          "name": "stdout",
          "text": [
            "Elapsed time in seconds 0.34749698638916016\n"
          ]
        }
      ]
    },
    {
      "cell_type": "code",
      "source": [
        "#why we need tuple\n",
        "\n",
        "my_tuple = tuple(range(1000000))\n",
        "tic = time.time()\n",
        "my_tuple_squared = tuple(map(lambda x:x ** 2, my_tuple))\n",
        "toc = time.time()\n",
        "print(\"Elapsed time in seconds\", toc - tic)"
      ],
      "metadata": {
        "colab": {
          "base_uri": "https://localhost:8080/"
        },
        "id": "LrGajAXnVXcf",
        "outputId": "aade6803-62c4-430d-e8ed-72a52ca9ae1d"
      },
      "execution_count": 122,
      "outputs": [
        {
          "output_type": "stream",
          "name": "stdout",
          "text": [
            "Elapsed time in seconds 0.3610053062438965\n"
          ]
        }
      ]
    },
    {
      "cell_type": "markdown",
      "source": [
        "# Sets"
      ],
      "metadata": {
        "id": "9VkecKDoV-zS"
      }
    },
    {
      "cell_type": "code",
      "source": [
        "my_set = set(my_phone)"
      ],
      "metadata": {
        "id": "rcoKW9V6Vrod"
      },
      "execution_count": 123,
      "outputs": []
    },
    {
      "cell_type": "code",
      "source": [
        "print(my_set)"
      ],
      "metadata": {
        "colab": {
          "base_uri": "https://localhost:8080/"
        },
        "id": "8KjYDG5NWSu2",
        "outputId": "c63ef0e4-896e-4ecf-f9ce-3068ad781179"
      },
      "execution_count": 124,
      "outputs": [
        {
          "output_type": "stream",
          "name": "stdout",
          "text": [
            "{False, 4.3, 'single_sim', '3G', 'iPhone 5s', 35000}\n"
          ]
        }
      ]
    },
    {
      "cell_type": "code",
      "source": [
        "my_phone.append(4.3)"
      ],
      "metadata": {
        "id": "RcTJHK0rWT3u"
      },
      "execution_count": 125,
      "outputs": []
    },
    {
      "cell_type": "code",
      "source": [
        "print(my_phone)"
      ],
      "metadata": {
        "colab": {
          "base_uri": "https://localhost:8080/"
        },
        "id": "atAbFvSQXau-",
        "outputId": "e143a8ce-77b4-4d63-98ad-7070c62394b5"
      },
      "execution_count": 126,
      "outputs": [
        {
          "output_type": "stream",
          "name": "stdout",
          "text": [
            "['iPhone 5s', False, 4.3, '3G', 'single_sim', 35000, 4.3]\n"
          ]
        }
      ]
    },
    {
      "cell_type": "code",
      "source": [
        "my_set = set(my_phone)"
      ],
      "metadata": {
        "id": "_ljWwWVGXb31"
      },
      "execution_count": 127,
      "outputs": []
    },
    {
      "cell_type": "code",
      "source": [
        "print(my_set)"
      ],
      "metadata": {
        "colab": {
          "base_uri": "https://localhost:8080/"
        },
        "id": "n3EmWQqYDgun",
        "outputId": "5fb5a173-07a3-4782-87cf-1843446f2f34"
      },
      "execution_count": 128,
      "outputs": [
        {
          "output_type": "stream",
          "name": "stdout",
          "text": [
            "{False, 4.3, 'single_sim', '3G', 'iPhone 5s', 35000}\n"
          ]
        }
      ]
    },
    {
      "cell_type": "code",
      "source": [
        "import time\n",
        "my_list = list(range(10000000))\n",
        "tic = time.time()\n",
        "print(98361 in my_list)\n",
        "print(131427 in my_list)\n",
        "print(11111111111 in my_list)\n",
        "toc = time.time()\n",
        "print(\"Elapsed time\", toc-tic)"
      ],
      "metadata": {
        "colab": {
          "base_uri": "https://localhost:8080/"
        },
        "id": "haBpXq0HDh9x",
        "outputId": "fcffa7f8-a129-412e-9489-a1782d0d1039"
      },
      "execution_count": 129,
      "outputs": [
        {
          "output_type": "stream",
          "name": "stdout",
          "text": [
            "True\n",
            "True\n",
            "False\n",
            "Elapsed time 0.11107325553894043\n"
          ]
        }
      ]
    },
    {
      "cell_type": "code",
      "source": [
        "my_set = set(range(10000000))\n",
        "tic = time.time()\n",
        "print(98361 in my_set)\n",
        "print(131427 in my_set)\n",
        "print(11111111111 in my_set)\n",
        "toc = time.time()\n",
        "print(\"Elapsed time\", toc-tic)"
      ],
      "metadata": {
        "colab": {
          "base_uri": "https://localhost:8080/"
        },
        "id": "yTzHA0THEoeZ",
        "outputId": "203679fc-2f5e-4149-e621-4149f50afb37"
      },
      "execution_count": 130,
      "outputs": [
        {
          "output_type": "stream",
          "name": "stdout",
          "text": [
            "True\n",
            "True\n",
            "False\n",
            "Elapsed time 0.0029075145721435547\n"
          ]
        }
      ]
    },
    {
      "cell_type": "markdown",
      "source": [
        "# Dictionaries"
      ],
      "metadata": {
        "id": "Pe-3-aEOFRtS"
      }
    },
    {
      "cell_type": "code",
      "source": [
        "my_phone_dict = {}"
      ],
      "metadata": {
        "id": "e4nbEpsJFFtw"
      },
      "execution_count": 140,
      "outputs": []
    },
    {
      "cell_type": "code",
      "source": [
        "type(my_phone_dict)"
      ],
      "metadata": {
        "colab": {
          "base_uri": "https://localhost:8080/"
        },
        "id": "AwKsSJwQFV_W",
        "outputId": "17dff589-1c21-4edb-b4ca-3bc8e9a723f4"
      },
      "execution_count": 141,
      "outputs": [
        {
          "output_type": "execute_result",
          "data": {
            "text/plain": [
              "dict"
            ]
          },
          "metadata": {},
          "execution_count": 141
        }
      ]
    },
    {
      "cell_type": "code",
      "source": [
        "my_phone_dict['name'] = 'iPhone 5s'\n",
        "my_phone_dict['isAndroid'] = False\n",
        "my_phone_dict['screenSize'] = 4.3"
      ],
      "metadata": {
        "id": "7PQYoMNjFYPj"
      },
      "execution_count": 142,
      "outputs": []
    },
    {
      "cell_type": "code",
      "source": [
        "print(my_phone_dict)"
      ],
      "metadata": {
        "colab": {
          "base_uri": "https://localhost:8080/"
        },
        "id": "WU7FFHJoFnWu",
        "outputId": "7f2213b3-b4b4-48a6-bf43-3eac057ea6cf"
      },
      "execution_count": 143,
      "outputs": [
        {
          "output_type": "stream",
          "name": "stdout",
          "text": [
            "{'name': 'iPhone 5s', 'isAndroid': False, 'screenSize': 4.3}\n"
          ]
        }
      ]
    },
    {
      "cell_type": "code",
      "source": [
        "my_phone_dict['name']"
      ],
      "metadata": {
        "colab": {
          "base_uri": "https://localhost:8080/",
          "height": 0
        },
        "id": "SSg7yV55FtQU",
        "outputId": "7f9b5ac7-2602-43b3-8d05-151a7bcdbf96"
      },
      "execution_count": 144,
      "outputs": [
        {
          "output_type": "execute_result",
          "data": {
            "text/plain": [
              "'iPhone 5s'"
            ],
            "application/vnd.google.colaboratory.intrinsic+json": {
              "type": "string"
            }
          },
          "metadata": {},
          "execution_count": 144
        }
      ]
    },
    {
      "cell_type": "code",
      "source": [
        "print(my_phone_dict.keys())"
      ],
      "metadata": {
        "colab": {
          "base_uri": "https://localhost:8080/"
        },
        "id": "dCabgQXAGML4",
        "outputId": "a0c4322a-b922-4162-cff2-cb39c96431fb"
      },
      "execution_count": 145,
      "outputs": [
        {
          "output_type": "stream",
          "name": "stdout",
          "text": [
            "dict_keys(['name', 'isAndroid', 'screenSize'])\n"
          ]
        }
      ]
    },
    {
      "cell_type": "code",
      "source": [
        "print(my_phone_dict.values())"
      ],
      "metadata": {
        "colab": {
          "base_uri": "https://localhost:8080/"
        },
        "id": "9FlB-FhsGane",
        "outputId": "3f141bbb-ba1c-42ca-be48-7e2f02110b02"
      },
      "execution_count": 146,
      "outputs": [
        {
          "output_type": "stream",
          "name": "stdout",
          "text": [
            "dict_values(['iPhone 5s', False, 4.3])\n"
          ]
        }
      ]
    },
    {
      "cell_type": "code",
      "source": [
        "print(my_phone_dict.items())"
      ],
      "metadata": {
        "colab": {
          "base_uri": "https://localhost:8080/"
        },
        "id": "5GtbJ9OyGgV6",
        "outputId": "de9c4da5-404b-4986-8e54-54c6625e65eb"
      },
      "execution_count": 147,
      "outputs": [
        {
          "output_type": "stream",
          "name": "stdout",
          "text": [
            "dict_items([('name', 'iPhone 5s'), ('isAndroid', False), ('screenSize', 4.3)])\n"
          ]
        }
      ]
    },
    {
      "cell_type": "code",
      "source": [
        "for key in my_phone_dict.keys():\n",
        "  print(key, ':', my_phone_dict[key])"
      ],
      "metadata": {
        "colab": {
          "base_uri": "https://localhost:8080/"
        },
        "id": "3UjzKqNUGi53",
        "outputId": "21e139e5-400b-48f4-eddc-89834ef5c433"
      },
      "execution_count": 148,
      "outputs": [
        {
          "output_type": "stream",
          "name": "stdout",
          "text": [
            "name : iPhone 5s\n",
            "isAndroid : False\n",
            "screenSize : 4.3\n"
          ]
        }
      ]
    },
    {
      "cell_type": "code",
      "source": [],
      "metadata": {
        "id": "fxLMQ8tBGn3H"
      },
      "execution_count": 148,
      "outputs": []
    },
    {
      "cell_type": "markdown",
      "source": [
        "# Python Packages"
      ],
      "metadata": {
        "id": "QhkfYfzfQ6tD"
      }
    },
    {
      "cell_type": "code",
      "source": [
        "import math\n",
        "# https://docs.python.org/3/library/math.html"
      ],
      "metadata": {
        "id": "y-SIf0oBQ8jx"
      },
      "execution_count": 149,
      "outputs": []
    },
    {
      "cell_type": "code",
      "source": [
        "a = math.sqrt(100)"
      ],
      "metadata": {
        "id": "TIIpv9eARLKl"
      },
      "execution_count": 150,
      "outputs": []
    },
    {
      "cell_type": "code",
      "source": [
        "print(a)"
      ],
      "metadata": {
        "colab": {
          "base_uri": "https://localhost:8080/"
        },
        "id": "sd88cSgIRMsQ",
        "outputId": "9b9a6afb-4de0-4ec2-b705-7d03736ff07d"
      },
      "execution_count": 151,
      "outputs": [
        {
          "output_type": "stream",
          "name": "stdout",
          "text": [
            "10.0\n"
          ]
        }
      ]
    },
    {
      "cell_type": "code",
      "source": [
        "a = math.pow(100,0.5)\n",
        "print(a)"
      ],
      "metadata": {
        "colab": {
          "base_uri": "https://localhost:8080/"
        },
        "id": "KzT0x48bRNbS",
        "outputId": "e596c352-389c-443c-d4d4-fd9758ea9d43"
      },
      "execution_count": 152,
      "outputs": [
        {
          "output_type": "stream",
          "name": "stdout",
          "text": [
            "10.0\n"
          ]
        }
      ]
    },
    {
      "cell_type": "code",
      "source": [
        "x = 100\n",
        "y = 1\n",
        "for i in range(1,x):\n",
        "  y *= i\n",
        "print(\"Factorial of x is: \",y)"
      ],
      "metadata": {
        "colab": {
          "base_uri": "https://localhost:8080/"
        },
        "id": "WwjqXjY7RxtF",
        "outputId": "a9fdaaa5-2b5f-493f-b672-595348286ae4"
      },
      "execution_count": 153,
      "outputs": [
        {
          "output_type": "stream",
          "name": "stdout",
          "text": [
            "Factorial of x is:  933262154439441526816992388562667004907159682643816214685929638952175999932299156089414639761565182862536979208272237582511852109168640000000000000000000000\n"
          ]
        }
      ]
    },
    {
      "cell_type": "code",
      "source": [
        "y = math.factorial(x)"
      ],
      "metadata": {
        "id": "kFID672XuTmw"
      },
      "execution_count": 154,
      "outputs": []
    },
    {
      "cell_type": "code",
      "source": [
        "import math as m\n"
      ],
      "metadata": {
        "id": "zxVMeDM9ukwD"
      },
      "execution_count": 155,
      "outputs": []
    },
    {
      "cell_type": "code",
      "source": [
        "y = m.factorial(x)"
      ],
      "metadata": {
        "id": "wXHftATOumhP"
      },
      "execution_count": 156,
      "outputs": []
    },
    {
      "cell_type": "code",
      "source": [
        "from math import factorial\n"
      ],
      "metadata": {
        "id": "kG-hZzAhuolN"
      },
      "execution_count": 157,
      "outputs": []
    },
    {
      "cell_type": "code",
      "source": [
        "y = factorial(x)"
      ],
      "metadata": {
        "id": "UwbfxGzvur3W"
      },
      "execution_count": 158,
      "outputs": []
    },
    {
      "cell_type": "code",
      "source": [
        "vals = list(range(1,100))\n",
        "tic = time.time()\n",
        "for x in vals:\n",
        "  y = 1\n",
        "  for i in range(1,x):\n",
        "     y *= i\n",
        "toc = time.time()\n",
        "print(\"Elapsed time in seconds with own function\", toc - tic)\n",
        "\n",
        "\n",
        "tic = time.time()\n",
        "for x in vals:\n",
        "  y = math.factorial(x)\n",
        "toc = time.time()\n",
        "print(\"Elapsed time in secs with own function\", toc-tic)"
      ],
      "metadata": {
        "colab": {
          "base_uri": "https://localhost:8080/"
        },
        "id": "dwDdF6g6us7f",
        "outputId": "1b59bbfb-7b3c-4cbd-877e-77a79b8f1cf7"
      },
      "execution_count": 159,
      "outputs": [
        {
          "output_type": "stream",
          "name": "stdout",
          "text": [
            "Elapsed time in seconds with own function 0.0014891624450683594\n",
            "Elapsed time in secs with own function 0.00029659271240234375\n"
          ]
        }
      ]
    },
    {
      "cell_type": "code",
      "source": [],
      "metadata": {
        "id": "6Y4ZwTSKvD8H"
      },
      "execution_count": 159,
      "outputs": []
    },
    {
      "cell_type": "code",
      "source": [
        "!echo 'def hello():'> my_first_module.py\n",
        "!echo '    print(\"Hello, i am living in a different file!!!\")'>> my_first_module.py"
      ],
      "metadata": {
        "id": "a4dypobMwEvU"
      },
      "execution_count": 160,
      "outputs": []
    },
    {
      "cell_type": "code",
      "source": [
        "!cat my_first_module.py"
      ],
      "metadata": {
        "colab": {
          "base_uri": "https://localhost:8080/"
        },
        "id": "qGhHim2XwKqH",
        "outputId": "7d43f604-3d71-4866-dead-1494e8980963"
      },
      "execution_count": 161,
      "outputs": [
        {
          "output_type": "stream",
          "name": "stdout",
          "text": [
            "def hello():\n",
            "    print(\"Hello, i am living in a different file!!!\")\n"
          ]
        }
      ]
    },
    {
      "cell_type": "code",
      "source": [
        "import my_first_module"
      ],
      "metadata": {
        "id": "Pw-tZS_jwOa4"
      },
      "execution_count": 162,
      "outputs": []
    },
    {
      "cell_type": "code",
      "source": [
        "my_first_module.hello()"
      ],
      "metadata": {
        "colab": {
          "base_uri": "https://localhost:8080/"
        },
        "id": "R3saxS3rw1w4",
        "outputId": "292feb9b-b180-40ad-f93b-85308109830f"
      },
      "execution_count": 163,
      "outputs": [
        {
          "output_type": "stream",
          "name": "stdout",
          "text": [
            "Hello, i am living in a different file!!!\n"
          ]
        }
      ]
    },
    {
      "cell_type": "code",
      "source": [
        "from my_first_module import hello"
      ],
      "metadata": {
        "id": "fkf5VT8Yw4pC"
      },
      "execution_count": 164,
      "outputs": []
    },
    {
      "cell_type": "code",
      "source": [
        "hello()"
      ],
      "metadata": {
        "colab": {
          "base_uri": "https://localhost:8080/"
        },
        "id": "d0z2Nk8cxEKR",
        "outputId": "8a984807-98ae-40df-c76a-e092d4ec2c3b"
      },
      "execution_count": 165,
      "outputs": [
        {
          "output_type": "stream",
          "name": "stdout",
          "text": [
            "Hello, i am living in a different file!!!\n"
          ]
        }
      ]
    },
    {
      "cell_type": "code",
      "source": [],
      "metadata": {
        "id": "qQjRQ4H9xEr7"
      },
      "execution_count": 165,
      "outputs": []
    },
    {
      "cell_type": "markdown",
      "source": [
        "# File Handling in Python"
      ],
      "metadata": {
        "id": "Heg7IWNDxKET"
      }
    },
    {
      "cell_type": "code",
      "source": [
        "!wget https://drive.google.com/file/d/1bxJ8AtIA8e_YboEqyU2RSIx2FmIoIUs5/view?usp=sharing\n",
        "\n",
        "\n",
        "# !wget to access any link"
      ],
      "metadata": {
        "colab": {
          "base_uri": "https://localhost:8080/"
        },
        "id": "SfqpWw9txMCk",
        "outputId": "af715abe-bf70-41bd-defa-ed0cd1edbe90"
      },
      "execution_count": 166,
      "outputs": [
        {
          "output_type": "stream",
          "name": "stdout",
          "text": [
            "--2023-12-08 06:55:00--  https://drive.google.com/file/d/1bxJ8AtIA8e_YboEqyU2RSIx2FmIoIUs5/view?usp=sharing\n",
            "Resolving drive.google.com (drive.google.com)... 142.250.97.113, 142.250.97.100, 142.250.97.102, ...\n",
            "Connecting to drive.google.com (drive.google.com)|142.250.97.113|:443... connected.\n",
            "HTTP request sent, awaiting response... 200 OK\n",
            "Length: unspecified [text/html]\n",
            "Saving to: ‘view?usp=sharing’\n",
            "\n",
            "view?usp=sharing        [ <=>                ]  82.79K  --.-KB/s    in 0.004s  \n",
            "\n",
            "2023-12-08 06:55:00 (21.3 MB/s) - ‘view?usp=sharing’ saved [84782]\n",
            "\n"
          ]
        }
      ]
    },
    {
      "cell_type": "code",
      "source": [
        "!ls"
      ],
      "metadata": {
        "colab": {
          "base_uri": "https://localhost:8080/"
        },
        "id": "KbnWQ4OpxuYT",
        "outputId": "ad32dd4a-17ec-44c7-e5ab-3e8434509d5f"
      },
      "execution_count": 167,
      "outputs": [
        {
          "output_type": "stream",
          "name": "stdout",
          "text": [
            " mobile_cleaned-1549119762886.csv   __pycache__  'view?usp=sharing'\n",
            " my_first_module.py\t\t    sample_data\n"
          ]
        }
      ]
    },
    {
      "cell_type": "code",
      "source": [
        "file = open(\"mobile_cleaned-1549119762886.csv\",'r')"
      ],
      "metadata": {
        "id": "m6XrcphCxyr4"
      },
      "execution_count": 168,
      "outputs": []
    },
    {
      "cell_type": "code",
      "source": [
        "s = file.readline()"
      ],
      "metadata": {
        "id": "Wmn4JEn8ySCx"
      },
      "execution_count": 169,
      "outputs": []
    },
    {
      "cell_type": "code",
      "source": [
        "print(s)"
      ],
      "metadata": {
        "colab": {
          "base_uri": "https://localhost:8080/"
        },
        "id": "4LmIj33QyVee",
        "outputId": "5901adf5-f44c-4822-d49f-00f67edb0557"
      },
      "execution_count": 170,
      "outputs": [
        {
          "output_type": "stream",
          "name": "stdout",
          "text": [
            "sim_type,aperture,gpu_rank,weight,stand_by_time,processor_frequency,thickness,flash_type,front_camera_resolution,auto_focus,screen_size,frames_per_second,FM,no_of_reviews_in_gsmarena_in_week,os,phone_height,screen_protection,sim_size,price,talk_time,video_resolution,display_resolution,removable_battery,display_type,primary_camera_resolution,battery_type,ram_memory,internal_memory,brand_rank,no_of_cores,micro_sd_slot,screen_pixel_density,water_proof_rate,phone_width,expandable_memory,version,usb_type,battery_capacity,processor_rank,is_liked\n",
            "\n"
          ]
        }
      ]
    },
    {
      "cell_type": "code",
      "source": [
        "print(s.split(','))"
      ],
      "metadata": {
        "colab": {
          "base_uri": "https://localhost:8080/"
        },
        "id": "kd0NHqNsyWFm",
        "outputId": "788a3259-fc7c-418c-be26-5c9188aa1216"
      },
      "execution_count": 171,
      "outputs": [
        {
          "output_type": "stream",
          "name": "stdout",
          "text": [
            "['sim_type', 'aperture', 'gpu_rank', 'weight', 'stand_by_time', 'processor_frequency', 'thickness', 'flash_type', 'front_camera_resolution', 'auto_focus', 'screen_size', 'frames_per_second', 'FM', 'no_of_reviews_in_gsmarena_in_week', 'os', 'phone_height', 'screen_protection', 'sim_size', 'price', 'talk_time', 'video_resolution', 'display_resolution', 'removable_battery', 'display_type', 'primary_camera_resolution', 'battery_type', 'ram_memory', 'internal_memory', 'brand_rank', 'no_of_cores', 'micro_sd_slot', 'screen_pixel_density', 'water_proof_rate', 'phone_width', 'expandable_memory', 'version', 'usb_type', 'battery_capacity', 'processor_rank', 'is_liked\\n']\n"
          ]
        }
      ]
    },
    {
      "cell_type": "code",
      "source": [
        "file.close()"
      ],
      "metadata": {
        "id": "OY1x-VzeygUc"
      },
      "execution_count": 172,
      "outputs": []
    },
    {
      "cell_type": "code",
      "source": [
        "file.readline()"
      ],
      "metadata": {
        "colab": {
          "base_uri": "https://localhost:8080/",
          "height": 179
        },
        "id": "vhStYMhvypFp",
        "outputId": "d45bf2d1-9ba5-4d00-eab8-eadd46f090b7"
      },
      "execution_count": 173,
      "outputs": [
        {
          "output_type": "error",
          "ename": "ValueError",
          "evalue": "ignored",
          "traceback": [
            "\u001b[0;31m---------------------------------------------------------------------------\u001b[0m",
            "\u001b[0;31mValueError\u001b[0m                                Traceback (most recent call last)",
            "\u001b[0;32m<ipython-input-173-1ba352a1fd91>\u001b[0m in \u001b[0;36m<cell line: 1>\u001b[0;34m()\u001b[0m\n\u001b[0;32m----> 1\u001b[0;31m \u001b[0mfile\u001b[0m\u001b[0;34m.\u001b[0m\u001b[0mreadline\u001b[0m\u001b[0;34m(\u001b[0m\u001b[0;34m)\u001b[0m\u001b[0;34m\u001b[0m\u001b[0;34m\u001b[0m\u001b[0m\n\u001b[0m",
            "\u001b[0;31mValueError\u001b[0m: I/O operation on closed file."
          ]
        }
      ]
    },
    {
      "cell_type": "code",
      "source": [
        "with open(\"mobile_cleaned-1549119762886.csv\",'r') as file:\n",
        "  print(file.readline())"
      ],
      "metadata": {
        "colab": {
          "base_uri": "https://localhost:8080/"
        },
        "id": "voScdT1RyqOL",
        "outputId": "5d059927-8662-42bb-bf6a-385dab6c96d1"
      },
      "execution_count": 174,
      "outputs": [
        {
          "output_type": "stream",
          "name": "stdout",
          "text": [
            "sim_type,aperture,gpu_rank,weight,stand_by_time,processor_frequency,thickness,flash_type,front_camera_resolution,auto_focus,screen_size,frames_per_second,FM,no_of_reviews_in_gsmarena_in_week,os,phone_height,screen_protection,sim_size,price,talk_time,video_resolution,display_resolution,removable_battery,display_type,primary_camera_resolution,battery_type,ram_memory,internal_memory,brand_rank,no_of_cores,micro_sd_slot,screen_pixel_density,water_proof_rate,phone_width,expandable_memory,version,usb_type,battery_capacity,processor_rank,is_liked\n",
            "\n"
          ]
        }
      ]
    },
    {
      "cell_type": "code",
      "source": [
        "with open(\"mobile_cleaned-1549119762886.csv\",'r') as file:\n",
        "  print(file.read())"
      ],
      "metadata": {
        "colab": {
          "base_uri": "https://localhost:8080/"
        },
        "id": "OGRuo318y82i",
        "outputId": "2b324592-06d3-456b-b7d4-c81e443efeb0"
      },
      "execution_count": 175,
      "outputs": [
        {
          "output_type": "stream",
          "name": "stdout",
          "text": [
            "sim_type,aperture,gpu_rank,weight,stand_by_time,processor_frequency,thickness,flash_type,front_camera_resolution,auto_focus,screen_size,frames_per_second,FM,no_of_reviews_in_gsmarena_in_week,os,phone_height,screen_protection,sim_size,price,talk_time,video_resolution,display_resolution,removable_battery,display_type,primary_camera_resolution,battery_type,ram_memory,internal_memory,brand_rank,no_of_cores,micro_sd_slot,screen_pixel_density,water_proof_rate,phone_width,expandable_memory,version,usb_type,battery_capacity,processor_rank,is_liked\n",
            "0,12,55,155.0,250,1.3,10.5,5,2.0,0,4.5,15,3,0,0,132.9,26,3,3870,9,480,12,3,11,5.0,1,1,7,29,6,4,2,3,67.8,64.0,5,3,2000,125,1\n",
            "0,1,55,132.0,300,1.3,10.6,5,0.3,1,4.0,30,2,6,0,124.5,26,5,4059,9,720,15,3,11,5.0,1,1,7,11,6,4,4,6,64.0,32.0,5,3,2000,165,1\n",
            "0,9,55,142.0,329,1.5,8.5,5,2.0,3,5.0,30,2,20,0,145.5,4,3,4777,10,1080,4,3,1,5.04,2,1,7,27,6,4,9,6,72.0,32.0,6,3,2500,164,0\n",
            "0,8,55,152.0,385,1.3,8.0,5,2.0,3,5.0,15,3,0,0,147.5,26,3,5799,19,720,17,3,2,5.0,1,1,7,4,6,4,1,3,75.1,32.0,6,3,3000,165,1\n",
            "1,1,55,234.0,385,1.3,7.9,5,1.92,3,5.0,15,3,0,0,179.0,18,3,5990,11,720,17,3,1,5.0,1,1,7,4,6,4,1,6,91.0,32.0,6,3,3000,165,0\n",
            "0,14,55,179.0,280,1.3,7.9,5,5.0,3,5.5,30,3,6,0,150.0,5,3,5999,22,720,0,0,2,8.0,1,1,7,4,6,4,7,3,71.0,32.0,6,3,2900,165,0\n",
            "1,1,56,124.0,230,1.3,8.8,5,2.0,3,4.0,30,3,0,0,123.0,26,3,5999,11,1080,16,3,2,5.0,1,512,5,30,0,4,4,3,62.5,128.0,2,3,1700,163,1\n",
            "0,8,41,154.0,182,1.0,8.1,5,2.0,3,5.0,30,5,0,0,132.0,26,3,6599,7,720,4,3,2,8.0,0,2,2,4,6,4,9,3,78.0,32.0,6,3,2000,92,1\n",
            "1,8,41,214.0,182,1.0,8.2,5,2.0,3,5.0,30,3,39,0,172.0,18,3,6599,6,720,14,3,2,8.0,1,2,2,4,6,4,9,6,80.0,32.0,6,7,2000,92,1\n",
            "0,1,55,155.0,435,1.3,11.6,5,2.0,3,5.0,15,2,5,0,142.1,5,3,6649,9,720,4,1,2,8.0,1,2,7,4,6,4,9,6,72.4,32.0,5,3,3000,125,1\n",
            "0,1,55,169.0,514,1.3,7.9,2,2.0,3,5.0,30,3,5,0,152.0,26,3,6749,14,720,4,1,2,8.0,2,2,7,4,6,4,9,3,75.0,32.0,5,4,4000,126,1\n",
            "0,10,55,137.0,300,1.3,7.9,5,5.0,3,5.0,30,2,42,1,141.6,18,3,6990,15,720,3,3,7,8.0,1,1,7,2,6,3,9,6,70.0,128.0,0,3,2600,166,0\n",
            "0,1,50,135.0,280,1.4,8.0,7,5.0,3,5.3,30,3,10,0,148.0,26,3,6999,8,1080,4,3,2,13.0,1,1,7,20,4,4,8,2,74.0,32.0,4,3,2500,79,1\n",
            "0,11,43,133.0,198,1.2,9.0,5,2.0,3,4.7,30,2,139,0,134.0,5,3,6999,7,1080,14,3,2,8.0,2,2,2,6,6,4,11,6,67.0,32.0,4,8,2200,94,1\n",
            "0,8,41,142.0,200,1.3,8.9,5,5.0,3,5.0,30,3,94,0,140.8,21,3,6999,10,1080,4,1,2,13.0,1,3,2,18,6,6,9,6,70.4,32.0,6,3,2500,92,1\n",
            "1,10,41,131.0,680,1.3,8.7,5,5.0,3,5.0,30,1,10,0,140.1,1,11,6999,23,1080,14,1,1,13.0,1,2,2,30,6,2,9,3,68.9,256.0,6,3,2500,92,1\n",
            "1,10,47,152.0,576,1.2,8.6,5,5.0,3,5.0,30,3,28,3,144.0,26,3,7340,26,480,4,3,2,8.0,1,1,7,7,6,4,9,3,73.7,128.0,13,3,2200,132,1\n",
            "0,10,43,128.0,264,1.2,8.2,5,2.0,3,5.0,30,2,126,0,141.0,26,3,7499,13,720,4,3,1,8.0,2,2,2,11,6,4,9,6,70.0,32.0,4,3,2300,94,1\n",
            "0,10,41,130.0,180,1.3,8.4,5,2.0,3,4.5,30,3,0,0,69.0,18,3,7590,11,1080,4,3,7,5.0,1,1,7,2,6,6,5,6,136.5,128.0,6,7,2000,100,1\n",
            "0,10,43,143.0,160,1.2,8.2,5,5.0,3,5.0,30,3,142,0,142.4,6,3,7790,7,1080,4,3,2,8.0,1,2,2,17,6,6,9,3,73.0,32.0,5,3,2230,94,1\n",
            "0,1,55,152.0,450,1.2,9.4,2,5.0,3,5.0,30,2,0,0,143.0,5,3,7899,14,1080,4,1,2,8.0,1,2,7,4,6,4,9,6,71.8,32.0,6,3,4000,94,1\n",
            "0,10,34,140.0,264,1.5,8.0,5,5.0,3,5.5,30,5,184,0,152.6,26,3,7914,39,1080,4,3,2,8.0,2,2,7,11,4,4,7,3,76.2,32.0,5,3,2900,16,1\n",
            "2,1,38,125.0,354,1.3,7.6,5,5.0,3,5.0,30,5,10,0,144.6,14,11,7999,12,1080,9,1,2,13.0,2,3,4,27,4,2,23,6,72.0,128.0,6,5,2400,19,0\n",
            "3,1,43,97.0,345,1.2,5.1,5,5.0,3,4.8,30,3,0,0,141.9,5,9,8490,8,1080,14,1,0,8.0,2,2,2,4,6,2,10,2,68.1,0.0,5,3,2000,94,1\n",
            "0,10,29,150.0,322,1.5,8.2,5,5.0,3,5.0,30,3,113,0,142.0,2,12,8499,15,1080,9,3,2,13.0,2,2,2,11,4,6,23,6,71.0,32.0,6,4,2750,21,1\n",
            "0,8,43,202.0,914,1.2,10.6,2,5.0,3,5.5,30,4,34,0,156.0,18,3,8999,38,1080,4,1,2,13.0,2,2,2,16,6,6,7,6,77.5,64.0,5,4,5000,94,1\n",
            "0,8,43,170.0,456,1.2,10.8,2,5.0,3,5.5,30,2,189,0,152.5,7,3,8999,21,1080,9,3,2,13.0,2,2,2,16,6,4,7,6,77.2,128.0,5,3,3000,94,1\n",
            "0,8,38,155.0,350,1.3,9.3,5,5.0,3,5.5,30,3,122,0,151.0,18,3,8999,38,1080,4,1,2,13.0,1,2,2,18,4,6,7,6,77.0,64.0,6,4,3000,19,1\n",
            "0,1,44,160.0,617,1.7,9.6,5,5.0,3,5.0,30,3,0,0,150.1,26,12,9399,12,1080,4,3,9,8.0,2,1,7,5,4,4,9,3,72.7,32.0,5,3,2100,79,1\n",
            "0,10,43,185.0,775,1.2,9.4,5,5.0,3,5.5,30,2,87,0,154.0,26,3,9499,38,1080,4,3,2,13.0,2,2,2,6,6,4,7,6,78.7,32.0,4,3,3100,94,1\n",
            "0,8,55,141.0,218,1.2,7.6,5,8.0,3,5.0,30,2,9,0,142.7,26,10,9700,16,1080,18,1,11,8.0,3,1,2,10,6,4,3,6,71.7,128.0,1,3,2420,94,1\n",
            "0,8,34,150.0,270,1.7,8.0,2,5.0,3,5.5,30,2,0,0,152.6,19,3,9715,30,1080,1,3,1,13.0,1,2,2,11,4,4,16,6,76.2,32.0,5,3,2900,16,1\n",
            "0,8,43,155.0,250,1.4,11.6,2,5.0,3,5.0,30,2,760,0,142.1,5,3,9999,22,1080,4,1,2,13.0,1,2,2,3,6,4,9,7,72.4,32.0,6,3,2470,94,1\n",
            "0,10,28,164.0,264,1.4,8.7,2,5.0,3,5.5,30,2,420,0,150.0,26,3,9999,20,1080,9,1,2,16.0,2,2,4,6,2,1,16,6,76.0,0.0,6,3,4050,12,1\n",
            "0,10,28,164.0,265,1.4,8.7,2,5.0,3,5.5,30,2,420,0,150.0,18,3,9999,20,1080,9,1,2,16.0,2,2,4,6,2,3,16,6,76.0,0.0,6,3,4050,12,1\n",
            "0,8,34,150.0,750,1.7,8.0,2,5.0,3,5.5,30,3,608,0,152.6,26,3,9999,36,1080,9,3,2,13.0,1,2,2,11,4,6,16,6,76.2,32.0,5,4,3000,90,1\n",
            "0,10,34,138.0,521,1.7,8.2,5,5.0,3,5.0,30,3,20,0,146.9,26,9,9999,23,1080,4,3,2,13.0,2,1,7,5,4,4,9,6,70.9,32.0,4,3,2000,16,1\n",
            "1,10,38,149.0,360,1.3,8.7,2,5.0,3,5.5,30,1,0,0,150.9,1,11,9999,20,1080,9,1,2,13.0,6,2,4,30,4,4,18,3,75.2,128.0,5,3,3100,19,1\n",
            "2,0,27,128.0,490,1.7,8.8,5,5.0,3,5.0,30,3,0,0,140.8,18,11,9999,12,720,5,2,2,13.0,6,3,2,4,9,4,9,3,70.4,32.0,6,3,2100,19,0\n",
            "0,4,41,172.0,350,1.2,8.2,5,5.0,3,5.5,30,5,0,0,151.8,18,3,10190,21,1080,4,3,12,13.0,1,2,7,2,6,6,7,6,77.5,128.0,6,3,3000,94,1\n",
            "0,1,38,143.0,275,1.3,8.5,5,5.0,3,5.2,30,3,21,0,148.0,18,3,10899,10,1080,9,1,2,13.0,2,3,2,4,4,5,20,6,73.6,0.0,6,3,2900,90,1\n",
            "0,8,28,169.0,496,2.2,7.5,5,5.0,3,5.5,30,1,26,0,151.1,17,2,10999,20,2160,9,1,2,13.0,2,3,4,19,4,1,9,6,74.2,0.0,8,1,3000,14,1\n",
            "0,8,34,149.0,696,1.7,8.9,5,5.0,3,5.0,30,3,43,0,142.0,26,3,11090,46,1080,4,1,2,13.0,2,2,2,11,4,4,9,3,71.8,32.0,4,4,4000,16,1\n",
            "0,8,41,153.2,261,1.3,8.3,2,8.0,3,5.5,30,3,0,0,151.9,5,3,11299,28,1080,0,3,2,13.0,2,3,2,14,6,4,7,3,76.7,32.0,6,3,3000,92,1\n",
            "0,8,29,130.0,384,1.7,7.8,2,5.0,3,5.0,30,3,385,0,138.1,13,0,11999,35,1080,1,1,2,13.0,1,2,2,6,4,2,23,6,69.6,0.0,5,3,3120,22,1\n",
            "0,10,38,160.0,265,1.3,9.2,2,5.0,3,5.5,30,2,1016,0,153.6,18,3,11999,22,1080,9,1,2,13.0,2,3,2,11,2,3,17,6,76.5,128.0,6,3,3300,12,1\n",
            "0,10,29,155.0,342,1.5,11.6,2,5.0,3,5.0,30,3,0,0,142.1,5,0,12499,28,1080,4,1,12,13.0,1,2,2,3,4,4,34,5,72.4,32.0,6,2,2470,22,1\n",
            "0,13,34,138.0,761,1.7,8.2,5,5.0,3,5.0,30,4,2,0,146.9,18,11,13349,30,1080,3,1,2,13.0,1,2,2,5,4,3,9,6,70.9,32.0,4,3,2000,16,1\n",
            "0,3,41,148.0,566,1.0,9.3,5,5.0,3,5.0,30,2,0,0,141.0,5,3,13349,16,720,4,1,2,8.0,2,2,2,11,6,3,9,6,71.8,32.0,6,3,4000,92,1\n",
            "0,8,29,155.0,620,1.5,9.8,2,5.0,3,5.5,30,3,671,0,153.0,5,3,13499,24,1080,9,4,1,16.0,2,3,3,3,9,4,16,3,76.6,128.0,9,3,3000,72,1\n",
            "0,7,29,171.0,354,1.6,7.5,5,5.0,3,5.5,30,2,73,0,152.4,26,3,13990,23,1080,4,3,7,13.0,1,2,0,2,4,3,16,6,78.6,128.0,6,3,3000,72,1\n",
            "0,8,28,150.0,337,2.0,8.7,5,5.0,3,5.5,30,2,25,0,156.8,5,4,13999,9,1080,9,1,2,13.0,1,4,2,4,4,3,16,6,78.1,64.0,6,3,3000,14,1\n",
            "0,10,30,170.0,354,1.6,7.8,2,5.0,3,5.5,30,2,301,0,151.7,18,3,14249,23,1080,9,3,7,13.0,1,3,2,2,4,3,16,6,76.0,128.0,9,3,3300,72,1\n",
            "0,9,43,141.0,345,1.2,7.3,6,5.0,4,5.5,30,5,0,0,151.3,7,11,14300,18,1080,4,4,7,13.0,1,2,2,2,11,4,7,3,77.2,64.0,4,3,2950,94,0\n",
            "0,1,44,154.5,560,1.7,7.7,5,8.0,3,5.5,30,2,12,0,157.7,26,9,14614,12,1080,4,1,2,13.0,2,1,2,5,4,4,7,6,78.7,32.0,4,3,2600,79,1\n",
            "1,1,44,171.8,1093,1.4,7.7,5,1.1,3,6.0,30,3,24,0,165.2,26,3,14880,30,1080,4,1,11,13.0,1,1,7,8,6,4,6,6,83.8,32.0,3,3,3000,129,1\n",
            "1,10,29,229.0,480,1.5,7.6,4,5.0,3,6.8,30,3,0,0,186.6,18,3,14990,24,1080,1,1,1,13.0,2,2,4,11,4,4,12,6,96.6,64.0,5,3,3500,22,1\n",
            "0,10,16,160.0,200,2.3,6.9,5,8.0,3,5.0,30,3,175,0,140.0,5,9,14999,24,1080,9,1,0,13.0,2,3,2,12,6,1,23,6,69.0,0.0,6,4,2525,15,1\n",
            "3,6,16,149.0,280,2.5,8.9,5,8.0,3,5.0,30,2,33,0,139.2,26,3,14999,18,2160,1,1,2,13.0,1,3,2,6,6,2,23,6,68.5,0.0,4,3,3080,15,1\n",
            "3,3,16,144.0,250,2.5,10.0,2,13.0,3,5.2,30,4,188,0,140.8,5,11,14999,24,2160,9,1,5,13.0,1,2,2,3,6,1,20,4,72.4,0.0,4,3,2300,15,1\n",
            "2,10,16,175.0,840,2.5,8.9,3,8.0,3,5.5,30,1,6,0,155.7,15,11,15689,48,1080,9,1,4,13.0,2,3,6,11,6,0,16,3,77.3,0.0,6,14,4100,15,0\n",
            "0,8,29,134.0,380,1.7,7.3,5,8.0,3,5.0,30,1,0,0,143.5,8,2,15950,20,1080,9,1,2,13.0,1,3,2,10,4,3,9,6,71.0,128.0,6,3,2500,21,1\n",
            "0,7,30,170.0,354,1.6,7.8,5,5.0,3,5.5,30,3,301,0,151.7,26,3,15990,23,1080,0,3,7,13.0,1,3,2,2,4,4,7,6,76.0,32.0,9,3,3300,72,1\n",
            "0,13,29,189.0,600,1.5,9.9,2,5.0,3,5.5,30,2,137,0,152.9,5,11,15999,44,1080,9,1,2,13.0,2,2,4,11,4,3,16,6,75.6,128.0,6,3,5000,22,1\n",
            "3,10,15,130.0,370,1.6,7.9,5,2.0,3,5.0,30,1,347,0,136.6,5,3,16999,17,1080,9,3,7,13.0,1,2,2,2,4,4,23,3,69.8,64.0,2,10,2600,20,1\n",
            "0,10,29,145.0,456,1.7,7.3,2,8.0,3,5.0,30,2,22,0,142.0,5,3,17810,21,1080,1,1,2,16.0,2,3,4,11,4,4,23,6,70.0,128.0,5,3,3000,22,1\n",
            "0,8,29,169.0,330,1.7,10.9,2,5.0,3,5.5,30,2,48,0,148.0,5,11,18499,18,1080,9,1,2,21.0,1,2,4,3,6,4,16,7,75.0,128.0,6,3,3630,22,1\n",
            "1,8,29,135.0,488,1.5,7.3,5,5.0,3,5.0,30,3,0,0,145.5,21,9,18798,13,1080,6,1,2,13.0,1,2,2,8,6,4,9,0,72.6,128.0,5,3,2400,22,1\n",
            "0,10,34,147.0,682,1.7,7.9,5,5.0,3,5.5,30,3,0,0,150.3,20,9,19000,11,1080,1,1,3,13.0,1,2,2,8,4,4,0,3,77.4,128.0,5,7,2600,16,1\n",
            "0,8,38,150.0,420,1.5,8.0,5,4.0,3,5.5,30,3,18,0,157.7,26,9,19490,12,1080,9,1,2,13.0,2,2,2,5,4,4,16,3,78.9,2048.0,6,3,2800,19,1\n",
            "0,10,34,165.0,170,1.5,7.6,5,4.0,3,5.5,30,1,13,0,157.7,26,9,19890,7,1080,4,3,2,13.0,6,2,2,5,4,4,7,3,79.7,128.0,5,3,2600,16,1\n",
            "3,8,16,162.0,360,2.5,8.9,2,5.0,3,5.5,30,4,22,0,152.9,5,3,19999,38,2160,9,1,2,13.0,2,3,6,12,6,1,16,6,75.9,0.0,4,4,3100,15,1\n",
            "3,10,17,112.0,250,1.3,7.6,2,1.2,3,4.0,30,1,1304,2,123.8,12,11,20397,10,1080,2,1,2,8.0,2,1,2,1,0,1,13,6,58.6,0.0,11,13,1560,13,1\n",
            "0,8,29,183.0,687,1.7,8.0,5,4.0,3,5.5,30,2,131,0,158.0,26,11,21300,19,1080,9,1,9,13.0,2,2,2,5,4,4,16,6,77.5,128.0,5,3,2600,22,1\n",
            "3,10,16,145.0,390,1.9,8.1,5,2.0,3,5.1,30,1,22,0,142.0,5,9,21999,21,2160,1,3,7,16.0,1,2,2,2,6,4,22,7,72.5,128.0,4,9,2800,15,0\n",
            "0,8,34,187.0,635,1.7,8.2,5,13.0,3,6.0,30,3,26,0,164.2,20,9,21999,13,1080,1,1,2,13.0,1,2,2,8,4,4,14,3,79.6,200.0,5,3,2930,16,1\n",
            "0,8,9,175.0,360,1.8,9.9,2,5.0,3,5.5,30,4,100,0,151.8,5,9,22999,38,2160,9,1,2,13.0,2,4,6,12,6,1,16,6,74.9,0.0,6,12,3300,5,1\n",
            "1,8,24,157.0,620,2.2,8.5,1,8.0,3,5.2,30,3,29,0,143.2,26,9,22999,23,1080,9,4,2,20.0,2,3,2,15,4,4,20,6,71.9,128.0,5,3,3100,11,0\n",
            "0,8,14,175.0,618,1.8,9.3,2,8.0,4,5.5,30,2,0,0,154.0,5,11,24499,31,2160,9,4,1,21.0,4,3,6,11,8,6,16,6,76.5,0.0,6,3,3600,8,0\n",
            "3,7,41,155.0,180,1.6,7.1,5,5.0,3,5.2,30,3,75,0,144.8,7,9,24900,16,1080,1,0,7,13.0,2,2,2,2,4,4,20,3,71.0,128.0,6,3,2900,72,1\n",
            "1,8,3,129.0,598,1.8,7.3,2,4.0,3,5.15,30,1,0,0,144.6,7,9,24999,27,2160,1,1,2,16.0,2,4,4,6,6,2,21,6,69.2,0.0,9,0,3000,2,0\n",
            "4,8,14,179.0,410,1.8,11.1,0,5.0,3,5.7,30,1,4,0,153.9,5,9,24999,19,2160,10,4,12,21.0,1,3,6,3,8,4,26,6,76.2,128.0,6,3,3000,3,1\n",
            "3,8,9,144.0,590,2.0,6.9,5,2.2,3,5.2,30,2,126,0,146.0,25,3,25500,17,2160,1,1,1,20.7,1,3,4,8,6,4,20,7,72.0,128.0,5,3,2930,5,1\n",
            "1,10,28,142.6,504,2.0,7.6,5,13.0,3,5.0,30,3,69,0,145.0,21,9,25500,12,216,1,1,2,21.2,1,3,2,8,4,4,23,1,72.0,200.0,5,3,2600,14,0\n",
            "0,10,25,145.0,250,2.0,6.6,5,16.0,3,5.5,30,4,19,0,151.8,7,11,27580,24,1080,9,1,0,13.0,2,4,6,10,4,3,16,6,74.3,128.0,6,3,2850,90,1\n",
            "3,10,11,176.0,200,2.7,8.5,5,3.7,3,5.7,30,1,226,0,153.5,0,3,29900,20,216,10,3,7,16.0,1,3,4,2,6,4,24,6,78.6,128.0,4,3,3220,9,1\n",
            "0,10,21,168.0,420,2.3,8.3,5,2.0,3,5.7,30,0,502,0,151.2,5,3,29990,21,2160,9,3,7,13.0,1,3,4,2,6,4,15,3,79.2,64.0,3,9,3200,52,1\n",
            "4,6,14,155.0,410,1.8,6.3,2,8.0,3,5.5,30,3,0,0,148.9,10,9,30947,19,2160,10,5,1,16.0,1,3,4,9,8,4,28,6,76.1,2048.0,6,3,3000,8,1\n",
            "3,8,9,178.0,440,2.0,7.3,2,8.0,3,5.7,30,1,87,0,159.3,11,9,31999,23,2160,8,1,0,12.3,2,3,4,15,4,2,25,6,77.8,0.0,9,3,3450,5,1\n",
            "3,7,8,138.0,354,2.1,6.8,2,5.0,3,5.1,30,1,349,0,143.4,7,9,33900,17,2160,10,1,7,16.0,1,3,4,2,6,2,31,3,70.5,0.0,5,3,2550,4,1\n",
            "3,8,9,169.0,500,2.0,9.2,2,5.0,3,5.4,30,4,22,0,149.8,23,11,34999,25,2160,10,1,0,21.0,1,3,4,3,6,1,29,6,78.0,0.0,7,3,3760,5,0\n",
            "3,10,6,113.0,240,1.84,7.6,2,1.2,3,4.0,30,1,0,2,123.8,3,6,34999,14,2160,13,1,1,12.0,2,1,2,1,1,2,13,6,58.6,0.0,14,13,1624,1,0\n",
            "4,8,14,136.0,360,1.8,7.9,1,5.0,3,5.2,30,1,24,0,147.0,5,9,35900,14,2160,9,4,2,12.3,4,2,2,9,8,2,19,6,72.6,0.0,9,11,2700,8,1\n",
            "3,10,12,129.0,250,1.4,6.9,2,1.3,3,4.7,60,1,410,2,138.1,16,9,36499,14,1080,7,1,2,8.0,2,1,2,1,0,2,13,3,67.0,0.0,12,6,1810,7,1\n",
            "3,10,12,129.0,250,1.4,6.9,2,1.2,3,4.7,60,4,39,2,138.1,16,11,36999,14,1080,9,1,2,8.0,2,1,2,1,0,1,13,6,67.0,0.0,12,13,1810,7,1\n",
            "3,10,28,168.0,580,2.2,9.6,2,4.0,3,5.2,30,3,11,0,151.0,7,7,37766,20,2160,10,4,10,20.0,4,3,4,5,10,4,30,6,72.0,256.0,5,3,2840,56,0\n",
            "3,12,16,149.0,410,2.5,8.9,3,2.1,3,5.5,30,3,0,0,146.3,5,1,38000,19,2160,10,3,1,13.0,5,3,4,9,7,4,28,6,74.6,32.0,4,3,3000,15,1\n",
            "0,8,9,154.0,340,2.0,7.3,6,5.0,2,5.2,30,3,9,0,146.0,24,7,39890,13,2160,9,4,1,23.0,4,3,4,8,5,6,20,1,72.0,256.0,6,3,2900,5,1\n",
            "3,2,8,132.0,362,1.5,7.0,5,5.0,4,5.1,30,1,0,0,142.1,9,7,40900,14,2160,10,1,7,16.0,1,3,4,2,7,4,32,6,70.1,64.0,5,3,2600,4,1\n",
            "3,10,12,129.0,250,1.4,6.9,2,1.2,3,4.7,60,4,39,2,138.1,16,11,48329,14,1080,7,1,2,8.0,2,1,6,1,0,1,13,6,67.0,0.0,12,13,1810,7,1\n",
            "0,5,3,152.0,242,2.3,7.9,5,5.0,3,5.1,30,4,150,0,142.4,7,9,48900,22,2160,10,1,8,12.0,1,4,4,2,6,6,32,1,69.6,200.0,9,3,3000,101,1\n",
            "3,10,6,143.0,240,1.8,7.1,2,5.0,3,4.7,30,4,100,2,138.3,16,11,49499,14,2160,7,1,2,12.0,2,2,2,1,0,1,13,6,67.1,0.0,14,13,1715,1,1\n",
            "0,7,43,171.0,330,2.1,7.6,5,5.0,3,5.7,30,1,107,0,153.2,7,9,50895,22,2160,8,1,7,16.0,2,4,4,2,4,2,25,6,76.1,0.0,6,3,3450,4,1\n",
            "3,8,9,180.0,600,2.0,7.8,6,5.0,2,5.5,30,3,0,0,154.4,22,7,52699,19,2160,11,4,2,23.0,4,3,4,8,12,6,33,1,75.8,256.0,6,3,3430,5,1\n",
            "3,10,14,192.0,540,1.8,9.4,2,2.0,2,5.4,30,1,0,0,147.0,26,7,54900,15,2160,10,4,0,18.0,4,3,4,25,3,4,29,6,77.2,256.0,6,3,3410,8,1\n",
            "0,5,3,157.0,400,2.3,7.7,5,5.0,3,5.5,30,4,144,0,150.9,7,9,56900,27,2160,10,1,8,12.0,1,4,4,2,6,6,27,1,72.6,200.0,9,3,3600,101,1\n",
            "3,10,6,192.0,384,1.8,7.3,2,5.0,3,5.5,30,4,81,2,158.2,16,11,59000,24,2160,7,1,2,12.0,2,2,2,1,0,1,16,6,77.9,0.0,14,13,2750,1,1\n",
            "3,10,12,129.0,250,1.4,6.9,2,1.2,3,4.7,60,4,39,2,138.1,16,11,64500,14,1080,7,1,2,8.0,2,1,1,1,0,1,13,6,67.0,0.0,12,13,1810,7,1\n",
            "2,8,3,158.0,400,2.2,7.4,6,8.0,3,5.5,30,1,0,0,152.7,7,8,27999,40,2160,9,1,6,16.0,4,6,6,12,6,5,16,6,74.7,0.0,10,12,3000,2,0\n",
            "\n"
          ]
        }
      ]
    },
    {
      "cell_type": "code",
      "source": [
        "# with loop\n",
        "with open(\"mobile_cleaned-1549119762886.csv\",'r') as file:\n",
        "  for line in file:\n",
        "    print(line)"
      ],
      "metadata": {
        "colab": {
          "base_uri": "https://localhost:8080/"
        },
        "id": "0QB44azOzGXH",
        "outputId": "8caacfda-46aa-46f3-f988-0953a5706cfb"
      },
      "execution_count": 176,
      "outputs": [
        {
          "output_type": "stream",
          "name": "stdout",
          "text": [
            "sim_type,aperture,gpu_rank,weight,stand_by_time,processor_frequency,thickness,flash_type,front_camera_resolution,auto_focus,screen_size,frames_per_second,FM,no_of_reviews_in_gsmarena_in_week,os,phone_height,screen_protection,sim_size,price,talk_time,video_resolution,display_resolution,removable_battery,display_type,primary_camera_resolution,battery_type,ram_memory,internal_memory,brand_rank,no_of_cores,micro_sd_slot,screen_pixel_density,water_proof_rate,phone_width,expandable_memory,version,usb_type,battery_capacity,processor_rank,is_liked\n",
            "\n",
            "0,12,55,155.0,250,1.3,10.5,5,2.0,0,4.5,15,3,0,0,132.9,26,3,3870,9,480,12,3,11,5.0,1,1,7,29,6,4,2,3,67.8,64.0,5,3,2000,125,1\n",
            "\n",
            "0,1,55,132.0,300,1.3,10.6,5,0.3,1,4.0,30,2,6,0,124.5,26,5,4059,9,720,15,3,11,5.0,1,1,7,11,6,4,4,6,64.0,32.0,5,3,2000,165,1\n",
            "\n",
            "0,9,55,142.0,329,1.5,8.5,5,2.0,3,5.0,30,2,20,0,145.5,4,3,4777,10,1080,4,3,1,5.04,2,1,7,27,6,4,9,6,72.0,32.0,6,3,2500,164,0\n",
            "\n",
            "0,8,55,152.0,385,1.3,8.0,5,2.0,3,5.0,15,3,0,0,147.5,26,3,5799,19,720,17,3,2,5.0,1,1,7,4,6,4,1,3,75.1,32.0,6,3,3000,165,1\n",
            "\n",
            "1,1,55,234.0,385,1.3,7.9,5,1.92,3,5.0,15,3,0,0,179.0,18,3,5990,11,720,17,3,1,5.0,1,1,7,4,6,4,1,6,91.0,32.0,6,3,3000,165,0\n",
            "\n",
            "0,14,55,179.0,280,1.3,7.9,5,5.0,3,5.5,30,3,6,0,150.0,5,3,5999,22,720,0,0,2,8.0,1,1,7,4,6,4,7,3,71.0,32.0,6,3,2900,165,0\n",
            "\n",
            "1,1,56,124.0,230,1.3,8.8,5,2.0,3,4.0,30,3,0,0,123.0,26,3,5999,11,1080,16,3,2,5.0,1,512,5,30,0,4,4,3,62.5,128.0,2,3,1700,163,1\n",
            "\n",
            "0,8,41,154.0,182,1.0,8.1,5,2.0,3,5.0,30,5,0,0,132.0,26,3,6599,7,720,4,3,2,8.0,0,2,2,4,6,4,9,3,78.0,32.0,6,3,2000,92,1\n",
            "\n",
            "1,8,41,214.0,182,1.0,8.2,5,2.0,3,5.0,30,3,39,0,172.0,18,3,6599,6,720,14,3,2,8.0,1,2,2,4,6,4,9,6,80.0,32.0,6,7,2000,92,1\n",
            "\n",
            "0,1,55,155.0,435,1.3,11.6,5,2.0,3,5.0,15,2,5,0,142.1,5,3,6649,9,720,4,1,2,8.0,1,2,7,4,6,4,9,6,72.4,32.0,5,3,3000,125,1\n",
            "\n",
            "0,1,55,169.0,514,1.3,7.9,2,2.0,3,5.0,30,3,5,0,152.0,26,3,6749,14,720,4,1,2,8.0,2,2,7,4,6,4,9,3,75.0,32.0,5,4,4000,126,1\n",
            "\n",
            "0,10,55,137.0,300,1.3,7.9,5,5.0,3,5.0,30,2,42,1,141.6,18,3,6990,15,720,3,3,7,8.0,1,1,7,2,6,3,9,6,70.0,128.0,0,3,2600,166,0\n",
            "\n",
            "0,1,50,135.0,280,1.4,8.0,7,5.0,3,5.3,30,3,10,0,148.0,26,3,6999,8,1080,4,3,2,13.0,1,1,7,20,4,4,8,2,74.0,32.0,4,3,2500,79,1\n",
            "\n",
            "0,11,43,133.0,198,1.2,9.0,5,2.0,3,4.7,30,2,139,0,134.0,5,3,6999,7,1080,14,3,2,8.0,2,2,2,6,6,4,11,6,67.0,32.0,4,8,2200,94,1\n",
            "\n",
            "0,8,41,142.0,200,1.3,8.9,5,5.0,3,5.0,30,3,94,0,140.8,21,3,6999,10,1080,4,1,2,13.0,1,3,2,18,6,6,9,6,70.4,32.0,6,3,2500,92,1\n",
            "\n",
            "1,10,41,131.0,680,1.3,8.7,5,5.0,3,5.0,30,1,10,0,140.1,1,11,6999,23,1080,14,1,1,13.0,1,2,2,30,6,2,9,3,68.9,256.0,6,3,2500,92,1\n",
            "\n",
            "1,10,47,152.0,576,1.2,8.6,5,5.0,3,5.0,30,3,28,3,144.0,26,3,7340,26,480,4,3,2,8.0,1,1,7,7,6,4,9,3,73.7,128.0,13,3,2200,132,1\n",
            "\n",
            "0,10,43,128.0,264,1.2,8.2,5,2.0,3,5.0,30,2,126,0,141.0,26,3,7499,13,720,4,3,1,8.0,2,2,2,11,6,4,9,6,70.0,32.0,4,3,2300,94,1\n",
            "\n",
            "0,10,41,130.0,180,1.3,8.4,5,2.0,3,4.5,30,3,0,0,69.0,18,3,7590,11,1080,4,3,7,5.0,1,1,7,2,6,6,5,6,136.5,128.0,6,7,2000,100,1\n",
            "\n",
            "0,10,43,143.0,160,1.2,8.2,5,5.0,3,5.0,30,3,142,0,142.4,6,3,7790,7,1080,4,3,2,8.0,1,2,2,17,6,6,9,3,73.0,32.0,5,3,2230,94,1\n",
            "\n",
            "0,1,55,152.0,450,1.2,9.4,2,5.0,3,5.0,30,2,0,0,143.0,5,3,7899,14,1080,4,1,2,8.0,1,2,7,4,6,4,9,6,71.8,32.0,6,3,4000,94,1\n",
            "\n",
            "0,10,34,140.0,264,1.5,8.0,5,5.0,3,5.5,30,5,184,0,152.6,26,3,7914,39,1080,4,3,2,8.0,2,2,7,11,4,4,7,3,76.2,32.0,5,3,2900,16,1\n",
            "\n",
            "2,1,38,125.0,354,1.3,7.6,5,5.0,3,5.0,30,5,10,0,144.6,14,11,7999,12,1080,9,1,2,13.0,2,3,4,27,4,2,23,6,72.0,128.0,6,5,2400,19,0\n",
            "\n",
            "3,1,43,97.0,345,1.2,5.1,5,5.0,3,4.8,30,3,0,0,141.9,5,9,8490,8,1080,14,1,0,8.0,2,2,2,4,6,2,10,2,68.1,0.0,5,3,2000,94,1\n",
            "\n",
            "0,10,29,150.0,322,1.5,8.2,5,5.0,3,5.0,30,3,113,0,142.0,2,12,8499,15,1080,9,3,2,13.0,2,2,2,11,4,6,23,6,71.0,32.0,6,4,2750,21,1\n",
            "\n",
            "0,8,43,202.0,914,1.2,10.6,2,5.0,3,5.5,30,4,34,0,156.0,18,3,8999,38,1080,4,1,2,13.0,2,2,2,16,6,6,7,6,77.5,64.0,5,4,5000,94,1\n",
            "\n",
            "0,8,43,170.0,456,1.2,10.8,2,5.0,3,5.5,30,2,189,0,152.5,7,3,8999,21,1080,9,3,2,13.0,2,2,2,16,6,4,7,6,77.2,128.0,5,3,3000,94,1\n",
            "\n",
            "0,8,38,155.0,350,1.3,9.3,5,5.0,3,5.5,30,3,122,0,151.0,18,3,8999,38,1080,4,1,2,13.0,1,2,2,18,4,6,7,6,77.0,64.0,6,4,3000,19,1\n",
            "\n",
            "0,1,44,160.0,617,1.7,9.6,5,5.0,3,5.0,30,3,0,0,150.1,26,12,9399,12,1080,4,3,9,8.0,2,1,7,5,4,4,9,3,72.7,32.0,5,3,2100,79,1\n",
            "\n",
            "0,10,43,185.0,775,1.2,9.4,5,5.0,3,5.5,30,2,87,0,154.0,26,3,9499,38,1080,4,3,2,13.0,2,2,2,6,6,4,7,6,78.7,32.0,4,3,3100,94,1\n",
            "\n",
            "0,8,55,141.0,218,1.2,7.6,5,8.0,3,5.0,30,2,9,0,142.7,26,10,9700,16,1080,18,1,11,8.0,3,1,2,10,6,4,3,6,71.7,128.0,1,3,2420,94,1\n",
            "\n",
            "0,8,34,150.0,270,1.7,8.0,2,5.0,3,5.5,30,2,0,0,152.6,19,3,9715,30,1080,1,3,1,13.0,1,2,2,11,4,4,16,6,76.2,32.0,5,3,2900,16,1\n",
            "\n",
            "0,8,43,155.0,250,1.4,11.6,2,5.0,3,5.0,30,2,760,0,142.1,5,3,9999,22,1080,4,1,2,13.0,1,2,2,3,6,4,9,7,72.4,32.0,6,3,2470,94,1\n",
            "\n",
            "0,10,28,164.0,264,1.4,8.7,2,5.0,3,5.5,30,2,420,0,150.0,26,3,9999,20,1080,9,1,2,16.0,2,2,4,6,2,1,16,6,76.0,0.0,6,3,4050,12,1\n",
            "\n",
            "0,10,28,164.0,265,1.4,8.7,2,5.0,3,5.5,30,2,420,0,150.0,18,3,9999,20,1080,9,1,2,16.0,2,2,4,6,2,3,16,6,76.0,0.0,6,3,4050,12,1\n",
            "\n",
            "0,8,34,150.0,750,1.7,8.0,2,5.0,3,5.5,30,3,608,0,152.6,26,3,9999,36,1080,9,3,2,13.0,1,2,2,11,4,6,16,6,76.2,32.0,5,4,3000,90,1\n",
            "\n",
            "0,10,34,138.0,521,1.7,8.2,5,5.0,3,5.0,30,3,20,0,146.9,26,9,9999,23,1080,4,3,2,13.0,2,1,7,5,4,4,9,6,70.9,32.0,4,3,2000,16,1\n",
            "\n",
            "1,10,38,149.0,360,1.3,8.7,2,5.0,3,5.5,30,1,0,0,150.9,1,11,9999,20,1080,9,1,2,13.0,6,2,4,30,4,4,18,3,75.2,128.0,5,3,3100,19,1\n",
            "\n",
            "2,0,27,128.0,490,1.7,8.8,5,5.0,3,5.0,30,3,0,0,140.8,18,11,9999,12,720,5,2,2,13.0,6,3,2,4,9,4,9,3,70.4,32.0,6,3,2100,19,0\n",
            "\n",
            "0,4,41,172.0,350,1.2,8.2,5,5.0,3,5.5,30,5,0,0,151.8,18,3,10190,21,1080,4,3,12,13.0,1,2,7,2,6,6,7,6,77.5,128.0,6,3,3000,94,1\n",
            "\n",
            "0,1,38,143.0,275,1.3,8.5,5,5.0,3,5.2,30,3,21,0,148.0,18,3,10899,10,1080,9,1,2,13.0,2,3,2,4,4,5,20,6,73.6,0.0,6,3,2900,90,1\n",
            "\n",
            "0,8,28,169.0,496,2.2,7.5,5,5.0,3,5.5,30,1,26,0,151.1,17,2,10999,20,2160,9,1,2,13.0,2,3,4,19,4,1,9,6,74.2,0.0,8,1,3000,14,1\n",
            "\n",
            "0,8,34,149.0,696,1.7,8.9,5,5.0,3,5.0,30,3,43,0,142.0,26,3,11090,46,1080,4,1,2,13.0,2,2,2,11,4,4,9,3,71.8,32.0,4,4,4000,16,1\n",
            "\n",
            "0,8,41,153.2,261,1.3,8.3,2,8.0,3,5.5,30,3,0,0,151.9,5,3,11299,28,1080,0,3,2,13.0,2,3,2,14,6,4,7,3,76.7,32.0,6,3,3000,92,1\n",
            "\n",
            "0,8,29,130.0,384,1.7,7.8,2,5.0,3,5.0,30,3,385,0,138.1,13,0,11999,35,1080,1,1,2,13.0,1,2,2,6,4,2,23,6,69.6,0.0,5,3,3120,22,1\n",
            "\n",
            "0,10,38,160.0,265,1.3,9.2,2,5.0,3,5.5,30,2,1016,0,153.6,18,3,11999,22,1080,9,1,2,13.0,2,3,2,11,2,3,17,6,76.5,128.0,6,3,3300,12,1\n",
            "\n",
            "0,10,29,155.0,342,1.5,11.6,2,5.0,3,5.0,30,3,0,0,142.1,5,0,12499,28,1080,4,1,12,13.0,1,2,2,3,4,4,34,5,72.4,32.0,6,2,2470,22,1\n",
            "\n",
            "0,13,34,138.0,761,1.7,8.2,5,5.0,3,5.0,30,4,2,0,146.9,18,11,13349,30,1080,3,1,2,13.0,1,2,2,5,4,3,9,6,70.9,32.0,4,3,2000,16,1\n",
            "\n",
            "0,3,41,148.0,566,1.0,9.3,5,5.0,3,5.0,30,2,0,0,141.0,5,3,13349,16,720,4,1,2,8.0,2,2,2,11,6,3,9,6,71.8,32.0,6,3,4000,92,1\n",
            "\n",
            "0,8,29,155.0,620,1.5,9.8,2,5.0,3,5.5,30,3,671,0,153.0,5,3,13499,24,1080,9,4,1,16.0,2,3,3,3,9,4,16,3,76.6,128.0,9,3,3000,72,1\n",
            "\n",
            "0,7,29,171.0,354,1.6,7.5,5,5.0,3,5.5,30,2,73,0,152.4,26,3,13990,23,1080,4,3,7,13.0,1,2,0,2,4,3,16,6,78.6,128.0,6,3,3000,72,1\n",
            "\n",
            "0,8,28,150.0,337,2.0,8.7,5,5.0,3,5.5,30,2,25,0,156.8,5,4,13999,9,1080,9,1,2,13.0,1,4,2,4,4,3,16,6,78.1,64.0,6,3,3000,14,1\n",
            "\n",
            "0,10,30,170.0,354,1.6,7.8,2,5.0,3,5.5,30,2,301,0,151.7,18,3,14249,23,1080,9,3,7,13.0,1,3,2,2,4,3,16,6,76.0,128.0,9,3,3300,72,1\n",
            "\n",
            "0,9,43,141.0,345,1.2,7.3,6,5.0,4,5.5,30,5,0,0,151.3,7,11,14300,18,1080,4,4,7,13.0,1,2,2,2,11,4,7,3,77.2,64.0,4,3,2950,94,0\n",
            "\n",
            "0,1,44,154.5,560,1.7,7.7,5,8.0,3,5.5,30,2,12,0,157.7,26,9,14614,12,1080,4,1,2,13.0,2,1,2,5,4,4,7,6,78.7,32.0,4,3,2600,79,1\n",
            "\n",
            "1,1,44,171.8,1093,1.4,7.7,5,1.1,3,6.0,30,3,24,0,165.2,26,3,14880,30,1080,4,1,11,13.0,1,1,7,8,6,4,6,6,83.8,32.0,3,3,3000,129,1\n",
            "\n",
            "1,10,29,229.0,480,1.5,7.6,4,5.0,3,6.8,30,3,0,0,186.6,18,3,14990,24,1080,1,1,1,13.0,2,2,4,11,4,4,12,6,96.6,64.0,5,3,3500,22,1\n",
            "\n",
            "0,10,16,160.0,200,2.3,6.9,5,8.0,3,5.0,30,3,175,0,140.0,5,9,14999,24,1080,9,1,0,13.0,2,3,2,12,6,1,23,6,69.0,0.0,6,4,2525,15,1\n",
            "\n",
            "3,6,16,149.0,280,2.5,8.9,5,8.0,3,5.0,30,2,33,0,139.2,26,3,14999,18,2160,1,1,2,13.0,1,3,2,6,6,2,23,6,68.5,0.0,4,3,3080,15,1\n",
            "\n",
            "3,3,16,144.0,250,2.5,10.0,2,13.0,3,5.2,30,4,188,0,140.8,5,11,14999,24,2160,9,1,5,13.0,1,2,2,3,6,1,20,4,72.4,0.0,4,3,2300,15,1\n",
            "\n",
            "2,10,16,175.0,840,2.5,8.9,3,8.0,3,5.5,30,1,6,0,155.7,15,11,15689,48,1080,9,1,4,13.0,2,3,6,11,6,0,16,3,77.3,0.0,6,14,4100,15,0\n",
            "\n",
            "0,8,29,134.0,380,1.7,7.3,5,8.0,3,5.0,30,1,0,0,143.5,8,2,15950,20,1080,9,1,2,13.0,1,3,2,10,4,3,9,6,71.0,128.0,6,3,2500,21,1\n",
            "\n",
            "0,7,30,170.0,354,1.6,7.8,5,5.0,3,5.5,30,3,301,0,151.7,26,3,15990,23,1080,0,3,7,13.0,1,3,2,2,4,4,7,6,76.0,32.0,9,3,3300,72,1\n",
            "\n",
            "0,13,29,189.0,600,1.5,9.9,2,5.0,3,5.5,30,2,137,0,152.9,5,11,15999,44,1080,9,1,2,13.0,2,2,4,11,4,3,16,6,75.6,128.0,6,3,5000,22,1\n",
            "\n",
            "3,10,15,130.0,370,1.6,7.9,5,2.0,3,5.0,30,1,347,0,136.6,5,3,16999,17,1080,9,3,7,13.0,1,2,2,2,4,4,23,3,69.8,64.0,2,10,2600,20,1\n",
            "\n",
            "0,10,29,145.0,456,1.7,7.3,2,8.0,3,5.0,30,2,22,0,142.0,5,3,17810,21,1080,1,1,2,16.0,2,3,4,11,4,4,23,6,70.0,128.0,5,3,3000,22,1\n",
            "\n",
            "0,8,29,169.0,330,1.7,10.9,2,5.0,3,5.5,30,2,48,0,148.0,5,11,18499,18,1080,9,1,2,21.0,1,2,4,3,6,4,16,7,75.0,128.0,6,3,3630,22,1\n",
            "\n",
            "1,8,29,135.0,488,1.5,7.3,5,5.0,3,5.0,30,3,0,0,145.5,21,9,18798,13,1080,6,1,2,13.0,1,2,2,8,6,4,9,0,72.6,128.0,5,3,2400,22,1\n",
            "\n",
            "0,10,34,147.0,682,1.7,7.9,5,5.0,3,5.5,30,3,0,0,150.3,20,9,19000,11,1080,1,1,3,13.0,1,2,2,8,4,4,0,3,77.4,128.0,5,7,2600,16,1\n",
            "\n",
            "0,8,38,150.0,420,1.5,8.0,5,4.0,3,5.5,30,3,18,0,157.7,26,9,19490,12,1080,9,1,2,13.0,2,2,2,5,4,4,16,3,78.9,2048.0,6,3,2800,19,1\n",
            "\n",
            "0,10,34,165.0,170,1.5,7.6,5,4.0,3,5.5,30,1,13,0,157.7,26,9,19890,7,1080,4,3,2,13.0,6,2,2,5,4,4,7,3,79.7,128.0,5,3,2600,16,1\n",
            "\n",
            "3,8,16,162.0,360,2.5,8.9,2,5.0,3,5.5,30,4,22,0,152.9,5,3,19999,38,2160,9,1,2,13.0,2,3,6,12,6,1,16,6,75.9,0.0,4,4,3100,15,1\n",
            "\n",
            "3,10,17,112.0,250,1.3,7.6,2,1.2,3,4.0,30,1,1304,2,123.8,12,11,20397,10,1080,2,1,2,8.0,2,1,2,1,0,1,13,6,58.6,0.0,11,13,1560,13,1\n",
            "\n",
            "0,8,29,183.0,687,1.7,8.0,5,4.0,3,5.5,30,2,131,0,158.0,26,11,21300,19,1080,9,1,9,13.0,2,2,2,5,4,4,16,6,77.5,128.0,5,3,2600,22,1\n",
            "\n",
            "3,10,16,145.0,390,1.9,8.1,5,2.0,3,5.1,30,1,22,0,142.0,5,9,21999,21,2160,1,3,7,16.0,1,2,2,2,6,4,22,7,72.5,128.0,4,9,2800,15,0\n",
            "\n",
            "0,8,34,187.0,635,1.7,8.2,5,13.0,3,6.0,30,3,26,0,164.2,20,9,21999,13,1080,1,1,2,13.0,1,2,2,8,4,4,14,3,79.6,200.0,5,3,2930,16,1\n",
            "\n",
            "0,8,9,175.0,360,1.8,9.9,2,5.0,3,5.5,30,4,100,0,151.8,5,9,22999,38,2160,9,1,2,13.0,2,4,6,12,6,1,16,6,74.9,0.0,6,12,3300,5,1\n",
            "\n",
            "1,8,24,157.0,620,2.2,8.5,1,8.0,3,5.2,30,3,29,0,143.2,26,9,22999,23,1080,9,4,2,20.0,2,3,2,15,4,4,20,6,71.9,128.0,5,3,3100,11,0\n",
            "\n",
            "0,8,14,175.0,618,1.8,9.3,2,8.0,4,5.5,30,2,0,0,154.0,5,11,24499,31,2160,9,4,1,21.0,4,3,6,11,8,6,16,6,76.5,0.0,6,3,3600,8,0\n",
            "\n",
            "3,7,41,155.0,180,1.6,7.1,5,5.0,3,5.2,30,3,75,0,144.8,7,9,24900,16,1080,1,0,7,13.0,2,2,2,2,4,4,20,3,71.0,128.0,6,3,2900,72,1\n",
            "\n",
            "1,8,3,129.0,598,1.8,7.3,2,4.0,3,5.15,30,1,0,0,144.6,7,9,24999,27,2160,1,1,2,16.0,2,4,4,6,6,2,21,6,69.2,0.0,9,0,3000,2,0\n",
            "\n",
            "4,8,14,179.0,410,1.8,11.1,0,5.0,3,5.7,30,1,4,0,153.9,5,9,24999,19,2160,10,4,12,21.0,1,3,6,3,8,4,26,6,76.2,128.0,6,3,3000,3,1\n",
            "\n",
            "3,8,9,144.0,590,2.0,6.9,5,2.2,3,5.2,30,2,126,0,146.0,25,3,25500,17,2160,1,1,1,20.7,1,3,4,8,6,4,20,7,72.0,128.0,5,3,2930,5,1\n",
            "\n",
            "1,10,28,142.6,504,2.0,7.6,5,13.0,3,5.0,30,3,69,0,145.0,21,9,25500,12,216,1,1,2,21.2,1,3,2,8,4,4,23,1,72.0,200.0,5,3,2600,14,0\n",
            "\n",
            "0,10,25,145.0,250,2.0,6.6,5,16.0,3,5.5,30,4,19,0,151.8,7,11,27580,24,1080,9,1,0,13.0,2,4,6,10,4,3,16,6,74.3,128.0,6,3,2850,90,1\n",
            "\n",
            "3,10,11,176.0,200,2.7,8.5,5,3.7,3,5.7,30,1,226,0,153.5,0,3,29900,20,216,10,3,7,16.0,1,3,4,2,6,4,24,6,78.6,128.0,4,3,3220,9,1\n",
            "\n",
            "0,10,21,168.0,420,2.3,8.3,5,2.0,3,5.7,30,0,502,0,151.2,5,3,29990,21,2160,9,3,7,13.0,1,3,4,2,6,4,15,3,79.2,64.0,3,9,3200,52,1\n",
            "\n",
            "4,6,14,155.0,410,1.8,6.3,2,8.0,3,5.5,30,3,0,0,148.9,10,9,30947,19,2160,10,5,1,16.0,1,3,4,9,8,4,28,6,76.1,2048.0,6,3,3000,8,1\n",
            "\n",
            "3,8,9,178.0,440,2.0,7.3,2,8.0,3,5.7,30,1,87,0,159.3,11,9,31999,23,2160,8,1,0,12.3,2,3,4,15,4,2,25,6,77.8,0.0,9,3,3450,5,1\n",
            "\n",
            "3,7,8,138.0,354,2.1,6.8,2,5.0,3,5.1,30,1,349,0,143.4,7,9,33900,17,2160,10,1,7,16.0,1,3,4,2,6,2,31,3,70.5,0.0,5,3,2550,4,1\n",
            "\n",
            "3,8,9,169.0,500,2.0,9.2,2,5.0,3,5.4,30,4,22,0,149.8,23,11,34999,25,2160,10,1,0,21.0,1,3,4,3,6,1,29,6,78.0,0.0,7,3,3760,5,0\n",
            "\n",
            "3,10,6,113.0,240,1.84,7.6,2,1.2,3,4.0,30,1,0,2,123.8,3,6,34999,14,2160,13,1,1,12.0,2,1,2,1,1,2,13,6,58.6,0.0,14,13,1624,1,0\n",
            "\n",
            "4,8,14,136.0,360,1.8,7.9,1,5.0,3,5.2,30,1,24,0,147.0,5,9,35900,14,2160,9,4,2,12.3,4,2,2,9,8,2,19,6,72.6,0.0,9,11,2700,8,1\n",
            "\n",
            "3,10,12,129.0,250,1.4,6.9,2,1.3,3,4.7,60,1,410,2,138.1,16,9,36499,14,1080,7,1,2,8.0,2,1,2,1,0,2,13,3,67.0,0.0,12,6,1810,7,1\n",
            "\n",
            "3,10,12,129.0,250,1.4,6.9,2,1.2,3,4.7,60,4,39,2,138.1,16,11,36999,14,1080,9,1,2,8.0,2,1,2,1,0,1,13,6,67.0,0.0,12,13,1810,7,1\n",
            "\n",
            "3,10,28,168.0,580,2.2,9.6,2,4.0,3,5.2,30,3,11,0,151.0,7,7,37766,20,2160,10,4,10,20.0,4,3,4,5,10,4,30,6,72.0,256.0,5,3,2840,56,0\n",
            "\n",
            "3,12,16,149.0,410,2.5,8.9,3,2.1,3,5.5,30,3,0,0,146.3,5,1,38000,19,2160,10,3,1,13.0,5,3,4,9,7,4,28,6,74.6,32.0,4,3,3000,15,1\n",
            "\n",
            "0,8,9,154.0,340,2.0,7.3,6,5.0,2,5.2,30,3,9,0,146.0,24,7,39890,13,2160,9,4,1,23.0,4,3,4,8,5,6,20,1,72.0,256.0,6,3,2900,5,1\n",
            "\n",
            "3,2,8,132.0,362,1.5,7.0,5,5.0,4,5.1,30,1,0,0,142.1,9,7,40900,14,2160,10,1,7,16.0,1,3,4,2,7,4,32,6,70.1,64.0,5,3,2600,4,1\n",
            "\n",
            "3,10,12,129.0,250,1.4,6.9,2,1.2,3,4.7,60,4,39,2,138.1,16,11,48329,14,1080,7,1,2,8.0,2,1,6,1,0,1,13,6,67.0,0.0,12,13,1810,7,1\n",
            "\n",
            "0,5,3,152.0,242,2.3,7.9,5,5.0,3,5.1,30,4,150,0,142.4,7,9,48900,22,2160,10,1,8,12.0,1,4,4,2,6,6,32,1,69.6,200.0,9,3,3000,101,1\n",
            "\n",
            "3,10,6,143.0,240,1.8,7.1,2,5.0,3,4.7,30,4,100,2,138.3,16,11,49499,14,2160,7,1,2,12.0,2,2,2,1,0,1,13,6,67.1,0.0,14,13,1715,1,1\n",
            "\n",
            "0,7,43,171.0,330,2.1,7.6,5,5.0,3,5.7,30,1,107,0,153.2,7,9,50895,22,2160,8,1,7,16.0,2,4,4,2,4,2,25,6,76.1,0.0,6,3,3450,4,1\n",
            "\n",
            "3,8,9,180.0,600,2.0,7.8,6,5.0,2,5.5,30,3,0,0,154.4,22,7,52699,19,2160,11,4,2,23.0,4,3,4,8,12,6,33,1,75.8,256.0,6,3,3430,5,1\n",
            "\n",
            "3,10,14,192.0,540,1.8,9.4,2,2.0,2,5.4,30,1,0,0,147.0,26,7,54900,15,2160,10,4,0,18.0,4,3,4,25,3,4,29,6,77.2,256.0,6,3,3410,8,1\n",
            "\n",
            "0,5,3,157.0,400,2.3,7.7,5,5.0,3,5.5,30,4,144,0,150.9,7,9,56900,27,2160,10,1,8,12.0,1,4,4,2,6,6,27,1,72.6,200.0,9,3,3600,101,1\n",
            "\n",
            "3,10,6,192.0,384,1.8,7.3,2,5.0,3,5.5,30,4,81,2,158.2,16,11,59000,24,2160,7,1,2,12.0,2,2,2,1,0,1,16,6,77.9,0.0,14,13,2750,1,1\n",
            "\n",
            "3,10,12,129.0,250,1.4,6.9,2,1.2,3,4.7,60,4,39,2,138.1,16,11,64500,14,1080,7,1,2,8.0,2,1,1,1,0,1,13,6,67.0,0.0,12,13,1810,7,1\n",
            "\n",
            "2,8,3,158.0,400,2.2,7.4,6,8.0,3,5.5,30,1,0,0,152.7,7,8,27999,40,2160,9,1,6,16.0,4,6,6,12,6,5,16,6,74.7,0.0,10,12,3000,2,0\n",
            "\n"
          ]
        }
      ]
    },
    {
      "cell_type": "code",
      "source": [
        "with open(\"mobile_cleaned-1549119762886.csv\",'r') as file:\n",
        "  for line in file:\n",
        "    for word in line.split(','):\n",
        "      print(word)\n",
        "    print('----------')"
      ],
      "metadata": {
        "colab": {
          "base_uri": "https://localhost:8080/"
        },
        "id": "0hXl2i-dzTLF",
        "outputId": "32b7a6eb-f035-4dad-dd25-4a3b76ecff51"
      },
      "execution_count": 177,
      "outputs": [
        {
          "output_type": "stream",
          "name": "stdout",
          "text": [
            "sim_type\n",
            "aperture\n",
            "gpu_rank\n",
            "weight\n",
            "stand_by_time\n",
            "processor_frequency\n",
            "thickness\n",
            "flash_type\n",
            "front_camera_resolution\n",
            "auto_focus\n",
            "screen_size\n",
            "frames_per_second\n",
            "FM\n",
            "no_of_reviews_in_gsmarena_in_week\n",
            "os\n",
            "phone_height\n",
            "screen_protection\n",
            "sim_size\n",
            "price\n",
            "talk_time\n",
            "video_resolution\n",
            "display_resolution\n",
            "removable_battery\n",
            "display_type\n",
            "primary_camera_resolution\n",
            "battery_type\n",
            "ram_memory\n",
            "internal_memory\n",
            "brand_rank\n",
            "no_of_cores\n",
            "micro_sd_slot\n",
            "screen_pixel_density\n",
            "water_proof_rate\n",
            "phone_width\n",
            "expandable_memory\n",
            "version\n",
            "usb_type\n",
            "battery_capacity\n",
            "processor_rank\n",
            "is_liked\n",
            "\n",
            "----------\n",
            "0\n",
            "12\n",
            "55\n",
            "155.0\n",
            "250\n",
            "1.3\n",
            "10.5\n",
            "5\n",
            "2.0\n",
            "0\n",
            "4.5\n",
            "15\n",
            "3\n",
            "0\n",
            "0\n",
            "132.9\n",
            "26\n",
            "3\n",
            "3870\n",
            "9\n",
            "480\n",
            "12\n",
            "3\n",
            "11\n",
            "5.0\n",
            "1\n",
            "1\n",
            "7\n",
            "29\n",
            "6\n",
            "4\n",
            "2\n",
            "3\n",
            "67.8\n",
            "64.0\n",
            "5\n",
            "3\n",
            "2000\n",
            "125\n",
            "1\n",
            "\n",
            "----------\n",
            "0\n",
            "1\n",
            "55\n",
            "132.0\n",
            "300\n",
            "1.3\n",
            "10.6\n",
            "5\n",
            "0.3\n",
            "1\n",
            "4.0\n",
            "30\n",
            "2\n",
            "6\n",
            "0\n",
            "124.5\n",
            "26\n",
            "5\n",
            "4059\n",
            "9\n",
            "720\n",
            "15\n",
            "3\n",
            "11\n",
            "5.0\n",
            "1\n",
            "1\n",
            "7\n",
            "11\n",
            "6\n",
            "4\n",
            "4\n",
            "6\n",
            "64.0\n",
            "32.0\n",
            "5\n",
            "3\n",
            "2000\n",
            "165\n",
            "1\n",
            "\n",
            "----------\n",
            "0\n",
            "9\n",
            "55\n",
            "142.0\n",
            "329\n",
            "1.5\n",
            "8.5\n",
            "5\n",
            "2.0\n",
            "3\n",
            "5.0\n",
            "30\n",
            "2\n",
            "20\n",
            "0\n",
            "145.5\n",
            "4\n",
            "3\n",
            "4777\n",
            "10\n",
            "1080\n",
            "4\n",
            "3\n",
            "1\n",
            "5.04\n",
            "2\n",
            "1\n",
            "7\n",
            "27\n",
            "6\n",
            "4\n",
            "9\n",
            "6\n",
            "72.0\n",
            "32.0\n",
            "6\n",
            "3\n",
            "2500\n",
            "164\n",
            "0\n",
            "\n",
            "----------\n",
            "0\n",
            "8\n",
            "55\n",
            "152.0\n",
            "385\n",
            "1.3\n",
            "8.0\n",
            "5\n",
            "2.0\n",
            "3\n",
            "5.0\n",
            "15\n",
            "3\n",
            "0\n",
            "0\n",
            "147.5\n",
            "26\n",
            "3\n",
            "5799\n",
            "19\n",
            "720\n",
            "17\n",
            "3\n",
            "2\n",
            "5.0\n",
            "1\n",
            "1\n",
            "7\n",
            "4\n",
            "6\n",
            "4\n",
            "1\n",
            "3\n",
            "75.1\n",
            "32.0\n",
            "6\n",
            "3\n",
            "3000\n",
            "165\n",
            "1\n",
            "\n",
            "----------\n",
            "1\n",
            "1\n",
            "55\n",
            "234.0\n",
            "385\n",
            "1.3\n",
            "7.9\n",
            "5\n",
            "1.92\n",
            "3\n",
            "5.0\n",
            "15\n",
            "3\n",
            "0\n",
            "0\n",
            "179.0\n",
            "18\n",
            "3\n",
            "5990\n",
            "11\n",
            "720\n",
            "17\n",
            "3\n",
            "1\n",
            "5.0\n",
            "1\n",
            "1\n",
            "7\n",
            "4\n",
            "6\n",
            "4\n",
            "1\n",
            "6\n",
            "91.0\n",
            "32.0\n",
            "6\n",
            "3\n",
            "3000\n",
            "165\n",
            "0\n",
            "\n",
            "----------\n",
            "0\n",
            "14\n",
            "55\n",
            "179.0\n",
            "280\n",
            "1.3\n",
            "7.9\n",
            "5\n",
            "5.0\n",
            "3\n",
            "5.5\n",
            "30\n",
            "3\n",
            "6\n",
            "0\n",
            "150.0\n",
            "5\n",
            "3\n",
            "5999\n",
            "22\n",
            "720\n",
            "0\n",
            "0\n",
            "2\n",
            "8.0\n",
            "1\n",
            "1\n",
            "7\n",
            "4\n",
            "6\n",
            "4\n",
            "7\n",
            "3\n",
            "71.0\n",
            "32.0\n",
            "6\n",
            "3\n",
            "2900\n",
            "165\n",
            "0\n",
            "\n",
            "----------\n",
            "1\n",
            "1\n",
            "56\n",
            "124.0\n",
            "230\n",
            "1.3\n",
            "8.8\n",
            "5\n",
            "2.0\n",
            "3\n",
            "4.0\n",
            "30\n",
            "3\n",
            "0\n",
            "0\n",
            "123.0\n",
            "26\n",
            "3\n",
            "5999\n",
            "11\n",
            "1080\n",
            "16\n",
            "3\n",
            "2\n",
            "5.0\n",
            "1\n",
            "512\n",
            "5\n",
            "30\n",
            "0\n",
            "4\n",
            "4\n",
            "3\n",
            "62.5\n",
            "128.0\n",
            "2\n",
            "3\n",
            "1700\n",
            "163\n",
            "1\n",
            "\n",
            "----------\n",
            "0\n",
            "8\n",
            "41\n",
            "154.0\n",
            "182\n",
            "1.0\n",
            "8.1\n",
            "5\n",
            "2.0\n",
            "3\n",
            "5.0\n",
            "30\n",
            "5\n",
            "0\n",
            "0\n",
            "132.0\n",
            "26\n",
            "3\n",
            "6599\n",
            "7\n",
            "720\n",
            "4\n",
            "3\n",
            "2\n",
            "8.0\n",
            "0\n",
            "2\n",
            "2\n",
            "4\n",
            "6\n",
            "4\n",
            "9\n",
            "3\n",
            "78.0\n",
            "32.0\n",
            "6\n",
            "3\n",
            "2000\n",
            "92\n",
            "1\n",
            "\n",
            "----------\n",
            "1\n",
            "8\n",
            "41\n",
            "214.0\n",
            "182\n",
            "1.0\n",
            "8.2\n",
            "5\n",
            "2.0\n",
            "3\n",
            "5.0\n",
            "30\n",
            "3\n",
            "39\n",
            "0\n",
            "172.0\n",
            "18\n",
            "3\n",
            "6599\n",
            "6\n",
            "720\n",
            "14\n",
            "3\n",
            "2\n",
            "8.0\n",
            "1\n",
            "2\n",
            "2\n",
            "4\n",
            "6\n",
            "4\n",
            "9\n",
            "6\n",
            "80.0\n",
            "32.0\n",
            "6\n",
            "7\n",
            "2000\n",
            "92\n",
            "1\n",
            "\n",
            "----------\n",
            "0\n",
            "1\n",
            "55\n",
            "155.0\n",
            "435\n",
            "1.3\n",
            "11.6\n",
            "5\n",
            "2.0\n",
            "3\n",
            "5.0\n",
            "15\n",
            "2\n",
            "5\n",
            "0\n",
            "142.1\n",
            "5\n",
            "3\n",
            "6649\n",
            "9\n",
            "720\n",
            "4\n",
            "1\n",
            "2\n",
            "8.0\n",
            "1\n",
            "2\n",
            "7\n",
            "4\n",
            "6\n",
            "4\n",
            "9\n",
            "6\n",
            "72.4\n",
            "32.0\n",
            "5\n",
            "3\n",
            "3000\n",
            "125\n",
            "1\n",
            "\n",
            "----------\n",
            "0\n",
            "1\n",
            "55\n",
            "169.0\n",
            "514\n",
            "1.3\n",
            "7.9\n",
            "2\n",
            "2.0\n",
            "3\n",
            "5.0\n",
            "30\n",
            "3\n",
            "5\n",
            "0\n",
            "152.0\n",
            "26\n",
            "3\n",
            "6749\n",
            "14\n",
            "720\n",
            "4\n",
            "1\n",
            "2\n",
            "8.0\n",
            "2\n",
            "2\n",
            "7\n",
            "4\n",
            "6\n",
            "4\n",
            "9\n",
            "3\n",
            "75.0\n",
            "32.0\n",
            "5\n",
            "4\n",
            "4000\n",
            "126\n",
            "1\n",
            "\n",
            "----------\n",
            "0\n",
            "10\n",
            "55\n",
            "137.0\n",
            "300\n",
            "1.3\n",
            "7.9\n",
            "5\n",
            "5.0\n",
            "3\n",
            "5.0\n",
            "30\n",
            "2\n",
            "42\n",
            "1\n",
            "141.6\n",
            "18\n",
            "3\n",
            "6990\n",
            "15\n",
            "720\n",
            "3\n",
            "3\n",
            "7\n",
            "8.0\n",
            "1\n",
            "1\n",
            "7\n",
            "2\n",
            "6\n",
            "3\n",
            "9\n",
            "6\n",
            "70.0\n",
            "128.0\n",
            "0\n",
            "3\n",
            "2600\n",
            "166\n",
            "0\n",
            "\n",
            "----------\n",
            "0\n",
            "1\n",
            "50\n",
            "135.0\n",
            "280\n",
            "1.4\n",
            "8.0\n",
            "7\n",
            "5.0\n",
            "3\n",
            "5.3\n",
            "30\n",
            "3\n",
            "10\n",
            "0\n",
            "148.0\n",
            "26\n",
            "3\n",
            "6999\n",
            "8\n",
            "1080\n",
            "4\n",
            "3\n",
            "2\n",
            "13.0\n",
            "1\n",
            "1\n",
            "7\n",
            "20\n",
            "4\n",
            "4\n",
            "8\n",
            "2\n",
            "74.0\n",
            "32.0\n",
            "4\n",
            "3\n",
            "2500\n",
            "79\n",
            "1\n",
            "\n",
            "----------\n",
            "0\n",
            "11\n",
            "43\n",
            "133.0\n",
            "198\n",
            "1.2\n",
            "9.0\n",
            "5\n",
            "2.0\n",
            "3\n",
            "4.7\n",
            "30\n",
            "2\n",
            "139\n",
            "0\n",
            "134.0\n",
            "5\n",
            "3\n",
            "6999\n",
            "7\n",
            "1080\n",
            "14\n",
            "3\n",
            "2\n",
            "8.0\n",
            "2\n",
            "2\n",
            "2\n",
            "6\n",
            "6\n",
            "4\n",
            "11\n",
            "6\n",
            "67.0\n",
            "32.0\n",
            "4\n",
            "8\n",
            "2200\n",
            "94\n",
            "1\n",
            "\n",
            "----------\n",
            "0\n",
            "8\n",
            "41\n",
            "142.0\n",
            "200\n",
            "1.3\n",
            "8.9\n",
            "5\n",
            "5.0\n",
            "3\n",
            "5.0\n",
            "30\n",
            "3\n",
            "94\n",
            "0\n",
            "140.8\n",
            "21\n",
            "3\n",
            "6999\n",
            "10\n",
            "1080\n",
            "4\n",
            "1\n",
            "2\n",
            "13.0\n",
            "1\n",
            "3\n",
            "2\n",
            "18\n",
            "6\n",
            "6\n",
            "9\n",
            "6\n",
            "70.4\n",
            "32.0\n",
            "6\n",
            "3\n",
            "2500\n",
            "92\n",
            "1\n",
            "\n",
            "----------\n",
            "1\n",
            "10\n",
            "41\n",
            "131.0\n",
            "680\n",
            "1.3\n",
            "8.7\n",
            "5\n",
            "5.0\n",
            "3\n",
            "5.0\n",
            "30\n",
            "1\n",
            "10\n",
            "0\n",
            "140.1\n",
            "1\n",
            "11\n",
            "6999\n",
            "23\n",
            "1080\n",
            "14\n",
            "1\n",
            "1\n",
            "13.0\n",
            "1\n",
            "2\n",
            "2\n",
            "30\n",
            "6\n",
            "2\n",
            "9\n",
            "3\n",
            "68.9\n",
            "256.0\n",
            "6\n",
            "3\n",
            "2500\n",
            "92\n",
            "1\n",
            "\n",
            "----------\n",
            "1\n",
            "10\n",
            "47\n",
            "152.0\n",
            "576\n",
            "1.2\n",
            "8.6\n",
            "5\n",
            "5.0\n",
            "3\n",
            "5.0\n",
            "30\n",
            "3\n",
            "28\n",
            "3\n",
            "144.0\n",
            "26\n",
            "3\n",
            "7340\n",
            "26\n",
            "480\n",
            "4\n",
            "3\n",
            "2\n",
            "8.0\n",
            "1\n",
            "1\n",
            "7\n",
            "7\n",
            "6\n",
            "4\n",
            "9\n",
            "3\n",
            "73.7\n",
            "128.0\n",
            "13\n",
            "3\n",
            "2200\n",
            "132\n",
            "1\n",
            "\n",
            "----------\n",
            "0\n",
            "10\n",
            "43\n",
            "128.0\n",
            "264\n",
            "1.2\n",
            "8.2\n",
            "5\n",
            "2.0\n",
            "3\n",
            "5.0\n",
            "30\n",
            "2\n",
            "126\n",
            "0\n",
            "141.0\n",
            "26\n",
            "3\n",
            "7499\n",
            "13\n",
            "720\n",
            "4\n",
            "3\n",
            "1\n",
            "8.0\n",
            "2\n",
            "2\n",
            "2\n",
            "11\n",
            "6\n",
            "4\n",
            "9\n",
            "6\n",
            "70.0\n",
            "32.0\n",
            "4\n",
            "3\n",
            "2300\n",
            "94\n",
            "1\n",
            "\n",
            "----------\n",
            "0\n",
            "10\n",
            "41\n",
            "130.0\n",
            "180\n",
            "1.3\n",
            "8.4\n",
            "5\n",
            "2.0\n",
            "3\n",
            "4.5\n",
            "30\n",
            "3\n",
            "0\n",
            "0\n",
            "69.0\n",
            "18\n",
            "3\n",
            "7590\n",
            "11\n",
            "1080\n",
            "4\n",
            "3\n",
            "7\n",
            "5.0\n",
            "1\n",
            "1\n",
            "7\n",
            "2\n",
            "6\n",
            "6\n",
            "5\n",
            "6\n",
            "136.5\n",
            "128.0\n",
            "6\n",
            "7\n",
            "2000\n",
            "100\n",
            "1\n",
            "\n",
            "----------\n",
            "0\n",
            "10\n",
            "43\n",
            "143.0\n",
            "160\n",
            "1.2\n",
            "8.2\n",
            "5\n",
            "5.0\n",
            "3\n",
            "5.0\n",
            "30\n",
            "3\n",
            "142\n",
            "0\n",
            "142.4\n",
            "6\n",
            "3\n",
            "7790\n",
            "7\n",
            "1080\n",
            "4\n",
            "3\n",
            "2\n",
            "8.0\n",
            "1\n",
            "2\n",
            "2\n",
            "17\n",
            "6\n",
            "6\n",
            "9\n",
            "3\n",
            "73.0\n",
            "32.0\n",
            "5\n",
            "3\n",
            "2230\n",
            "94\n",
            "1\n",
            "\n",
            "----------\n",
            "0\n",
            "1\n",
            "55\n",
            "152.0\n",
            "450\n",
            "1.2\n",
            "9.4\n",
            "2\n",
            "5.0\n",
            "3\n",
            "5.0\n",
            "30\n",
            "2\n",
            "0\n",
            "0\n",
            "143.0\n",
            "5\n",
            "3\n",
            "7899\n",
            "14\n",
            "1080\n",
            "4\n",
            "1\n",
            "2\n",
            "8.0\n",
            "1\n",
            "2\n",
            "7\n",
            "4\n",
            "6\n",
            "4\n",
            "9\n",
            "6\n",
            "71.8\n",
            "32.0\n",
            "6\n",
            "3\n",
            "4000\n",
            "94\n",
            "1\n",
            "\n",
            "----------\n",
            "0\n",
            "10\n",
            "34\n",
            "140.0\n",
            "264\n",
            "1.5\n",
            "8.0\n",
            "5\n",
            "5.0\n",
            "3\n",
            "5.5\n",
            "30\n",
            "5\n",
            "184\n",
            "0\n",
            "152.6\n",
            "26\n",
            "3\n",
            "7914\n",
            "39\n",
            "1080\n",
            "4\n",
            "3\n",
            "2\n",
            "8.0\n",
            "2\n",
            "2\n",
            "7\n",
            "11\n",
            "4\n",
            "4\n",
            "7\n",
            "3\n",
            "76.2\n",
            "32.0\n",
            "5\n",
            "3\n",
            "2900\n",
            "16\n",
            "1\n",
            "\n",
            "----------\n",
            "2\n",
            "1\n",
            "38\n",
            "125.0\n",
            "354\n",
            "1.3\n",
            "7.6\n",
            "5\n",
            "5.0\n",
            "3\n",
            "5.0\n",
            "30\n",
            "5\n",
            "10\n",
            "0\n",
            "144.6\n",
            "14\n",
            "11\n",
            "7999\n",
            "12\n",
            "1080\n",
            "9\n",
            "1\n",
            "2\n",
            "13.0\n",
            "2\n",
            "3\n",
            "4\n",
            "27\n",
            "4\n",
            "2\n",
            "23\n",
            "6\n",
            "72.0\n",
            "128.0\n",
            "6\n",
            "5\n",
            "2400\n",
            "19\n",
            "0\n",
            "\n",
            "----------\n",
            "3\n",
            "1\n",
            "43\n",
            "97.0\n",
            "345\n",
            "1.2\n",
            "5.1\n",
            "5\n",
            "5.0\n",
            "3\n",
            "4.8\n",
            "30\n",
            "3\n",
            "0\n",
            "0\n",
            "141.9\n",
            "5\n",
            "9\n",
            "8490\n",
            "8\n",
            "1080\n",
            "14\n",
            "1\n",
            "0\n",
            "8.0\n",
            "2\n",
            "2\n",
            "2\n",
            "4\n",
            "6\n",
            "2\n",
            "10\n",
            "2\n",
            "68.1\n",
            "0.0\n",
            "5\n",
            "3\n",
            "2000\n",
            "94\n",
            "1\n",
            "\n",
            "----------\n",
            "0\n",
            "10\n",
            "29\n",
            "150.0\n",
            "322\n",
            "1.5\n",
            "8.2\n",
            "5\n",
            "5.0\n",
            "3\n",
            "5.0\n",
            "30\n",
            "3\n",
            "113\n",
            "0\n",
            "142.0\n",
            "2\n",
            "12\n",
            "8499\n",
            "15\n",
            "1080\n",
            "9\n",
            "3\n",
            "2\n",
            "13.0\n",
            "2\n",
            "2\n",
            "2\n",
            "11\n",
            "4\n",
            "6\n",
            "23\n",
            "6\n",
            "71.0\n",
            "32.0\n",
            "6\n",
            "4\n",
            "2750\n",
            "21\n",
            "1\n",
            "\n",
            "----------\n",
            "0\n",
            "8\n",
            "43\n",
            "202.0\n",
            "914\n",
            "1.2\n",
            "10.6\n",
            "2\n",
            "5.0\n",
            "3\n",
            "5.5\n",
            "30\n",
            "4\n",
            "34\n",
            "0\n",
            "156.0\n",
            "18\n",
            "3\n",
            "8999\n",
            "38\n",
            "1080\n",
            "4\n",
            "1\n",
            "2\n",
            "13.0\n",
            "2\n",
            "2\n",
            "2\n",
            "16\n",
            "6\n",
            "6\n",
            "7\n",
            "6\n",
            "77.5\n",
            "64.0\n",
            "5\n",
            "4\n",
            "5000\n",
            "94\n",
            "1\n",
            "\n",
            "----------\n",
            "0\n",
            "8\n",
            "43\n",
            "170.0\n",
            "456\n",
            "1.2\n",
            "10.8\n",
            "2\n",
            "5.0\n",
            "3\n",
            "5.5\n",
            "30\n",
            "2\n",
            "189\n",
            "0\n",
            "152.5\n",
            "7\n",
            "3\n",
            "8999\n",
            "21\n",
            "1080\n",
            "9\n",
            "3\n",
            "2\n",
            "13.0\n",
            "2\n",
            "2\n",
            "2\n",
            "16\n",
            "6\n",
            "4\n",
            "7\n",
            "6\n",
            "77.2\n",
            "128.0\n",
            "5\n",
            "3\n",
            "3000\n",
            "94\n",
            "1\n",
            "\n",
            "----------\n",
            "0\n",
            "8\n",
            "38\n",
            "155.0\n",
            "350\n",
            "1.3\n",
            "9.3\n",
            "5\n",
            "5.0\n",
            "3\n",
            "5.5\n",
            "30\n",
            "3\n",
            "122\n",
            "0\n",
            "151.0\n",
            "18\n",
            "3\n",
            "8999\n",
            "38\n",
            "1080\n",
            "4\n",
            "1\n",
            "2\n",
            "13.0\n",
            "1\n",
            "2\n",
            "2\n",
            "18\n",
            "4\n",
            "6\n",
            "7\n",
            "6\n",
            "77.0\n",
            "64.0\n",
            "6\n",
            "4\n",
            "3000\n",
            "19\n",
            "1\n",
            "\n",
            "----------\n",
            "0\n",
            "1\n",
            "44\n",
            "160.0\n",
            "617\n",
            "1.7\n",
            "9.6\n",
            "5\n",
            "5.0\n",
            "3\n",
            "5.0\n",
            "30\n",
            "3\n",
            "0\n",
            "0\n",
            "150.1\n",
            "26\n",
            "12\n",
            "9399\n",
            "12\n",
            "1080\n",
            "4\n",
            "3\n",
            "9\n",
            "8.0\n",
            "2\n",
            "1\n",
            "7\n",
            "5\n",
            "4\n",
            "4\n",
            "9\n",
            "3\n",
            "72.7\n",
            "32.0\n",
            "5\n",
            "3\n",
            "2100\n",
            "79\n",
            "1\n",
            "\n",
            "----------\n",
            "0\n",
            "10\n",
            "43\n",
            "185.0\n",
            "775\n",
            "1.2\n",
            "9.4\n",
            "5\n",
            "5.0\n",
            "3\n",
            "5.5\n",
            "30\n",
            "2\n",
            "87\n",
            "0\n",
            "154.0\n",
            "26\n",
            "3\n",
            "9499\n",
            "38\n",
            "1080\n",
            "4\n",
            "3\n",
            "2\n",
            "13.0\n",
            "2\n",
            "2\n",
            "2\n",
            "6\n",
            "6\n",
            "4\n",
            "7\n",
            "6\n",
            "78.7\n",
            "32.0\n",
            "4\n",
            "3\n",
            "3100\n",
            "94\n",
            "1\n",
            "\n",
            "----------\n",
            "0\n",
            "8\n",
            "55\n",
            "141.0\n",
            "218\n",
            "1.2\n",
            "7.6\n",
            "5\n",
            "8.0\n",
            "3\n",
            "5.0\n",
            "30\n",
            "2\n",
            "9\n",
            "0\n",
            "142.7\n",
            "26\n",
            "10\n",
            "9700\n",
            "16\n",
            "1080\n",
            "18\n",
            "1\n",
            "11\n",
            "8.0\n",
            "3\n",
            "1\n",
            "2\n",
            "10\n",
            "6\n",
            "4\n",
            "3\n",
            "6\n",
            "71.7\n",
            "128.0\n",
            "1\n",
            "3\n",
            "2420\n",
            "94\n",
            "1\n",
            "\n",
            "----------\n",
            "0\n",
            "8\n",
            "34\n",
            "150.0\n",
            "270\n",
            "1.7\n",
            "8.0\n",
            "2\n",
            "5.0\n",
            "3\n",
            "5.5\n",
            "30\n",
            "2\n",
            "0\n",
            "0\n",
            "152.6\n",
            "19\n",
            "3\n",
            "9715\n",
            "30\n",
            "1080\n",
            "1\n",
            "3\n",
            "1\n",
            "13.0\n",
            "1\n",
            "2\n",
            "2\n",
            "11\n",
            "4\n",
            "4\n",
            "16\n",
            "6\n",
            "76.2\n",
            "32.0\n",
            "5\n",
            "3\n",
            "2900\n",
            "16\n",
            "1\n",
            "\n",
            "----------\n",
            "0\n",
            "8\n",
            "43\n",
            "155.0\n",
            "250\n",
            "1.4\n",
            "11.6\n",
            "2\n",
            "5.0\n",
            "3\n",
            "5.0\n",
            "30\n",
            "2\n",
            "760\n",
            "0\n",
            "142.1\n",
            "5\n",
            "3\n",
            "9999\n",
            "22\n",
            "1080\n",
            "4\n",
            "1\n",
            "2\n",
            "13.0\n",
            "1\n",
            "2\n",
            "2\n",
            "3\n",
            "6\n",
            "4\n",
            "9\n",
            "7\n",
            "72.4\n",
            "32.0\n",
            "6\n",
            "3\n",
            "2470\n",
            "94\n",
            "1\n",
            "\n",
            "----------\n",
            "0\n",
            "10\n",
            "28\n",
            "164.0\n",
            "264\n",
            "1.4\n",
            "8.7\n",
            "2\n",
            "5.0\n",
            "3\n",
            "5.5\n",
            "30\n",
            "2\n",
            "420\n",
            "0\n",
            "150.0\n",
            "26\n",
            "3\n",
            "9999\n",
            "20\n",
            "1080\n",
            "9\n",
            "1\n",
            "2\n",
            "16.0\n",
            "2\n",
            "2\n",
            "4\n",
            "6\n",
            "2\n",
            "1\n",
            "16\n",
            "6\n",
            "76.0\n",
            "0.0\n",
            "6\n",
            "3\n",
            "4050\n",
            "12\n",
            "1\n",
            "\n",
            "----------\n",
            "0\n",
            "10\n",
            "28\n",
            "164.0\n",
            "265\n",
            "1.4\n",
            "8.7\n",
            "2\n",
            "5.0\n",
            "3\n",
            "5.5\n",
            "30\n",
            "2\n",
            "420\n",
            "0\n",
            "150.0\n",
            "18\n",
            "3\n",
            "9999\n",
            "20\n",
            "1080\n",
            "9\n",
            "1\n",
            "2\n",
            "16.0\n",
            "2\n",
            "2\n",
            "4\n",
            "6\n",
            "2\n",
            "3\n",
            "16\n",
            "6\n",
            "76.0\n",
            "0.0\n",
            "6\n",
            "3\n",
            "4050\n",
            "12\n",
            "1\n",
            "\n",
            "----------\n",
            "0\n",
            "8\n",
            "34\n",
            "150.0\n",
            "750\n",
            "1.7\n",
            "8.0\n",
            "2\n",
            "5.0\n",
            "3\n",
            "5.5\n",
            "30\n",
            "3\n",
            "608\n",
            "0\n",
            "152.6\n",
            "26\n",
            "3\n",
            "9999\n",
            "36\n",
            "1080\n",
            "9\n",
            "3\n",
            "2\n",
            "13.0\n",
            "1\n",
            "2\n",
            "2\n",
            "11\n",
            "4\n",
            "6\n",
            "16\n",
            "6\n",
            "76.2\n",
            "32.0\n",
            "5\n",
            "4\n",
            "3000\n",
            "90\n",
            "1\n",
            "\n",
            "----------\n",
            "0\n",
            "10\n",
            "34\n",
            "138.0\n",
            "521\n",
            "1.7\n",
            "8.2\n",
            "5\n",
            "5.0\n",
            "3\n",
            "5.0\n",
            "30\n",
            "3\n",
            "20\n",
            "0\n",
            "146.9\n",
            "26\n",
            "9\n",
            "9999\n",
            "23\n",
            "1080\n",
            "4\n",
            "3\n",
            "2\n",
            "13.0\n",
            "2\n",
            "1\n",
            "7\n",
            "5\n",
            "4\n",
            "4\n",
            "9\n",
            "6\n",
            "70.9\n",
            "32.0\n",
            "4\n",
            "3\n",
            "2000\n",
            "16\n",
            "1\n",
            "\n",
            "----------\n",
            "1\n",
            "10\n",
            "38\n",
            "149.0\n",
            "360\n",
            "1.3\n",
            "8.7\n",
            "2\n",
            "5.0\n",
            "3\n",
            "5.5\n",
            "30\n",
            "1\n",
            "0\n",
            "0\n",
            "150.9\n",
            "1\n",
            "11\n",
            "9999\n",
            "20\n",
            "1080\n",
            "9\n",
            "1\n",
            "2\n",
            "13.0\n",
            "6\n",
            "2\n",
            "4\n",
            "30\n",
            "4\n",
            "4\n",
            "18\n",
            "3\n",
            "75.2\n",
            "128.0\n",
            "5\n",
            "3\n",
            "3100\n",
            "19\n",
            "1\n",
            "\n",
            "----------\n",
            "2\n",
            "0\n",
            "27\n",
            "128.0\n",
            "490\n",
            "1.7\n",
            "8.8\n",
            "5\n",
            "5.0\n",
            "3\n",
            "5.0\n",
            "30\n",
            "3\n",
            "0\n",
            "0\n",
            "140.8\n",
            "18\n",
            "11\n",
            "9999\n",
            "12\n",
            "720\n",
            "5\n",
            "2\n",
            "2\n",
            "13.0\n",
            "6\n",
            "3\n",
            "2\n",
            "4\n",
            "9\n",
            "4\n",
            "9\n",
            "3\n",
            "70.4\n",
            "32.0\n",
            "6\n",
            "3\n",
            "2100\n",
            "19\n",
            "0\n",
            "\n",
            "----------\n",
            "0\n",
            "4\n",
            "41\n",
            "172.0\n",
            "350\n",
            "1.2\n",
            "8.2\n",
            "5\n",
            "5.0\n",
            "3\n",
            "5.5\n",
            "30\n",
            "5\n",
            "0\n",
            "0\n",
            "151.8\n",
            "18\n",
            "3\n",
            "10190\n",
            "21\n",
            "1080\n",
            "4\n",
            "3\n",
            "12\n",
            "13.0\n",
            "1\n",
            "2\n",
            "7\n",
            "2\n",
            "6\n",
            "6\n",
            "7\n",
            "6\n",
            "77.5\n",
            "128.0\n",
            "6\n",
            "3\n",
            "3000\n",
            "94\n",
            "1\n",
            "\n",
            "----------\n",
            "0\n",
            "1\n",
            "38\n",
            "143.0\n",
            "275\n",
            "1.3\n",
            "8.5\n",
            "5\n",
            "5.0\n",
            "3\n",
            "5.2\n",
            "30\n",
            "3\n",
            "21\n",
            "0\n",
            "148.0\n",
            "18\n",
            "3\n",
            "10899\n",
            "10\n",
            "1080\n",
            "9\n",
            "1\n",
            "2\n",
            "13.0\n",
            "2\n",
            "3\n",
            "2\n",
            "4\n",
            "4\n",
            "5\n",
            "20\n",
            "6\n",
            "73.6\n",
            "0.0\n",
            "6\n",
            "3\n",
            "2900\n",
            "90\n",
            "1\n",
            "\n",
            "----------\n",
            "0\n",
            "8\n",
            "28\n",
            "169.0\n",
            "496\n",
            "2.2\n",
            "7.5\n",
            "5\n",
            "5.0\n",
            "3\n",
            "5.5\n",
            "30\n",
            "1\n",
            "26\n",
            "0\n",
            "151.1\n",
            "17\n",
            "2\n",
            "10999\n",
            "20\n",
            "2160\n",
            "9\n",
            "1\n",
            "2\n",
            "13.0\n",
            "2\n",
            "3\n",
            "4\n",
            "19\n",
            "4\n",
            "1\n",
            "9\n",
            "6\n",
            "74.2\n",
            "0.0\n",
            "8\n",
            "1\n",
            "3000\n",
            "14\n",
            "1\n",
            "\n",
            "----------\n",
            "0\n",
            "8\n",
            "34\n",
            "149.0\n",
            "696\n",
            "1.7\n",
            "8.9\n",
            "5\n",
            "5.0\n",
            "3\n",
            "5.0\n",
            "30\n",
            "3\n",
            "43\n",
            "0\n",
            "142.0\n",
            "26\n",
            "3\n",
            "11090\n",
            "46\n",
            "1080\n",
            "4\n",
            "1\n",
            "2\n",
            "13.0\n",
            "2\n",
            "2\n",
            "2\n",
            "11\n",
            "4\n",
            "4\n",
            "9\n",
            "3\n",
            "71.8\n",
            "32.0\n",
            "4\n",
            "4\n",
            "4000\n",
            "16\n",
            "1\n",
            "\n",
            "----------\n",
            "0\n",
            "8\n",
            "41\n",
            "153.2\n",
            "261\n",
            "1.3\n",
            "8.3\n",
            "2\n",
            "8.0\n",
            "3\n",
            "5.5\n",
            "30\n",
            "3\n",
            "0\n",
            "0\n",
            "151.9\n",
            "5\n",
            "3\n",
            "11299\n",
            "28\n",
            "1080\n",
            "0\n",
            "3\n",
            "2\n",
            "13.0\n",
            "2\n",
            "3\n",
            "2\n",
            "14\n",
            "6\n",
            "4\n",
            "7\n",
            "3\n",
            "76.7\n",
            "32.0\n",
            "6\n",
            "3\n",
            "3000\n",
            "92\n",
            "1\n",
            "\n",
            "----------\n",
            "0\n",
            "8\n",
            "29\n",
            "130.0\n",
            "384\n",
            "1.7\n",
            "7.8\n",
            "2\n",
            "5.0\n",
            "3\n",
            "5.0\n",
            "30\n",
            "3\n",
            "385\n",
            "0\n",
            "138.1\n",
            "13\n",
            "0\n",
            "11999\n",
            "35\n",
            "1080\n",
            "1\n",
            "1\n",
            "2\n",
            "13.0\n",
            "1\n",
            "2\n",
            "2\n",
            "6\n",
            "4\n",
            "2\n",
            "23\n",
            "6\n",
            "69.6\n",
            "0.0\n",
            "5\n",
            "3\n",
            "3120\n",
            "22\n",
            "1\n",
            "\n",
            "----------\n",
            "0\n",
            "10\n",
            "38\n",
            "160.0\n",
            "265\n",
            "1.3\n",
            "9.2\n",
            "2\n",
            "5.0\n",
            "3\n",
            "5.5\n",
            "30\n",
            "2\n",
            "1016\n",
            "0\n",
            "153.6\n",
            "18\n",
            "3\n",
            "11999\n",
            "22\n",
            "1080\n",
            "9\n",
            "1\n",
            "2\n",
            "13.0\n",
            "2\n",
            "3\n",
            "2\n",
            "11\n",
            "2\n",
            "3\n",
            "17\n",
            "6\n",
            "76.5\n",
            "128.0\n",
            "6\n",
            "3\n",
            "3300\n",
            "12\n",
            "1\n",
            "\n",
            "----------\n",
            "0\n",
            "10\n",
            "29\n",
            "155.0\n",
            "342\n",
            "1.5\n",
            "11.6\n",
            "2\n",
            "5.0\n",
            "3\n",
            "5.0\n",
            "30\n",
            "3\n",
            "0\n",
            "0\n",
            "142.1\n",
            "5\n",
            "0\n",
            "12499\n",
            "28\n",
            "1080\n",
            "4\n",
            "1\n",
            "12\n",
            "13.0\n",
            "1\n",
            "2\n",
            "2\n",
            "3\n",
            "4\n",
            "4\n",
            "34\n",
            "5\n",
            "72.4\n",
            "32.0\n",
            "6\n",
            "2\n",
            "2470\n",
            "22\n",
            "1\n",
            "\n",
            "----------\n",
            "0\n",
            "13\n",
            "34\n",
            "138.0\n",
            "761\n",
            "1.7\n",
            "8.2\n",
            "5\n",
            "5.0\n",
            "3\n",
            "5.0\n",
            "30\n",
            "4\n",
            "2\n",
            "0\n",
            "146.9\n",
            "18\n",
            "11\n",
            "13349\n",
            "30\n",
            "1080\n",
            "3\n",
            "1\n",
            "2\n",
            "13.0\n",
            "1\n",
            "2\n",
            "2\n",
            "5\n",
            "4\n",
            "3\n",
            "9\n",
            "6\n",
            "70.9\n",
            "32.0\n",
            "4\n",
            "3\n",
            "2000\n",
            "16\n",
            "1\n",
            "\n",
            "----------\n",
            "0\n",
            "3\n",
            "41\n",
            "148.0\n",
            "566\n",
            "1.0\n",
            "9.3\n",
            "5\n",
            "5.0\n",
            "3\n",
            "5.0\n",
            "30\n",
            "2\n",
            "0\n",
            "0\n",
            "141.0\n",
            "5\n",
            "3\n",
            "13349\n",
            "16\n",
            "720\n",
            "4\n",
            "1\n",
            "2\n",
            "8.0\n",
            "2\n",
            "2\n",
            "2\n",
            "11\n",
            "6\n",
            "3\n",
            "9\n",
            "6\n",
            "71.8\n",
            "32.0\n",
            "6\n",
            "3\n",
            "4000\n",
            "92\n",
            "1\n",
            "\n",
            "----------\n",
            "0\n",
            "8\n",
            "29\n",
            "155.0\n",
            "620\n",
            "1.5\n",
            "9.8\n",
            "2\n",
            "5.0\n",
            "3\n",
            "5.5\n",
            "30\n",
            "3\n",
            "671\n",
            "0\n",
            "153.0\n",
            "5\n",
            "3\n",
            "13499\n",
            "24\n",
            "1080\n",
            "9\n",
            "4\n",
            "1\n",
            "16.0\n",
            "2\n",
            "3\n",
            "3\n",
            "3\n",
            "9\n",
            "4\n",
            "16\n",
            "3\n",
            "76.6\n",
            "128.0\n",
            "9\n",
            "3\n",
            "3000\n",
            "72\n",
            "1\n",
            "\n",
            "----------\n",
            "0\n",
            "7\n",
            "29\n",
            "171.0\n",
            "354\n",
            "1.6\n",
            "7.5\n",
            "5\n",
            "5.0\n",
            "3\n",
            "5.5\n",
            "30\n",
            "2\n",
            "73\n",
            "0\n",
            "152.4\n",
            "26\n",
            "3\n",
            "13990\n",
            "23\n",
            "1080\n",
            "4\n",
            "3\n",
            "7\n",
            "13.0\n",
            "1\n",
            "2\n",
            "0\n",
            "2\n",
            "4\n",
            "3\n",
            "16\n",
            "6\n",
            "78.6\n",
            "128.0\n",
            "6\n",
            "3\n",
            "3000\n",
            "72\n",
            "1\n",
            "\n",
            "----------\n",
            "0\n",
            "8\n",
            "28\n",
            "150.0\n",
            "337\n",
            "2.0\n",
            "8.7\n",
            "5\n",
            "5.0\n",
            "3\n",
            "5.5\n",
            "30\n",
            "2\n",
            "25\n",
            "0\n",
            "156.8\n",
            "5\n",
            "4\n",
            "13999\n",
            "9\n",
            "1080\n",
            "9\n",
            "1\n",
            "2\n",
            "13.0\n",
            "1\n",
            "4\n",
            "2\n",
            "4\n",
            "4\n",
            "3\n",
            "16\n",
            "6\n",
            "78.1\n",
            "64.0\n",
            "6\n",
            "3\n",
            "3000\n",
            "14\n",
            "1\n",
            "\n",
            "----------\n",
            "0\n",
            "10\n",
            "30\n",
            "170.0\n",
            "354\n",
            "1.6\n",
            "7.8\n",
            "2\n",
            "5.0\n",
            "3\n",
            "5.5\n",
            "30\n",
            "2\n",
            "301\n",
            "0\n",
            "151.7\n",
            "18\n",
            "3\n",
            "14249\n",
            "23\n",
            "1080\n",
            "9\n",
            "3\n",
            "7\n",
            "13.0\n",
            "1\n",
            "3\n",
            "2\n",
            "2\n",
            "4\n",
            "3\n",
            "16\n",
            "6\n",
            "76.0\n",
            "128.0\n",
            "9\n",
            "3\n",
            "3300\n",
            "72\n",
            "1\n",
            "\n",
            "----------\n",
            "0\n",
            "9\n",
            "43\n",
            "141.0\n",
            "345\n",
            "1.2\n",
            "7.3\n",
            "6\n",
            "5.0\n",
            "4\n",
            "5.5\n",
            "30\n",
            "5\n",
            "0\n",
            "0\n",
            "151.3\n",
            "7\n",
            "11\n",
            "14300\n",
            "18\n",
            "1080\n",
            "4\n",
            "4\n",
            "7\n",
            "13.0\n",
            "1\n",
            "2\n",
            "2\n",
            "2\n",
            "11\n",
            "4\n",
            "7\n",
            "3\n",
            "77.2\n",
            "64.0\n",
            "4\n",
            "3\n",
            "2950\n",
            "94\n",
            "0\n",
            "\n",
            "----------\n",
            "0\n",
            "1\n",
            "44\n",
            "154.5\n",
            "560\n",
            "1.7\n",
            "7.7\n",
            "5\n",
            "8.0\n",
            "3\n",
            "5.5\n",
            "30\n",
            "2\n",
            "12\n",
            "0\n",
            "157.7\n",
            "26\n",
            "9\n",
            "14614\n",
            "12\n",
            "1080\n",
            "4\n",
            "1\n",
            "2\n",
            "13.0\n",
            "2\n",
            "1\n",
            "2\n",
            "5\n",
            "4\n",
            "4\n",
            "7\n",
            "6\n",
            "78.7\n",
            "32.0\n",
            "4\n",
            "3\n",
            "2600\n",
            "79\n",
            "1\n",
            "\n",
            "----------\n",
            "1\n",
            "1\n",
            "44\n",
            "171.8\n",
            "1093\n",
            "1.4\n",
            "7.7\n",
            "5\n",
            "1.1\n",
            "3\n",
            "6.0\n",
            "30\n",
            "3\n",
            "24\n",
            "0\n",
            "165.2\n",
            "26\n",
            "3\n",
            "14880\n",
            "30\n",
            "1080\n",
            "4\n",
            "1\n",
            "11\n",
            "13.0\n",
            "1\n",
            "1\n",
            "7\n",
            "8\n",
            "6\n",
            "4\n",
            "6\n",
            "6\n",
            "83.8\n",
            "32.0\n",
            "3\n",
            "3\n",
            "3000\n",
            "129\n",
            "1\n",
            "\n",
            "----------\n",
            "1\n",
            "10\n",
            "29\n",
            "229.0\n",
            "480\n",
            "1.5\n",
            "7.6\n",
            "4\n",
            "5.0\n",
            "3\n",
            "6.8\n",
            "30\n",
            "3\n",
            "0\n",
            "0\n",
            "186.6\n",
            "18\n",
            "3\n",
            "14990\n",
            "24\n",
            "1080\n",
            "1\n",
            "1\n",
            "1\n",
            "13.0\n",
            "2\n",
            "2\n",
            "4\n",
            "11\n",
            "4\n",
            "4\n",
            "12\n",
            "6\n",
            "96.6\n",
            "64.0\n",
            "5\n",
            "3\n",
            "3500\n",
            "22\n",
            "1\n",
            "\n",
            "----------\n",
            "0\n",
            "10\n",
            "16\n",
            "160.0\n",
            "200\n",
            "2.3\n",
            "6.9\n",
            "5\n",
            "8.0\n",
            "3\n",
            "5.0\n",
            "30\n",
            "3\n",
            "175\n",
            "0\n",
            "140.0\n",
            "5\n",
            "9\n",
            "14999\n",
            "24\n",
            "1080\n",
            "9\n",
            "1\n",
            "0\n",
            "13.0\n",
            "2\n",
            "3\n",
            "2\n",
            "12\n",
            "6\n",
            "1\n",
            "23\n",
            "6\n",
            "69.0\n",
            "0.0\n",
            "6\n",
            "4\n",
            "2525\n",
            "15\n",
            "1\n",
            "\n",
            "----------\n",
            "3\n",
            "6\n",
            "16\n",
            "149.0\n",
            "280\n",
            "2.5\n",
            "8.9\n",
            "5\n",
            "8.0\n",
            "3\n",
            "5.0\n",
            "30\n",
            "2\n",
            "33\n",
            "0\n",
            "139.2\n",
            "26\n",
            "3\n",
            "14999\n",
            "18\n",
            "2160\n",
            "1\n",
            "1\n",
            "2\n",
            "13.0\n",
            "1\n",
            "3\n",
            "2\n",
            "6\n",
            "6\n",
            "2\n",
            "23\n",
            "6\n",
            "68.5\n",
            "0.0\n",
            "4\n",
            "3\n",
            "3080\n",
            "15\n",
            "1\n",
            "\n",
            "----------\n",
            "3\n",
            "3\n",
            "16\n",
            "144.0\n",
            "250\n",
            "2.5\n",
            "10.0\n",
            "2\n",
            "13.0\n",
            "3\n",
            "5.2\n",
            "30\n",
            "4\n",
            "188\n",
            "0\n",
            "140.8\n",
            "5\n",
            "11\n",
            "14999\n",
            "24\n",
            "2160\n",
            "9\n",
            "1\n",
            "5\n",
            "13.0\n",
            "1\n",
            "2\n",
            "2\n",
            "3\n",
            "6\n",
            "1\n",
            "20\n",
            "4\n",
            "72.4\n",
            "0.0\n",
            "4\n",
            "3\n",
            "2300\n",
            "15\n",
            "1\n",
            "\n",
            "----------\n",
            "2\n",
            "10\n",
            "16\n",
            "175.0\n",
            "840\n",
            "2.5\n",
            "8.9\n",
            "3\n",
            "8.0\n",
            "3\n",
            "5.5\n",
            "30\n",
            "1\n",
            "6\n",
            "0\n",
            "155.7\n",
            "15\n",
            "11\n",
            "15689\n",
            "48\n",
            "1080\n",
            "9\n",
            "1\n",
            "4\n",
            "13.0\n",
            "2\n",
            "3\n",
            "6\n",
            "11\n",
            "6\n",
            "0\n",
            "16\n",
            "3\n",
            "77.3\n",
            "0.0\n",
            "6\n",
            "14\n",
            "4100\n",
            "15\n",
            "0\n",
            "\n",
            "----------\n",
            "0\n",
            "8\n",
            "29\n",
            "134.0\n",
            "380\n",
            "1.7\n",
            "7.3\n",
            "5\n",
            "8.0\n",
            "3\n",
            "5.0\n",
            "30\n",
            "1\n",
            "0\n",
            "0\n",
            "143.5\n",
            "8\n",
            "2\n",
            "15950\n",
            "20\n",
            "1080\n",
            "9\n",
            "1\n",
            "2\n",
            "13.0\n",
            "1\n",
            "3\n",
            "2\n",
            "10\n",
            "4\n",
            "3\n",
            "9\n",
            "6\n",
            "71.0\n",
            "128.0\n",
            "6\n",
            "3\n",
            "2500\n",
            "21\n",
            "1\n",
            "\n",
            "----------\n",
            "0\n",
            "7\n",
            "30\n",
            "170.0\n",
            "354\n",
            "1.6\n",
            "7.8\n",
            "5\n",
            "5.0\n",
            "3\n",
            "5.5\n",
            "30\n",
            "3\n",
            "301\n",
            "0\n",
            "151.7\n",
            "26\n",
            "3\n",
            "15990\n",
            "23\n",
            "1080\n",
            "0\n",
            "3\n",
            "7\n",
            "13.0\n",
            "1\n",
            "3\n",
            "2\n",
            "2\n",
            "4\n",
            "4\n",
            "7\n",
            "6\n",
            "76.0\n",
            "32.0\n",
            "9\n",
            "3\n",
            "3300\n",
            "72\n",
            "1\n",
            "\n",
            "----------\n",
            "0\n",
            "13\n",
            "29\n",
            "189.0\n",
            "600\n",
            "1.5\n",
            "9.9\n",
            "2\n",
            "5.0\n",
            "3\n",
            "5.5\n",
            "30\n",
            "2\n",
            "137\n",
            "0\n",
            "152.9\n",
            "5\n",
            "11\n",
            "15999\n",
            "44\n",
            "1080\n",
            "9\n",
            "1\n",
            "2\n",
            "13.0\n",
            "2\n",
            "2\n",
            "4\n",
            "11\n",
            "4\n",
            "3\n",
            "16\n",
            "6\n",
            "75.6\n",
            "128.0\n",
            "6\n",
            "3\n",
            "5000\n",
            "22\n",
            "1\n",
            "\n",
            "----------\n",
            "3\n",
            "10\n",
            "15\n",
            "130.0\n",
            "370\n",
            "1.6\n",
            "7.9\n",
            "5\n",
            "2.0\n",
            "3\n",
            "5.0\n",
            "30\n",
            "1\n",
            "347\n",
            "0\n",
            "136.6\n",
            "5\n",
            "3\n",
            "16999\n",
            "17\n",
            "1080\n",
            "9\n",
            "3\n",
            "7\n",
            "13.0\n",
            "1\n",
            "2\n",
            "2\n",
            "2\n",
            "4\n",
            "4\n",
            "23\n",
            "3\n",
            "69.8\n",
            "64.0\n",
            "2\n",
            "10\n",
            "2600\n",
            "20\n",
            "1\n",
            "\n",
            "----------\n",
            "0\n",
            "10\n",
            "29\n",
            "145.0\n",
            "456\n",
            "1.7\n",
            "7.3\n",
            "2\n",
            "8.0\n",
            "3\n",
            "5.0\n",
            "30\n",
            "2\n",
            "22\n",
            "0\n",
            "142.0\n",
            "5\n",
            "3\n",
            "17810\n",
            "21\n",
            "1080\n",
            "1\n",
            "1\n",
            "2\n",
            "16.0\n",
            "2\n",
            "3\n",
            "4\n",
            "11\n",
            "4\n",
            "4\n",
            "23\n",
            "6\n",
            "70.0\n",
            "128.0\n",
            "5\n",
            "3\n",
            "3000\n",
            "22\n",
            "1\n",
            "\n",
            "----------\n",
            "0\n",
            "8\n",
            "29\n",
            "169.0\n",
            "330\n",
            "1.7\n",
            "10.9\n",
            "2\n",
            "5.0\n",
            "3\n",
            "5.5\n",
            "30\n",
            "2\n",
            "48\n",
            "0\n",
            "148.0\n",
            "5\n",
            "11\n",
            "18499\n",
            "18\n",
            "1080\n",
            "9\n",
            "1\n",
            "2\n",
            "21.0\n",
            "1\n",
            "2\n",
            "4\n",
            "3\n",
            "6\n",
            "4\n",
            "16\n",
            "7\n",
            "75.0\n",
            "128.0\n",
            "6\n",
            "3\n",
            "3630\n",
            "22\n",
            "1\n",
            "\n",
            "----------\n",
            "1\n",
            "8\n",
            "29\n",
            "135.0\n",
            "488\n",
            "1.5\n",
            "7.3\n",
            "5\n",
            "5.0\n",
            "3\n",
            "5.0\n",
            "30\n",
            "3\n",
            "0\n",
            "0\n",
            "145.5\n",
            "21\n",
            "9\n",
            "18798\n",
            "13\n",
            "1080\n",
            "6\n",
            "1\n",
            "2\n",
            "13.0\n",
            "1\n",
            "2\n",
            "2\n",
            "8\n",
            "6\n",
            "4\n",
            "9\n",
            "0\n",
            "72.6\n",
            "128.0\n",
            "5\n",
            "3\n",
            "2400\n",
            "22\n",
            "1\n",
            "\n",
            "----------\n",
            "0\n",
            "10\n",
            "34\n",
            "147.0\n",
            "682\n",
            "1.7\n",
            "7.9\n",
            "5\n",
            "5.0\n",
            "3\n",
            "5.5\n",
            "30\n",
            "3\n",
            "0\n",
            "0\n",
            "150.3\n",
            "20\n",
            "9\n",
            "19000\n",
            "11\n",
            "1080\n",
            "1\n",
            "1\n",
            "3\n",
            "13.0\n",
            "1\n",
            "2\n",
            "2\n",
            "8\n",
            "4\n",
            "4\n",
            "0\n",
            "3\n",
            "77.4\n",
            "128.0\n",
            "5\n",
            "7\n",
            "2600\n",
            "16\n",
            "1\n",
            "\n",
            "----------\n",
            "0\n",
            "8\n",
            "38\n",
            "150.0\n",
            "420\n",
            "1.5\n",
            "8.0\n",
            "5\n",
            "4.0\n",
            "3\n",
            "5.5\n",
            "30\n",
            "3\n",
            "18\n",
            "0\n",
            "157.7\n",
            "26\n",
            "9\n",
            "19490\n",
            "12\n",
            "1080\n",
            "9\n",
            "1\n",
            "2\n",
            "13.0\n",
            "2\n",
            "2\n",
            "2\n",
            "5\n",
            "4\n",
            "4\n",
            "16\n",
            "3\n",
            "78.9\n",
            "2048.0\n",
            "6\n",
            "3\n",
            "2800\n",
            "19\n",
            "1\n",
            "\n",
            "----------\n",
            "0\n",
            "10\n",
            "34\n",
            "165.0\n",
            "170\n",
            "1.5\n",
            "7.6\n",
            "5\n",
            "4.0\n",
            "3\n",
            "5.5\n",
            "30\n",
            "1\n",
            "13\n",
            "0\n",
            "157.7\n",
            "26\n",
            "9\n",
            "19890\n",
            "7\n",
            "1080\n",
            "4\n",
            "3\n",
            "2\n",
            "13.0\n",
            "6\n",
            "2\n",
            "2\n",
            "5\n",
            "4\n",
            "4\n",
            "7\n",
            "3\n",
            "79.7\n",
            "128.0\n",
            "5\n",
            "3\n",
            "2600\n",
            "16\n",
            "1\n",
            "\n",
            "----------\n",
            "3\n",
            "8\n",
            "16\n",
            "162.0\n",
            "360\n",
            "2.5\n",
            "8.9\n",
            "2\n",
            "5.0\n",
            "3\n",
            "5.5\n",
            "30\n",
            "4\n",
            "22\n",
            "0\n",
            "152.9\n",
            "5\n",
            "3\n",
            "19999\n",
            "38\n",
            "2160\n",
            "9\n",
            "1\n",
            "2\n",
            "13.0\n",
            "2\n",
            "3\n",
            "6\n",
            "12\n",
            "6\n",
            "1\n",
            "16\n",
            "6\n",
            "75.9\n",
            "0.0\n",
            "4\n",
            "4\n",
            "3100\n",
            "15\n",
            "1\n",
            "\n",
            "----------\n",
            "3\n",
            "10\n",
            "17\n",
            "112.0\n",
            "250\n",
            "1.3\n",
            "7.6\n",
            "2\n",
            "1.2\n",
            "3\n",
            "4.0\n",
            "30\n",
            "1\n",
            "1304\n",
            "2\n",
            "123.8\n",
            "12\n",
            "11\n",
            "20397\n",
            "10\n",
            "1080\n",
            "2\n",
            "1\n",
            "2\n",
            "8.0\n",
            "2\n",
            "1\n",
            "2\n",
            "1\n",
            "0\n",
            "1\n",
            "13\n",
            "6\n",
            "58.6\n",
            "0.0\n",
            "11\n",
            "13\n",
            "1560\n",
            "13\n",
            "1\n",
            "\n",
            "----------\n",
            "0\n",
            "8\n",
            "29\n",
            "183.0\n",
            "687\n",
            "1.7\n",
            "8.0\n",
            "5\n",
            "4.0\n",
            "3\n",
            "5.5\n",
            "30\n",
            "2\n",
            "131\n",
            "0\n",
            "158.0\n",
            "26\n",
            "11\n",
            "21300\n",
            "19\n",
            "1080\n",
            "9\n",
            "1\n",
            "9\n",
            "13.0\n",
            "2\n",
            "2\n",
            "2\n",
            "5\n",
            "4\n",
            "4\n",
            "16\n",
            "6\n",
            "77.5\n",
            "128.0\n",
            "5\n",
            "3\n",
            "2600\n",
            "22\n",
            "1\n",
            "\n",
            "----------\n",
            "3\n",
            "10\n",
            "16\n",
            "145.0\n",
            "390\n",
            "1.9\n",
            "8.1\n",
            "5\n",
            "2.0\n",
            "3\n",
            "5.1\n",
            "30\n",
            "1\n",
            "22\n",
            "0\n",
            "142.0\n",
            "5\n",
            "9\n",
            "21999\n",
            "21\n",
            "2160\n",
            "1\n",
            "3\n",
            "7\n",
            "16.0\n",
            "1\n",
            "2\n",
            "2\n",
            "2\n",
            "6\n",
            "4\n",
            "22\n",
            "7\n",
            "72.5\n",
            "128.0\n",
            "4\n",
            "9\n",
            "2800\n",
            "15\n",
            "0\n",
            "\n",
            "----------\n",
            "0\n",
            "8\n",
            "34\n",
            "187.0\n",
            "635\n",
            "1.7\n",
            "8.2\n",
            "5\n",
            "13.0\n",
            "3\n",
            "6.0\n",
            "30\n",
            "3\n",
            "26\n",
            "0\n",
            "164.2\n",
            "20\n",
            "9\n",
            "21999\n",
            "13\n",
            "1080\n",
            "1\n",
            "1\n",
            "2\n",
            "13.0\n",
            "1\n",
            "2\n",
            "2\n",
            "8\n",
            "4\n",
            "4\n",
            "14\n",
            "3\n",
            "79.6\n",
            "200.0\n",
            "5\n",
            "3\n",
            "2930\n",
            "16\n",
            "1\n",
            "\n",
            "----------\n",
            "0\n",
            "8\n",
            "9\n",
            "175.0\n",
            "360\n",
            "1.8\n",
            "9.9\n",
            "2\n",
            "5.0\n",
            "3\n",
            "5.5\n",
            "30\n",
            "4\n",
            "100\n",
            "0\n",
            "151.8\n",
            "5\n",
            "9\n",
            "22999\n",
            "38\n",
            "2160\n",
            "9\n",
            "1\n",
            "2\n",
            "13.0\n",
            "2\n",
            "4\n",
            "6\n",
            "12\n",
            "6\n",
            "1\n",
            "16\n",
            "6\n",
            "74.9\n",
            "0.0\n",
            "6\n",
            "12\n",
            "3300\n",
            "5\n",
            "1\n",
            "\n",
            "----------\n",
            "1\n",
            "8\n",
            "24\n",
            "157.0\n",
            "620\n",
            "2.2\n",
            "8.5\n",
            "1\n",
            "8.0\n",
            "3\n",
            "5.2\n",
            "30\n",
            "3\n",
            "29\n",
            "0\n",
            "143.2\n",
            "26\n",
            "9\n",
            "22999\n",
            "23\n",
            "1080\n",
            "9\n",
            "4\n",
            "2\n",
            "20.0\n",
            "2\n",
            "3\n",
            "2\n",
            "15\n",
            "4\n",
            "4\n",
            "20\n",
            "6\n",
            "71.9\n",
            "128.0\n",
            "5\n",
            "3\n",
            "3100\n",
            "11\n",
            "0\n",
            "\n",
            "----------\n",
            "0\n",
            "8\n",
            "14\n",
            "175.0\n",
            "618\n",
            "1.8\n",
            "9.3\n",
            "2\n",
            "8.0\n",
            "4\n",
            "5.5\n",
            "30\n",
            "2\n",
            "0\n",
            "0\n",
            "154.0\n",
            "5\n",
            "11\n",
            "24499\n",
            "31\n",
            "2160\n",
            "9\n",
            "4\n",
            "1\n",
            "21.0\n",
            "4\n",
            "3\n",
            "6\n",
            "11\n",
            "8\n",
            "6\n",
            "16\n",
            "6\n",
            "76.5\n",
            "0.0\n",
            "6\n",
            "3\n",
            "3600\n",
            "8\n",
            "0\n",
            "\n",
            "----------\n",
            "3\n",
            "7\n",
            "41\n",
            "155.0\n",
            "180\n",
            "1.6\n",
            "7.1\n",
            "5\n",
            "5.0\n",
            "3\n",
            "5.2\n",
            "30\n",
            "3\n",
            "75\n",
            "0\n",
            "144.8\n",
            "7\n",
            "9\n",
            "24900\n",
            "16\n",
            "1080\n",
            "1\n",
            "0\n",
            "7\n",
            "13.0\n",
            "2\n",
            "2\n",
            "2\n",
            "2\n",
            "4\n",
            "4\n",
            "20\n",
            "3\n",
            "71.0\n",
            "128.0\n",
            "6\n",
            "3\n",
            "2900\n",
            "72\n",
            "1\n",
            "\n",
            "----------\n",
            "1\n",
            "8\n",
            "3\n",
            "129.0\n",
            "598\n",
            "1.8\n",
            "7.3\n",
            "2\n",
            "4.0\n",
            "3\n",
            "5.15\n",
            "30\n",
            "1\n",
            "0\n",
            "0\n",
            "144.6\n",
            "7\n",
            "9\n",
            "24999\n",
            "27\n",
            "2160\n",
            "1\n",
            "1\n",
            "2\n",
            "16.0\n",
            "2\n",
            "4\n",
            "4\n",
            "6\n",
            "6\n",
            "2\n",
            "21\n",
            "6\n",
            "69.2\n",
            "0.0\n",
            "9\n",
            "0\n",
            "3000\n",
            "2\n",
            "0\n",
            "\n",
            "----------\n",
            "4\n",
            "8\n",
            "14\n",
            "179.0\n",
            "410\n",
            "1.8\n",
            "11.1\n",
            "0\n",
            "5.0\n",
            "3\n",
            "5.7\n",
            "30\n",
            "1\n",
            "4\n",
            "0\n",
            "153.9\n",
            "5\n",
            "9\n",
            "24999\n",
            "19\n",
            "2160\n",
            "10\n",
            "4\n",
            "12\n",
            "21.0\n",
            "1\n",
            "3\n",
            "6\n",
            "3\n",
            "8\n",
            "4\n",
            "26\n",
            "6\n",
            "76.2\n",
            "128.0\n",
            "6\n",
            "3\n",
            "3000\n",
            "3\n",
            "1\n",
            "\n",
            "----------\n",
            "3\n",
            "8\n",
            "9\n",
            "144.0\n",
            "590\n",
            "2.0\n",
            "6.9\n",
            "5\n",
            "2.2\n",
            "3\n",
            "5.2\n",
            "30\n",
            "2\n",
            "126\n",
            "0\n",
            "146.0\n",
            "25\n",
            "3\n",
            "25500\n",
            "17\n",
            "2160\n",
            "1\n",
            "1\n",
            "1\n",
            "20.7\n",
            "1\n",
            "3\n",
            "4\n",
            "8\n",
            "6\n",
            "4\n",
            "20\n",
            "7\n",
            "72.0\n",
            "128.0\n",
            "5\n",
            "3\n",
            "2930\n",
            "5\n",
            "1\n",
            "\n",
            "----------\n",
            "1\n",
            "10\n",
            "28\n",
            "142.6\n",
            "504\n",
            "2.0\n",
            "7.6\n",
            "5\n",
            "13.0\n",
            "3\n",
            "5.0\n",
            "30\n",
            "3\n",
            "69\n",
            "0\n",
            "145.0\n",
            "21\n",
            "9\n",
            "25500\n",
            "12\n",
            "216\n",
            "1\n",
            "1\n",
            "2\n",
            "21.2\n",
            "1\n",
            "3\n",
            "2\n",
            "8\n",
            "4\n",
            "4\n",
            "23\n",
            "1\n",
            "72.0\n",
            "200.0\n",
            "5\n",
            "3\n",
            "2600\n",
            "14\n",
            "0\n",
            "\n",
            "----------\n",
            "0\n",
            "10\n",
            "25\n",
            "145.0\n",
            "250\n",
            "2.0\n",
            "6.6\n",
            "5\n",
            "16.0\n",
            "3\n",
            "5.5\n",
            "30\n",
            "4\n",
            "19\n",
            "0\n",
            "151.8\n",
            "7\n",
            "11\n",
            "27580\n",
            "24\n",
            "1080\n",
            "9\n",
            "1\n",
            "0\n",
            "13.0\n",
            "2\n",
            "4\n",
            "6\n",
            "10\n",
            "4\n",
            "3\n",
            "16\n",
            "6\n",
            "74.3\n",
            "128.0\n",
            "6\n",
            "3\n",
            "2850\n",
            "90\n",
            "1\n",
            "\n",
            "----------\n",
            "3\n",
            "10\n",
            "11\n",
            "176.0\n",
            "200\n",
            "2.7\n",
            "8.5\n",
            "5\n",
            "3.7\n",
            "3\n",
            "5.7\n",
            "30\n",
            "1\n",
            "226\n",
            "0\n",
            "153.5\n",
            "0\n",
            "3\n",
            "29900\n",
            "20\n",
            "216\n",
            "10\n",
            "3\n",
            "7\n",
            "16.0\n",
            "1\n",
            "3\n",
            "4\n",
            "2\n",
            "6\n",
            "4\n",
            "24\n",
            "6\n",
            "78.6\n",
            "128.0\n",
            "4\n",
            "3\n",
            "3220\n",
            "9\n",
            "1\n",
            "\n",
            "----------\n",
            "0\n",
            "10\n",
            "21\n",
            "168.0\n",
            "420\n",
            "2.3\n",
            "8.3\n",
            "5\n",
            "2.0\n",
            "3\n",
            "5.7\n",
            "30\n",
            "0\n",
            "502\n",
            "0\n",
            "151.2\n",
            "5\n",
            "3\n",
            "29990\n",
            "21\n",
            "2160\n",
            "9\n",
            "3\n",
            "7\n",
            "13.0\n",
            "1\n",
            "3\n",
            "4\n",
            "2\n",
            "6\n",
            "4\n",
            "15\n",
            "3\n",
            "79.2\n",
            "64.0\n",
            "3\n",
            "9\n",
            "3200\n",
            "52\n",
            "1\n",
            "\n",
            "----------\n",
            "4\n",
            "6\n",
            "14\n",
            "155.0\n",
            "410\n",
            "1.8\n",
            "6.3\n",
            "2\n",
            "8.0\n",
            "3\n",
            "5.5\n",
            "30\n",
            "3\n",
            "0\n",
            "0\n",
            "148.9\n",
            "10\n",
            "9\n",
            "30947\n",
            "19\n",
            "2160\n",
            "10\n",
            "5\n",
            "1\n",
            "16.0\n",
            "1\n",
            "3\n",
            "4\n",
            "9\n",
            "8\n",
            "4\n",
            "28\n",
            "6\n",
            "76.1\n",
            "2048.0\n",
            "6\n",
            "3\n",
            "3000\n",
            "8\n",
            "1\n",
            "\n",
            "----------\n",
            "3\n",
            "8\n",
            "9\n",
            "178.0\n",
            "440\n",
            "2.0\n",
            "7.3\n",
            "2\n",
            "8.0\n",
            "3\n",
            "5.7\n",
            "30\n",
            "1\n",
            "87\n",
            "0\n",
            "159.3\n",
            "11\n",
            "9\n",
            "31999\n",
            "23\n",
            "2160\n",
            "8\n",
            "1\n",
            "0\n",
            "12.3\n",
            "2\n",
            "3\n",
            "4\n",
            "15\n",
            "4\n",
            "2\n",
            "25\n",
            "6\n",
            "77.8\n",
            "0.0\n",
            "9\n",
            "3\n",
            "3450\n",
            "5\n",
            "1\n",
            "\n",
            "----------\n",
            "3\n",
            "7\n",
            "8\n",
            "138.0\n",
            "354\n",
            "2.1\n",
            "6.8\n",
            "2\n",
            "5.0\n",
            "3\n",
            "5.1\n",
            "30\n",
            "1\n",
            "349\n",
            "0\n",
            "143.4\n",
            "7\n",
            "9\n",
            "33900\n",
            "17\n",
            "2160\n",
            "10\n",
            "1\n",
            "7\n",
            "16.0\n",
            "1\n",
            "3\n",
            "4\n",
            "2\n",
            "6\n",
            "2\n",
            "31\n",
            "3\n",
            "70.5\n",
            "0.0\n",
            "5\n",
            "3\n",
            "2550\n",
            "4\n",
            "1\n",
            "\n",
            "----------\n",
            "3\n",
            "8\n",
            "9\n",
            "169.0\n",
            "500\n",
            "2.0\n",
            "9.2\n",
            "2\n",
            "5.0\n",
            "3\n",
            "5.4\n",
            "30\n",
            "4\n",
            "22\n",
            "0\n",
            "149.8\n",
            "23\n",
            "11\n",
            "34999\n",
            "25\n",
            "2160\n",
            "10\n",
            "1\n",
            "0\n",
            "21.0\n",
            "1\n",
            "3\n",
            "4\n",
            "3\n",
            "6\n",
            "1\n",
            "29\n",
            "6\n",
            "78.0\n",
            "0.0\n",
            "7\n",
            "3\n",
            "3760\n",
            "5\n",
            "0\n",
            "\n",
            "----------\n",
            "3\n",
            "10\n",
            "6\n",
            "113.0\n",
            "240\n",
            "1.84\n",
            "7.6\n",
            "2\n",
            "1.2\n",
            "3\n",
            "4.0\n",
            "30\n",
            "1\n",
            "0\n",
            "2\n",
            "123.8\n",
            "3\n",
            "6\n",
            "34999\n",
            "14\n",
            "2160\n",
            "13\n",
            "1\n",
            "1\n",
            "12.0\n",
            "2\n",
            "1\n",
            "2\n",
            "1\n",
            "1\n",
            "2\n",
            "13\n",
            "6\n",
            "58.6\n",
            "0.0\n",
            "14\n",
            "13\n",
            "1624\n",
            "1\n",
            "0\n",
            "\n",
            "----------\n",
            "4\n",
            "8\n",
            "14\n",
            "136.0\n",
            "360\n",
            "1.8\n",
            "7.9\n",
            "1\n",
            "5.0\n",
            "3\n",
            "5.2\n",
            "30\n",
            "1\n",
            "24\n",
            "0\n",
            "147.0\n",
            "5\n",
            "9\n",
            "35900\n",
            "14\n",
            "2160\n",
            "9\n",
            "4\n",
            "2\n",
            "12.3\n",
            "4\n",
            "2\n",
            "2\n",
            "9\n",
            "8\n",
            "2\n",
            "19\n",
            "6\n",
            "72.6\n",
            "0.0\n",
            "9\n",
            "11\n",
            "2700\n",
            "8\n",
            "1\n",
            "\n",
            "----------\n",
            "3\n",
            "10\n",
            "12\n",
            "129.0\n",
            "250\n",
            "1.4\n",
            "6.9\n",
            "2\n",
            "1.3\n",
            "3\n",
            "4.7\n",
            "60\n",
            "1\n",
            "410\n",
            "2\n",
            "138.1\n",
            "16\n",
            "9\n",
            "36499\n",
            "14\n",
            "1080\n",
            "7\n",
            "1\n",
            "2\n",
            "8.0\n",
            "2\n",
            "1\n",
            "2\n",
            "1\n",
            "0\n",
            "2\n",
            "13\n",
            "3\n",
            "67.0\n",
            "0.0\n",
            "12\n",
            "6\n",
            "1810\n",
            "7\n",
            "1\n",
            "\n",
            "----------\n",
            "3\n",
            "10\n",
            "12\n",
            "129.0\n",
            "250\n",
            "1.4\n",
            "6.9\n",
            "2\n",
            "1.2\n",
            "3\n",
            "4.7\n",
            "60\n",
            "4\n",
            "39\n",
            "2\n",
            "138.1\n",
            "16\n",
            "11\n",
            "36999\n",
            "14\n",
            "1080\n",
            "9\n",
            "1\n",
            "2\n",
            "8.0\n",
            "2\n",
            "1\n",
            "2\n",
            "1\n",
            "0\n",
            "1\n",
            "13\n",
            "6\n",
            "67.0\n",
            "0.0\n",
            "12\n",
            "13\n",
            "1810\n",
            "7\n",
            "1\n",
            "\n",
            "----------\n",
            "3\n",
            "10\n",
            "28\n",
            "168.0\n",
            "580\n",
            "2.2\n",
            "9.6\n",
            "2\n",
            "4.0\n",
            "3\n",
            "5.2\n",
            "30\n",
            "3\n",
            "11\n",
            "0\n",
            "151.0\n",
            "7\n",
            "7\n",
            "37766\n",
            "20\n",
            "2160\n",
            "10\n",
            "4\n",
            "10\n",
            "20.0\n",
            "4\n",
            "3\n",
            "4\n",
            "5\n",
            "10\n",
            "4\n",
            "30\n",
            "6\n",
            "72.0\n",
            "256.0\n",
            "5\n",
            "3\n",
            "2840\n",
            "56\n",
            "0\n",
            "\n",
            "----------\n",
            "3\n",
            "12\n",
            "16\n",
            "149.0\n",
            "410\n",
            "2.5\n",
            "8.9\n",
            "3\n",
            "2.1\n",
            "3\n",
            "5.5\n",
            "30\n",
            "3\n",
            "0\n",
            "0\n",
            "146.3\n",
            "5\n",
            "1\n",
            "38000\n",
            "19\n",
            "2160\n",
            "10\n",
            "3\n",
            "1\n",
            "13.0\n",
            "5\n",
            "3\n",
            "4\n",
            "9\n",
            "7\n",
            "4\n",
            "28\n",
            "6\n",
            "74.6\n",
            "32.0\n",
            "4\n",
            "3\n",
            "3000\n",
            "15\n",
            "1\n",
            "\n",
            "----------\n",
            "0\n",
            "8\n",
            "9\n",
            "154.0\n",
            "340\n",
            "2.0\n",
            "7.3\n",
            "6\n",
            "5.0\n",
            "2\n",
            "5.2\n",
            "30\n",
            "3\n",
            "9\n",
            "0\n",
            "146.0\n",
            "24\n",
            "7\n",
            "39890\n",
            "13\n",
            "2160\n",
            "9\n",
            "4\n",
            "1\n",
            "23.0\n",
            "4\n",
            "3\n",
            "4\n",
            "8\n",
            "5\n",
            "6\n",
            "20\n",
            "1\n",
            "72.0\n",
            "256.0\n",
            "6\n",
            "3\n",
            "2900\n",
            "5\n",
            "1\n",
            "\n",
            "----------\n",
            "3\n",
            "2\n",
            "8\n",
            "132.0\n",
            "362\n",
            "1.5\n",
            "7.0\n",
            "5\n",
            "5.0\n",
            "4\n",
            "5.1\n",
            "30\n",
            "1\n",
            "0\n",
            "0\n",
            "142.1\n",
            "9\n",
            "7\n",
            "40900\n",
            "14\n",
            "2160\n",
            "10\n",
            "1\n",
            "7\n",
            "16.0\n",
            "1\n",
            "3\n",
            "4\n",
            "2\n",
            "7\n",
            "4\n",
            "32\n",
            "6\n",
            "70.1\n",
            "64.0\n",
            "5\n",
            "3\n",
            "2600\n",
            "4\n",
            "1\n",
            "\n",
            "----------\n",
            "3\n",
            "10\n",
            "12\n",
            "129.0\n",
            "250\n",
            "1.4\n",
            "6.9\n",
            "2\n",
            "1.2\n",
            "3\n",
            "4.7\n",
            "60\n",
            "4\n",
            "39\n",
            "2\n",
            "138.1\n",
            "16\n",
            "11\n",
            "48329\n",
            "14\n",
            "1080\n",
            "7\n",
            "1\n",
            "2\n",
            "8.0\n",
            "2\n",
            "1\n",
            "6\n",
            "1\n",
            "0\n",
            "1\n",
            "13\n",
            "6\n",
            "67.0\n",
            "0.0\n",
            "12\n",
            "13\n",
            "1810\n",
            "7\n",
            "1\n",
            "\n",
            "----------\n",
            "0\n",
            "5\n",
            "3\n",
            "152.0\n",
            "242\n",
            "2.3\n",
            "7.9\n",
            "5\n",
            "5.0\n",
            "3\n",
            "5.1\n",
            "30\n",
            "4\n",
            "150\n",
            "0\n",
            "142.4\n",
            "7\n",
            "9\n",
            "48900\n",
            "22\n",
            "2160\n",
            "10\n",
            "1\n",
            "8\n",
            "12.0\n",
            "1\n",
            "4\n",
            "4\n",
            "2\n",
            "6\n",
            "6\n",
            "32\n",
            "1\n",
            "69.6\n",
            "200.0\n",
            "9\n",
            "3\n",
            "3000\n",
            "101\n",
            "1\n",
            "\n",
            "----------\n",
            "3\n",
            "10\n",
            "6\n",
            "143.0\n",
            "240\n",
            "1.8\n",
            "7.1\n",
            "2\n",
            "5.0\n",
            "3\n",
            "4.7\n",
            "30\n",
            "4\n",
            "100\n",
            "2\n",
            "138.3\n",
            "16\n",
            "11\n",
            "49499\n",
            "14\n",
            "2160\n",
            "7\n",
            "1\n",
            "2\n",
            "12.0\n",
            "2\n",
            "2\n",
            "2\n",
            "1\n",
            "0\n",
            "1\n",
            "13\n",
            "6\n",
            "67.1\n",
            "0.0\n",
            "14\n",
            "13\n",
            "1715\n",
            "1\n",
            "1\n",
            "\n",
            "----------\n",
            "0\n",
            "7\n",
            "43\n",
            "171.0\n",
            "330\n",
            "2.1\n",
            "7.6\n",
            "5\n",
            "5.0\n",
            "3\n",
            "5.7\n",
            "30\n",
            "1\n",
            "107\n",
            "0\n",
            "153.2\n",
            "7\n",
            "9\n",
            "50895\n",
            "22\n",
            "2160\n",
            "8\n",
            "1\n",
            "7\n",
            "16.0\n",
            "2\n",
            "4\n",
            "4\n",
            "2\n",
            "4\n",
            "2\n",
            "25\n",
            "6\n",
            "76.1\n",
            "0.0\n",
            "6\n",
            "3\n",
            "3450\n",
            "4\n",
            "1\n",
            "\n",
            "----------\n",
            "3\n",
            "8\n",
            "9\n",
            "180.0\n",
            "600\n",
            "2.0\n",
            "7.8\n",
            "6\n",
            "5.0\n",
            "2\n",
            "5.5\n",
            "30\n",
            "3\n",
            "0\n",
            "0\n",
            "154.4\n",
            "22\n",
            "7\n",
            "52699\n",
            "19\n",
            "2160\n",
            "11\n",
            "4\n",
            "2\n",
            "23.0\n",
            "4\n",
            "3\n",
            "4\n",
            "8\n",
            "12\n",
            "6\n",
            "33\n",
            "1\n",
            "75.8\n",
            "256.0\n",
            "6\n",
            "3\n",
            "3430\n",
            "5\n",
            "1\n",
            "\n",
            "----------\n",
            "3\n",
            "10\n",
            "14\n",
            "192.0\n",
            "540\n",
            "1.8\n",
            "9.4\n",
            "2\n",
            "2.0\n",
            "2\n",
            "5.4\n",
            "30\n",
            "1\n",
            "0\n",
            "0\n",
            "147.0\n",
            "26\n",
            "7\n",
            "54900\n",
            "15\n",
            "2160\n",
            "10\n",
            "4\n",
            "0\n",
            "18.0\n",
            "4\n",
            "3\n",
            "4\n",
            "25\n",
            "3\n",
            "4\n",
            "29\n",
            "6\n",
            "77.2\n",
            "256.0\n",
            "6\n",
            "3\n",
            "3410\n",
            "8\n",
            "1\n",
            "\n",
            "----------\n",
            "0\n",
            "5\n",
            "3\n",
            "157.0\n",
            "400\n",
            "2.3\n",
            "7.7\n",
            "5\n",
            "5.0\n",
            "3\n",
            "5.5\n",
            "30\n",
            "4\n",
            "144\n",
            "0\n",
            "150.9\n",
            "7\n",
            "9\n",
            "56900\n",
            "27\n",
            "2160\n",
            "10\n",
            "1\n",
            "8\n",
            "12.0\n",
            "1\n",
            "4\n",
            "4\n",
            "2\n",
            "6\n",
            "6\n",
            "27\n",
            "1\n",
            "72.6\n",
            "200.0\n",
            "9\n",
            "3\n",
            "3600\n",
            "101\n",
            "1\n",
            "\n",
            "----------\n",
            "3\n",
            "10\n",
            "6\n",
            "192.0\n",
            "384\n",
            "1.8\n",
            "7.3\n",
            "2\n",
            "5.0\n",
            "3\n",
            "5.5\n",
            "30\n",
            "4\n",
            "81\n",
            "2\n",
            "158.2\n",
            "16\n",
            "11\n",
            "59000\n",
            "24\n",
            "2160\n",
            "7\n",
            "1\n",
            "2\n",
            "12.0\n",
            "2\n",
            "2\n",
            "2\n",
            "1\n",
            "0\n",
            "1\n",
            "16\n",
            "6\n",
            "77.9\n",
            "0.0\n",
            "14\n",
            "13\n",
            "2750\n",
            "1\n",
            "1\n",
            "\n",
            "----------\n",
            "3\n",
            "10\n",
            "12\n",
            "129.0\n",
            "250\n",
            "1.4\n",
            "6.9\n",
            "2\n",
            "1.2\n",
            "3\n",
            "4.7\n",
            "60\n",
            "4\n",
            "39\n",
            "2\n",
            "138.1\n",
            "16\n",
            "11\n",
            "64500\n",
            "14\n",
            "1080\n",
            "7\n",
            "1\n",
            "2\n",
            "8.0\n",
            "2\n",
            "1\n",
            "1\n",
            "1\n",
            "0\n",
            "1\n",
            "13\n",
            "6\n",
            "67.0\n",
            "0.0\n",
            "12\n",
            "13\n",
            "1810\n",
            "7\n",
            "1\n",
            "\n",
            "----------\n",
            "2\n",
            "8\n",
            "3\n",
            "158.0\n",
            "400\n",
            "2.2\n",
            "7.4\n",
            "6\n",
            "8.0\n",
            "3\n",
            "5.5\n",
            "30\n",
            "1\n",
            "0\n",
            "0\n",
            "152.7\n",
            "7\n",
            "8\n",
            "27999\n",
            "40\n",
            "2160\n",
            "9\n",
            "1\n",
            "6\n",
            "16.0\n",
            "4\n",
            "6\n",
            "6\n",
            "12\n",
            "6\n",
            "5\n",
            "16\n",
            "6\n",
            "74.7\n",
            "0.0\n",
            "10\n",
            "12\n",
            "3000\n",
            "2\n",
            "0\n",
            "\n",
            "----------\n"
          ]
        }
      ]
    },
    {
      "cell_type": "code",
      "source": [
        "#writing a file\n",
        "with open(\"my_first_file_output.txt\",'w')as file:\n",
        "  file.write(\"Hello world from python code\")"
      ],
      "metadata": {
        "id": "yjY0elbFzcdj"
      },
      "execution_count": 178,
      "outputs": []
    },
    {
      "cell_type": "code",
      "source": [
        "!cat my_first_file_output.txt"
      ],
      "metadata": {
        "colab": {
          "base_uri": "https://localhost:8080/"
        },
        "id": "Y_CS1mzWz3wL",
        "outputId": "babcfc38-76ca-42f3-d665-19fd38d7d3ed"
      },
      "execution_count": 179,
      "outputs": [
        {
          "output_type": "stream",
          "name": "stdout",
          "text": [
            "Hello world from python code"
          ]
        }
      ]
    },
    {
      "cell_type": "code",
      "source": [],
      "metadata": {
        "id": "-4n1Gyydz7VW"
      },
      "execution_count": 179,
      "outputs": []
    },
    {
      "cell_type": "markdown",
      "source": [
        "# Python Classes: OOPS"
      ],
      "metadata": {
        "id": "jaYG4hg60Byg"
      }
    },
    {
      "cell_type": "code",
      "source": [
        "class MobilePhone:\n",
        "  # pass\n",
        "  \"\"\" This is a sample class to illustrate how Python classes work \"\"\"\n",
        "  def __init__(self, name, is_android = False, screen_size = 4.3):\n",
        "    self.name = name\n",
        "    self.is_android = is_android\n",
        "    self.screen_size = screen_size\n",
        "    self.rating = -1\n",
        "\n",
        "  def has_ratings(self):\n",
        "      return self.rating > -1"
      ],
      "metadata": {
        "id": "ZVBqDdL_0FM3"
      },
      "execution_count": 211,
      "outputs": []
    },
    {
      "cell_type": "code",
      "source": [
        "new_phone = MobilePhone('iPhone 5s')"
      ],
      "metadata": {
        "id": "gAsO1INc0KPU"
      },
      "execution_count": 212,
      "outputs": []
    },
    {
      "cell_type": "code",
      "source": [
        "type(new_phone)"
      ],
      "metadata": {
        "colab": {
          "base_uri": "https://localhost:8080/"
        },
        "id": "obsJiDAv0Nol",
        "outputId": "eca0c87d-1360-4f05-8144-5fa46fa8d090"
      },
      "execution_count": 186,
      "outputs": [
        {
          "output_type": "execute_result",
          "data": {
            "text/plain": [
              "__main__.MobilePhone"
            ]
          },
          "metadata": {},
          "execution_count": 186
        }
      ]
    },
    {
      "cell_type": "code",
      "source": [
        "print(new_phone.name, new_phone.is_android, new_phone.screen_size)"
      ],
      "metadata": {
        "colab": {
          "base_uri": "https://localhost:8080/"
        },
        "id": "DJH6W-wg0PEw",
        "outputId": "1275d9da-a728-4d14-b664-0669217495eb"
      },
      "execution_count": 187,
      "outputs": [
        {
          "output_type": "stream",
          "name": "stdout",
          "text": [
            "iPhone 5s False 4.3\n"
          ]
        }
      ]
    },
    {
      "cell_type": "code",
      "source": [
        "new_phone.has_ratings()"
      ],
      "metadata": {
        "id": "a0d5IjQX0_xs",
        "colab": {
          "base_uri": "https://localhost:8080/"
        },
        "outputId": "d526bbf3-fc63-406c-a232-d7ebdad4ecc6"
      },
      "execution_count": 196,
      "outputs": [
        {
          "output_type": "execute_result",
          "data": {
            "text/plain": [
              "False"
            ]
          },
          "metadata": {},
          "execution_count": 196
        }
      ]
    },
    {
      "cell_type": "code",
      "source": [
        "new_phone.rating = 3.9"
      ],
      "metadata": {
        "id": "cw1LBYdgXi6Q"
      },
      "execution_count": 197,
      "outputs": []
    },
    {
      "cell_type": "code",
      "source": [
        "new_phone.has_ratings()"
      ],
      "metadata": {
        "colab": {
          "base_uri": "https://localhost:8080/"
        },
        "id": "umcs-BfxX6BO",
        "outputId": "5492cd7c-42b5-4bd6-ecd7-18ebde71fd4d"
      },
      "execution_count": 200,
      "outputs": [
        {
          "output_type": "execute_result",
          "data": {
            "text/plain": [
              "True"
            ]
          },
          "metadata": {},
          "execution_count": 200
        }
      ]
    },
    {
      "cell_type": "code",
      "source": [
        "MobilePhone.__doc__"
      ],
      "metadata": {
        "colab": {
          "base_uri": "https://localhost:8080/",
          "height": 35
        },
        "id": "WjvUTESoX77B",
        "outputId": "88467a82-e9e9-4905-84a0-3b436a8beb47"
      },
      "execution_count": 203,
      "outputs": [
        {
          "output_type": "execute_result",
          "data": {
            "text/plain": [
              "' This is a sample class to illustrate how Python classes work '"
            ],
            "application/vnd.google.colaboratory.intrinsic+json": {
              "type": "string"
            }
          },
          "metadata": {},
          "execution_count": 203
        }
      ]
    },
    {
      "cell_type": "code",
      "source": [
        "class iPhone(MobilePhone):\n",
        "  def __init__(self, name):\n",
        "    MobilePhone.__init__(self,name, False,4)\n",
        "  def __str__(self):\n",
        "    return self.name + \" \" + str(self.is_android) + \" \" +str(self.screen_size)"
      ],
      "metadata": {
        "id": "HwtU5Wb3YQnL"
      },
      "execution_count": 217,
      "outputs": []
    },
    {
      "cell_type": "code",
      "source": [
        "new_iphone = iPhone('iPhone 5s')"
      ],
      "metadata": {
        "id": "ofK37NaOYuhu"
      },
      "execution_count": 218,
      "outputs": []
    },
    {
      "cell_type": "code",
      "source": [
        "new_iphone.is_android"
      ],
      "metadata": {
        "colab": {
          "base_uri": "https://localhost:8080/"
        },
        "id": "1ZI8npCpYzmY",
        "outputId": "2d04804f-2744-4cbb-f394-331f78498e4f"
      },
      "execution_count": 215,
      "outputs": [
        {
          "output_type": "execute_result",
          "data": {
            "text/plain": [
              "False"
            ]
          },
          "metadata": {},
          "execution_count": 215
        }
      ]
    },
    {
      "cell_type": "code",
      "source": [
        "print(new_iphone)"
      ],
      "metadata": {
        "colab": {
          "base_uri": "https://localhost:8080/"
        },
        "id": "X_B6ND1YY3V6",
        "outputId": "054a4cd6-f0bd-495c-82f4-2488aa912620"
      },
      "execution_count": 219,
      "outputs": [
        {
          "output_type": "stream",
          "name": "stdout",
          "text": [
            "iPhone 5s False 4\n"
          ]
        }
      ]
    },
    {
      "cell_type": "code",
      "source": [],
      "metadata": {
        "id": "0W260-h8ZhhV"
      },
      "execution_count": null,
      "outputs": []
    },
    {
      "cell_type": "markdown",
      "source": [
        "# NumPy"
      ],
      "metadata": {
        "id": "TmkbJiQzaAAz"
      }
    },
    {
      "cell_type": "code",
      "source": [
        "import numpy as np"
      ],
      "metadata": {
        "id": "l0jz0IFiZ_VE"
      },
      "execution_count": 279,
      "outputs": []
    },
    {
      "cell_type": "code",
      "source": [
        "x = np.array([1,2,3])\n",
        "print(x)"
      ],
      "metadata": {
        "colab": {
          "base_uri": "https://localhost:8080/"
        },
        "id": "uWCe_OryaEZt",
        "outputId": "1a356874-3968-4e71-cced-98a9185f105c"
      },
      "execution_count": 280,
      "outputs": [
        {
          "output_type": "stream",
          "name": "stdout",
          "text": [
            "[1 2 3]\n"
          ]
        }
      ]
    },
    {
      "cell_type": "code",
      "source": [
        "type(x)"
      ],
      "metadata": {
        "colab": {
          "base_uri": "https://localhost:8080/"
        },
        "id": "wOWjxa3daJho",
        "outputId": "9a213b9d-a673-46b2-d945-0ed50acb9517"
      },
      "execution_count": 281,
      "outputs": [
        {
          "output_type": "execute_result",
          "data": {
            "text/plain": [
              "numpy.ndarray"
            ]
          },
          "metadata": {},
          "execution_count": 281
        }
      ]
    },
    {
      "cell_type": "code",
      "source": [
        "l = [4, 5, 10]\n",
        "x = np.asarray(l)\n",
        "type(x)"
      ],
      "metadata": {
        "colab": {
          "base_uri": "https://localhost:8080/"
        },
        "id": "vA17l3DhaKWV",
        "outputId": "87ac8190-d43c-4001-b7fc-f6c965744e45"
      },
      "execution_count": 282,
      "outputs": [
        {
          "output_type": "execute_result",
          "data": {
            "text/plain": [
              "numpy.ndarray"
            ]
          },
          "metadata": {},
          "execution_count": 282
        }
      ]
    },
    {
      "cell_type": "code",
      "source": [
        "print(x)"
      ],
      "metadata": {
        "colab": {
          "base_uri": "https://localhost:8080/"
        },
        "id": "3DWBLxzRaNyL",
        "outputId": "77e9b60b-60c0-486b-911c-c8af08a952ef"
      },
      "execution_count": 283,
      "outputs": [
        {
          "output_type": "stream",
          "name": "stdout",
          "text": [
            "[ 4  5 10]\n"
          ]
        }
      ]
    },
    {
      "cell_type": "code",
      "source": [
        "x = np.asarray(l, float)\n",
        "print(x)"
      ],
      "metadata": {
        "colab": {
          "base_uri": "https://localhost:8080/"
        },
        "id": "lbZJIcJ_aTuo",
        "outputId": "e53180e5-6a9c-4a76-eedb-68aa0eeced49"
      },
      "execution_count": 284,
      "outputs": [
        {
          "output_type": "stream",
          "name": "stdout",
          "text": [
            "[ 4.  5. 10.]\n"
          ]
        }
      ]
    },
    {
      "cell_type": "code",
      "source": [
        "x.shape"
      ],
      "metadata": {
        "colab": {
          "base_uri": "https://localhost:8080/"
        },
        "id": "FVtiPPfVa7gi",
        "outputId": "85c06ce8-ada8-4d78-ee60-3039ef1e7d71"
      },
      "execution_count": 285,
      "outputs": [
        {
          "output_type": "execute_result",
          "data": {
            "text/plain": [
              "(3,)"
            ]
          },
          "metadata": {},
          "execution_count": 285
        }
      ]
    },
    {
      "cell_type": "code",
      "source": [
        "np.array?"
      ],
      "metadata": {
        "id": "eeE4V2URa_8t"
      },
      "execution_count": 286,
      "outputs": []
    },
    {
      "cell_type": "code",
      "source": [
        "# create 2d array\n",
        "x = np.array([[1,2,3],[4,5,6]])"
      ],
      "metadata": {
        "id": "8IfsVWVgbGqZ"
      },
      "execution_count": 287,
      "outputs": []
    },
    {
      "cell_type": "code",
      "source": [
        "print(x)"
      ],
      "metadata": {
        "colab": {
          "base_uri": "https://localhost:8080/"
        },
        "id": "wyrEVRM4bS-4",
        "outputId": "60b7ac7a-a8fc-4a4d-f3df-e39254ef4275"
      },
      "execution_count": 288,
      "outputs": [
        {
          "output_type": "stream",
          "name": "stdout",
          "text": [
            "[[1 2 3]\n",
            " [4 5 6]]\n"
          ]
        }
      ]
    },
    {
      "cell_type": "code",
      "source": [
        "x.shape"
      ],
      "metadata": {
        "colab": {
          "base_uri": "https://localhost:8080/"
        },
        "id": "OykdlNHmbWyK",
        "outputId": "ba50b92c-f736-4f68-bc42-9aab2a6077f7"
      },
      "execution_count": 289,
      "outputs": [
        {
          "output_type": "execute_result",
          "data": {
            "text/plain": [
              "(2, 3)"
            ]
          },
          "metadata": {},
          "execution_count": 289
        }
      ]
    },
    {
      "cell_type": "code",
      "source": [
        "x[0, 0]"
      ],
      "metadata": {
        "colab": {
          "base_uri": "https://localhost:8080/"
        },
        "id": "eGCNy6vybma7",
        "outputId": "4d6b649c-6cdb-4012-8547-3e19998c8544"
      },
      "execution_count": 290,
      "outputs": [
        {
          "output_type": "execute_result",
          "data": {
            "text/plain": [
              "1"
            ]
          },
          "metadata": {},
          "execution_count": 290
        }
      ]
    },
    {
      "cell_type": "code",
      "source": [
        "x[1, 2]"
      ],
      "metadata": {
        "colab": {
          "base_uri": "https://localhost:8080/"
        },
        "id": "M20zyf-lbyBV",
        "outputId": "73163673-4650-4561-e6bd-fa0fb6d2b7b6"
      },
      "execution_count": 291,
      "outputs": [
        {
          "output_type": "execute_result",
          "data": {
            "text/plain": [
              "6"
            ]
          },
          "metadata": {},
          "execution_count": 291
        }
      ]
    },
    {
      "cell_type": "code",
      "source": [
        "x[0, 0:2]"
      ],
      "metadata": {
        "colab": {
          "base_uri": "https://localhost:8080/"
        },
        "id": "mmvXGzJ1b3HV",
        "outputId": "52e6753b-e097-4465-cf6f-40cd291b2e63"
      },
      "execution_count": 292,
      "outputs": [
        {
          "output_type": "execute_result",
          "data": {
            "text/plain": [
              "array([1, 2])"
            ]
          },
          "metadata": {},
          "execution_count": 292
        }
      ]
    },
    {
      "cell_type": "code",
      "source": [
        "x = np.zeros((4,5))"
      ],
      "metadata": {
        "id": "w0cORdSOcw4R"
      },
      "execution_count": 293,
      "outputs": []
    },
    {
      "cell_type": "code",
      "source": [
        "print(x)"
      ],
      "metadata": {
        "colab": {
          "base_uri": "https://localhost:8080/"
        },
        "id": "eXxwUoRddSR7",
        "outputId": "7dd27e84-f14f-4131-860d-4b98a126e6b4"
      },
      "execution_count": 294,
      "outputs": [
        {
          "output_type": "stream",
          "name": "stdout",
          "text": [
            "[[0. 0. 0. 0. 0.]\n",
            " [0. 0. 0. 0. 0.]\n",
            " [0. 0. 0. 0. 0.]\n",
            " [0. 0. 0. 0. 0.]]\n"
          ]
        }
      ]
    },
    {
      "cell_type": "code",
      "source": [
        "x = np.eye(4,4)"
      ],
      "metadata": {
        "id": "0PDNATSEdV_d"
      },
      "execution_count": 295,
      "outputs": []
    },
    {
      "cell_type": "code",
      "source": [
        "print(x)"
      ],
      "metadata": {
        "colab": {
          "base_uri": "https://localhost:8080/"
        },
        "id": "-1DHNsnQeAjB",
        "outputId": "c3ad23ec-cea1-4bac-8ad3-d65155ca4723"
      },
      "execution_count": 296,
      "outputs": [
        {
          "output_type": "stream",
          "name": "stdout",
          "text": [
            "[[1. 0. 0. 0.]\n",
            " [0. 1. 0. 0.]\n",
            " [0. 0. 1. 0.]\n",
            " [0. 0. 0. 1.]]\n"
          ]
        }
      ]
    },
    {
      "cell_type": "code",
      "source": [
        "x = np.random.random((4,5))"
      ],
      "metadata": {
        "id": "R9VAXY5FeDMI"
      },
      "execution_count": 297,
      "outputs": []
    },
    {
      "cell_type": "code",
      "source": [
        "print(x)"
      ],
      "metadata": {
        "colab": {
          "base_uri": "https://localhost:8080/"
        },
        "id": "vz55r4CaeMlP",
        "outputId": "a56c233c-1280-4a89-9cd4-814a4479a13c"
      },
      "execution_count": 298,
      "outputs": [
        {
          "output_type": "stream",
          "name": "stdout",
          "text": [
            "[[0.11849396 0.85899873 0.2301472  0.18390269 0.76400659]\n",
            " [0.10296433 0.10630261 0.83768902 0.05635466 0.11793219]\n",
            " [0.90738204 0.76794012 0.66441027 0.91029161 0.21353263]\n",
            " [0.56904256 0.28113958 0.44309793 0.40845138 0.14823196]]\n"
          ]
        }
      ]
    },
    {
      "cell_type": "code",
      "source": [
        "x = x.T # transpose"
      ],
      "metadata": {
        "id": "3dYaLlmFeNRO"
      },
      "execution_count": 299,
      "outputs": []
    },
    {
      "cell_type": "code",
      "source": [
        "print(x)"
      ],
      "metadata": {
        "colab": {
          "base_uri": "https://localhost:8080/"
        },
        "id": "_tp0jGsqerTO",
        "outputId": "16916eae-1ee1-41a0-f711-a1b9a59822a8"
      },
      "execution_count": 300,
      "outputs": [
        {
          "output_type": "stream",
          "name": "stdout",
          "text": [
            "[[0.11849396 0.10296433 0.90738204 0.56904256]\n",
            " [0.85899873 0.10630261 0.76794012 0.28113958]\n",
            " [0.2301472  0.83768902 0.66441027 0.44309793]\n",
            " [0.18390269 0.05635466 0.91029161 0.40845138]\n",
            " [0.76400659 0.11793219 0.21353263 0.14823196]]\n"
          ]
        }
      ]
    },
    {
      "cell_type": "code",
      "source": [
        "Y = x.reshape(20,1)"
      ],
      "metadata": {
        "id": "vpicULXMer3q"
      },
      "execution_count": 301,
      "outputs": []
    },
    {
      "cell_type": "code",
      "source": [
        "print(Y)"
      ],
      "metadata": {
        "colab": {
          "base_uri": "https://localhost:8080/"
        },
        "id": "Jy1pPZBYexWC",
        "outputId": "4c2b1a7f-7575-4ab7-c28f-d2b4d1ee4373"
      },
      "execution_count": 302,
      "outputs": [
        {
          "output_type": "stream",
          "name": "stdout",
          "text": [
            "[[0.11849396]\n",
            " [0.10296433]\n",
            " [0.90738204]\n",
            " [0.56904256]\n",
            " [0.85899873]\n",
            " [0.10630261]\n",
            " [0.76794012]\n",
            " [0.28113958]\n",
            " [0.2301472 ]\n",
            " [0.83768902]\n",
            " [0.66441027]\n",
            " [0.44309793]\n",
            " [0.18390269]\n",
            " [0.05635466]\n",
            " [0.91029161]\n",
            " [0.40845138]\n",
            " [0.76400659]\n",
            " [0.11793219]\n",
            " [0.21353263]\n",
            " [0.14823196]]\n"
          ]
        }
      ]
    },
    {
      "cell_type": "code",
      "source": [
        "A = np.arange(5)\n",
        "print(A)"
      ],
      "metadata": {
        "colab": {
          "base_uri": "https://localhost:8080/"
        },
        "id": "Nklbfma3eyOz",
        "outputId": "d6291772-8715-4fda-8f71-7bd0d1d2a799"
      },
      "execution_count": 303,
      "outputs": [
        {
          "output_type": "stream",
          "name": "stdout",
          "text": [
            "[0 1 2 3 4]\n"
          ]
        }
      ]
    },
    {
      "cell_type": "code",
      "source": [
        "B = np.arange(5)"
      ],
      "metadata": {
        "id": "NK1SBzb0fNGf"
      },
      "execution_count": 304,
      "outputs": []
    },
    {
      "cell_type": "code",
      "source": [
        "print(A + B, A-B, A*B)"
      ],
      "metadata": {
        "colab": {
          "base_uri": "https://localhost:8080/"
        },
        "id": "e4zbwM2EfQKp",
        "outputId": "942ad41b-626e-4fab-d54f-0af9947a654b"
      },
      "execution_count": 305,
      "outputs": [
        {
          "output_type": "stream",
          "name": "stdout",
          "text": [
            "[0 2 4 6 8] [0 0 0 0 0] [ 0  1  4  9 16]\n"
          ]
        }
      ]
    },
    {
      "cell_type": "code",
      "source": [
        "print(A, A+1) # broadcasting"
      ],
      "metadata": {
        "colab": {
          "base_uri": "https://localhost:8080/"
        },
        "id": "bI64J9gNfRa2",
        "outputId": "2fa3cd9a-76f4-4144-8c42-497c728f9e82"
      },
      "execution_count": 306,
      "outputs": [
        {
          "output_type": "stream",
          "name": "stdout",
          "text": [
            "[0 1 2 3 4] [1 2 3 4 5]\n"
          ]
        }
      ]
    },
    {
      "cell_type": "code",
      "source": [
        "A = np.random.random((2,3))\n",
        "print(A)\n",
        "print(A+1)"
      ],
      "metadata": {
        "colab": {
          "base_uri": "https://localhost:8080/"
        },
        "id": "5Lhy1kgifgCh",
        "outputId": "e97272ae-893e-4d28-edad-39c1c02d5907"
      },
      "execution_count": 307,
      "outputs": [
        {
          "output_type": "stream",
          "name": "stdout",
          "text": [
            "[[0.68438915 0.42541794 0.91050328]\n",
            " [0.05620432 0.8952594  0.95654334]]\n",
            "[[1.68438915 1.42541794 1.91050328]\n",
            " [1.05620432 1.8952594  1.95654334]]\n"
          ]
        }
      ]
    },
    {
      "cell_type": "code",
      "source": [
        "A = np.floor(np.random.random((2,3))*10)\n",
        "print(A)"
      ],
      "metadata": {
        "colab": {
          "base_uri": "https://localhost:8080/"
        },
        "id": "rmtcFQwlfrBo",
        "outputId": "980b962c-e6d7-4171-e8bf-a48aa71f9d1c"
      },
      "execution_count": 308,
      "outputs": [
        {
          "output_type": "stream",
          "name": "stdout",
          "text": [
            "[[6. 7. 2.]\n",
            " [1. 2. 2.]]\n"
          ]
        }
      ]
    },
    {
      "cell_type": "code",
      "source": [
        "u = [1, 2, 3]\n",
        "v = [-1, 0, 1]\n",
        "\n",
        "p1 = np.inner(u,v)\n",
        "print(p1)"
      ],
      "metadata": {
        "colab": {
          "base_uri": "https://localhost:8080/"
        },
        "id": "24axuZLzf3Z5",
        "outputId": "88bbc2a2-12ce-423a-8c49-c3c52fea897c"
      },
      "execution_count": 309,
      "outputs": [
        {
          "output_type": "stream",
          "name": "stdout",
          "text": [
            "2\n"
          ]
        }
      ]
    },
    {
      "cell_type": "code",
      "source": [
        "p2 = np.outer(u,v)\n",
        "print(p2)"
      ],
      "metadata": {
        "colab": {
          "base_uri": "https://localhost:8080/"
        },
        "id": "xEM8UrwbgV9c",
        "outputId": "c80754be-ceda-44bf-d060-12fbcf4c20e3"
      },
      "execution_count": 310,
      "outputs": [
        {
          "output_type": "stream",
          "name": "stdout",
          "text": [
            "[[-1  0  1]\n",
            " [-2  0  2]\n",
            " [-3  0  3]]\n"
          ]
        }
      ]
    },
    {
      "cell_type": "code",
      "source": [
        "A = np.ones((2,3))\n",
        "B = np.ones((3,2))\n",
        "\n",
        "np.dot(A,B)"
      ],
      "metadata": {
        "colab": {
          "base_uri": "https://localhost:8080/"
        },
        "id": "brTBM0izgaLd",
        "outputId": "eda6bcb9-7152-4583-d493-89af7dfffa41"
      },
      "execution_count": 311,
      "outputs": [
        {
          "output_type": "execute_result",
          "data": {
            "text/plain": [
              "array([[3., 3.],\n",
              "       [3., 3.]])"
            ]
          },
          "metadata": {},
          "execution_count": 311
        }
      ]
    },
    {
      "cell_type": "code",
      "source": [
        "np.dot(B.T, A.T)"
      ],
      "metadata": {
        "colab": {
          "base_uri": "https://localhost:8080/"
        },
        "id": "ouN_8Qg9gkyr",
        "outputId": "db59c9b2-e423-4d37-d88f-85219f367e7a"
      },
      "execution_count": 312,
      "outputs": [
        {
          "output_type": "execute_result",
          "data": {
            "text/plain": [
              "array([[3., 3.],\n",
              "       [3., 3.]])"
            ]
          },
          "metadata": {},
          "execution_count": 312
        }
      ]
    },
    {
      "cell_type": "code",
      "source": [
        "A = np.ones((2,3))\n",
        "print(A)"
      ],
      "metadata": {
        "colab": {
          "base_uri": "https://localhost:8080/"
        },
        "id": "NIe9g_4vgors",
        "outputId": "3b4c2b10-2c5d-4ff0-cc01-1d53a75b754b"
      },
      "execution_count": 313,
      "outputs": [
        {
          "output_type": "stream",
          "name": "stdout",
          "text": [
            "[[1. 1. 1.]\n",
            " [1. 1. 1.]]\n"
          ]
        }
      ]
    },
    {
      "cell_type": "code",
      "source": [
        "A.sum()"
      ],
      "metadata": {
        "colab": {
          "base_uri": "https://localhost:8080/"
        },
        "id": "6vvbHWBkgsJA",
        "outputId": "29bb1659-d4a8-41cb-8448-476346d76862"
      },
      "execution_count": 314,
      "outputs": [
        {
          "output_type": "execute_result",
          "data": {
            "text/plain": [
              "6.0"
            ]
          },
          "metadata": {},
          "execution_count": 314
        }
      ]
    },
    {
      "cell_type": "code",
      "source": [
        "A.sum(axis = 0) # col sum"
      ],
      "metadata": {
        "colab": {
          "base_uri": "https://localhost:8080/"
        },
        "id": "Ax9-LWX-gtJ1",
        "outputId": "067c07d5-ce64-4583-dfcf-98dd392f3567"
      },
      "execution_count": 315,
      "outputs": [
        {
          "output_type": "execute_result",
          "data": {
            "text/plain": [
              "array([2., 2., 2.])"
            ]
          },
          "metadata": {},
          "execution_count": 315
        }
      ]
    },
    {
      "cell_type": "code",
      "source": [
        "A.sum(axis = 1) # row sum"
      ],
      "metadata": {
        "colab": {
          "base_uri": "https://localhost:8080/"
        },
        "id": "lBiobw00gxfY",
        "outputId": "0d177f22-4cbf-4ca4-ec50-2dd955ec467d"
      },
      "execution_count": 316,
      "outputs": [
        {
          "output_type": "execute_result",
          "data": {
            "text/plain": [
              "array([3., 3.])"
            ]
          },
          "metadata": {},
          "execution_count": 316
        }
      ]
    },
    {
      "cell_type": "code",
      "source": [
        "A.max()"
      ],
      "metadata": {
        "colab": {
          "base_uri": "https://localhost:8080/"
        },
        "id": "uGKL7C85g0fN",
        "outputId": "15b8a9c1-a922-4425-c929-45072d3558b1"
      },
      "execution_count": 317,
      "outputs": [
        {
          "output_type": "execute_result",
          "data": {
            "text/plain": [
              "1.0"
            ]
          },
          "metadata": {},
          "execution_count": 317
        }
      ]
    },
    {
      "cell_type": "code",
      "source": [],
      "metadata": {
        "id": "yzjiisE3g1d-"
      },
      "execution_count": 317,
      "outputs": []
    },
    {
      "cell_type": "markdown",
      "source": [
        "# Plotting"
      ],
      "metadata": {
        "id": "o912VvMJg9cD"
      }
    },
    {
      "cell_type": "code",
      "source": [
        "import matplotlib.pyplot as plt"
      ],
      "metadata": {
        "id": "ZMbeNVUag-5H"
      },
      "execution_count": 318,
      "outputs": []
    },
    {
      "cell_type": "code",
      "source": [
        "x = np.random.random((10,1))\n",
        "print(x)"
      ],
      "metadata": {
        "colab": {
          "base_uri": "https://localhost:8080/"
        },
        "id": "sJCpnVIvhGeS",
        "outputId": "68e0dba2-f298-4852-c3e2-b2b74e2418bf"
      },
      "execution_count": 319,
      "outputs": [
        {
          "output_type": "stream",
          "name": "stdout",
          "text": [
            "[[0.85895693]\n",
            " [0.07698913]\n",
            " [0.29517361]\n",
            " [0.48697311]\n",
            " [0.23784534]\n",
            " [0.23181624]\n",
            " [0.03808133]\n",
            " [0.39664529]\n",
            " [0.53876011]\n",
            " [0.01554228]]\n"
          ]
        }
      ]
    },
    {
      "cell_type": "code",
      "source": [
        "plt.plot(x, '*-')\n",
        "plt.show()"
      ],
      "metadata": {
        "colab": {
          "base_uri": "https://localhost:8080/",
          "height": 430
        },
        "id": "rK3yycOchLRh",
        "outputId": "2f87aade-7944-4a52-9cbd-cdc003a7e614"
      },
      "execution_count": 320,
      "outputs": [
        {
          "output_type": "display_data",
          "data": {
            "text/plain": [
              "<Figure size 640x480 with 1 Axes>"
            ],
            "image/png": "[encoded data removed]"
          },
          "metadata": {}
        }
      ]
    },
    {
      "cell_type": "code",
      "source": [
        "x = np.linspace(0,10,100) # 100 points between 0 and 10\n",
        "y = np.power(x, 2)\n",
        "\n",
        "plt.plot(x,y, '-')\n",
        "plt.show()"
      ],
      "metadata": {
        "colab": {
          "base_uri": "https://localhost:8080/",
          "height": 434
        },
        "id": "uejtG2sghzDA",
        "outputId": "940c7a61-ff61-4d1e-a1a6-30e49d5f0aa5"
      },
      "execution_count": 332,
      "outputs": [
        {
          "output_type": "display_data",
          "data": {
            "text/plain": [
              "<Figure size 640x480 with 1 Axes>"
            ],
            "image/png": "[encoded data removed]"
          },
          "metadata": {}
        }
      ]
    },
    {
      "cell_type": "code",
      "source": [
        "import seaborn as sns"
      ],
      "metadata": {
        "id": "bldkMh448097"
      },
      "execution_count": 333,
      "outputs": []
    },
    {
      "cell_type": "code",
      "source": [
        "sns.set()"
      ],
      "metadata": {
        "id": "SOo60ori9kgE"
      },
      "execution_count": 334,
      "outputs": []
    },
    {
      "cell_type": "code",
      "source": [
        "sns.lineplot(x=x,y=y)\n",
        "plt.show()"
      ],
      "metadata": {
        "colab": {
          "base_uri": "https://localhost:8080/",
          "height": 434
        },
        "id": "lFPhWAcD9lg7",
        "outputId": "2f1dcf02-3cfe-42cb-cfec-50c585a98c70"
      },
      "execution_count": 337,
      "outputs": [
        {
          "output_type": "display_data",
          "data": {
            "text/plain": [
              "<Figure size 640x480 with 1 Axes>"
            ],
            "image/png": "[encoded data removed]"
          },
          "metadata": {}
        }
      ]
    },
    {
      "cell_type": "code",
      "source": [
        "# we will use the previous file which we had used before\n"
      ],
      "metadata": {
        "id": "tqJDBcik97Kq"
      },
      "execution_count": 338,
      "outputs": []
    },
    {
      "cell_type": "code",
      "source": [
        "import pandas as pd\n",
        "data = pd.read_csv('/content/mobile_cleaned-1549119762886.csv')\n",
        "data.head()"
      ],
      "metadata": {
        "colab": {
          "base_uri": "https://localhost:8080/",
          "height": 256
        },
        "id": "cmUl5CdB_rzg",
        "outputId": "e3fa6d0c-4454-4d7f-e276-6de8bafdb1d5"
      },
      "execution_count": 339,
      "outputs": [
        {
          "output_type": "execute_result",
          "data": {
            "text/plain": [
              "   sim_type  aperture  gpu_rank  weight  stand_by_time  processor_frequency  \\\n",
              "0         0        12        55   155.0            250                  1.3   \n",
              "1         0         1        55   132.0            300                  1.3   \n",
              "2         0         9        55   142.0            329                  1.5   \n",
              "3         0         8        55   152.0            385                  1.3   \n",
              "4         1         1        55   234.0            385                  1.3   \n",
              "\n",
              "   thickness  flash_type  front_camera_resolution  auto_focus  ...  \\\n",
              "0       10.5           5                     2.00           0  ...   \n",
              "1       10.6           5                     0.30           1  ...   \n",
              "2        8.5           5                     2.00           3  ...   \n",
              "3        8.0           5                     2.00           3  ...   \n",
              "4        7.9           5                     1.92           3  ...   \n",
              "\n",
              "   micro_sd_slot  screen_pixel_density  water_proof_rate  phone_width  \\\n",
              "0              4                     2                 3         67.8   \n",
              "1              4                     4                 6         64.0   \n",
              "2              4                     9                 6         72.0   \n",
              "3              4                     1                 3         75.1   \n",
              "4              4                     1                 6         91.0   \n",
              "\n",
              "   expandable_memory  version  usb_type  battery_capacity  processor_rank  \\\n",
              "0               64.0        5         3              2000             125   \n",
              "1               32.0        5         3              2000             165   \n",
              "2               32.0        6         3              2500             164   \n",
              "3               32.0        6         3              3000             165   \n",
              "4               32.0        6         3              3000             165   \n",
              "\n",
              "   is_liked  \n",
              "0         1  \n",
              "1         1  \n",
              "2         0  \n",
              "3         1  \n",
              "4         0  \n",
              "\n",
              "[5 rows x 40 columns]"
            ],
            "text/html": [
              "\n",
              "  <div id=\"df-4e483513-13ba-4f37-a31a-97d2ccd29fc9\" class=\"colab-df-container\">\n",
              "    <div>\n",
              "<style scoped>\n",
              "    .dataframe tbody tr th:only-of-type {\n",
              "        vertical-align: middle;\n",
              "    }\n",
              "\n",
              "    .dataframe tbody tr th {\n",
              "        vertical-align: top;\n",
              "    }\n",
              "\n",
              "    .dataframe thead th {\n",
              "        text-align: right;\n",
              "    }\n",
              "</style>\n",
              "<table border=\"1\" class=\"dataframe\">\n",
              "  <thead>\n",
              "    <tr style=\"text-align: right;\">\n",
              "      <th></th>\n",
              "      <th>sim_type</th>\n",
              "      <th>aperture</th>\n",
              "      <th>gpu_rank</th>\n",
              "      <th>weight</th>\n",
              "      <th>stand_by_time</th>\n",
              "      <th>processor_frequency</th>\n",
              "      <th>thickness</th>\n",
              "      <th>flash_type</th>\n",
              "      <th>front_camera_resolution</th>\n",
              "      <th>auto_focus</th>\n",
              "      <th>...</th>\n",
              "      <th>micro_sd_slot</th>\n",
              "      <th>screen_pixel_density</th>\n",
              "      <th>water_proof_rate</th>\n",
              "      <th>phone_width</th>\n",
              "      <th>expandable_memory</th>\n",
              "      <th>version</th>\n",
              "      <th>usb_type</th>\n",
              "      <th>battery_capacity</th>\n",
              "      <th>processor_rank</th>\n",
              "      <th>is_liked</th>\n",
              "    </tr>\n",
              "  </thead>\n",
              "  <tbody>\n",
              "    <tr>\n",
              "      <th>0</th>\n",
              "      <td>0</td>\n",
              "      <td>12</td>\n",
              "      <td>55</td>\n",
              "      <td>155.0</td>\n",
              "      <td>250</td>\n",
              "      <td>1.3</td>\n",
              "      <td>10.5</td>\n",
              "      <td>5</td>\n",
              "      <td>2.00</td>\n",
              "      <td>0</td>\n",
              "      <td>...</td>\n",
              "      <td>4</td>\n",
              "      <td>2</td>\n",
              "      <td>3</td>\n",
              "      <td>67.8</td>\n",
              "      <td>64.0</td>\n",
              "      <td>5</td>\n",
              "      <td>3</td>\n",
              "      <td>2000</td>\n",
              "      <td>125</td>\n",
              "      <td>1</td>\n",
              "    </tr>\n",
              "    <tr>\n",
              "      <th>1</th>\n",
              "      <td>0</td>\n",
              "      <td>1</td>\n",
              "      <td>55</td>\n",
              "      <td>132.0</td>\n",
              "      <td>300</td>\n",
              "      <td>1.3</td>\n",
              "      <td>10.6</td>\n",
              "      <td>5</td>\n",
              "      <td>0.30</td>\n",
              "      <td>1</td>\n",
              "      <td>...</td>\n",
              "      <td>4</td>\n",
              "      <td>4</td>\n",
              "      <td>6</td>\n",
              "      <td>64.0</td>\n",
              "      <td>32.0</td>\n",
              "      <td>5</td>\n",
              "      <td>3</td>\n",
              "      <td>2000</td>\n",
              "      <td>165</td>\n",
              "      <td>1</td>\n",
              "    </tr>\n",
              "    <tr>\n",
              "      <th>2</th>\n",
              "      <td>0</td>\n",
              "      <td>9</td>\n",
              "      <td>55</td>\n",
              "      <td>142.0</td>\n",
              "      <td>329</td>\n",
              "      <td>1.5</td>\n",
              "      <td>8.5</td>\n",
              "      <td>5</td>\n",
              "      <td>2.00</td>\n",
              "      <td>3</td>\n",
              "      <td>...</td>\n",
              "      <td>4</td>\n",
              "      <td>9</td>\n",
              "      <td>6</td>\n",
              "      <td>72.0</td>\n",
              "      <td>32.0</td>\n",
              "      <td>6</td>\n",
              "      <td>3</td>\n",
              "      <td>2500</td>\n",
              "      <td>164</td>\n",
              "      <td>0</td>\n",
              "    </tr>\n",
              "    <tr>\n",
              "      <th>3</th>\n",
              "      <td>0</td>\n",
              "      <td>8</td>\n",
              "      <td>55</td>\n",
              "      <td>152.0</td>\n",
              "      <td>385</td>\n",
              "      <td>1.3</td>\n",
              "      <td>8.0</td>\n",
              "      <td>5</td>\n",
              "      <td>2.00</td>\n",
              "      <td>3</td>\n",
              "      <td>...</td>\n",
              "      <td>4</td>\n",
              "      <td>1</td>\n",
              "      <td>3</td>\n",
              "      <td>75.1</td>\n",
              "      <td>32.0</td>\n",
              "      <td>6</td>\n",
              "      <td>3</td>\n",
              "      <td>3000</td>\n",
              "      <td>165</td>\n",
              "      <td>1</td>\n",
              "    </tr>\n",
              "    <tr>\n",
              "      <th>4</th>\n",
              "      <td>1</td>\n",
              "      <td>1</td>\n",
              "      <td>55</td>\n",
              "      <td>234.0</td>\n",
              "      <td>385</td>\n",
              "      <td>1.3</td>\n",
              "      <td>7.9</td>\n",
              "      <td>5</td>\n",
              "      <td>1.92</td>\n",
              "      <td>3</td>\n",
              "      <td>...</td>\n",
              "      <td>4</td>\n",
              "      <td>1</td>\n",
              "      <td>6</td>\n",
              "      <td>91.0</td>\n",
              "      <td>32.0</td>\n",
              "      <td>6</td>\n",
              "      <td>3</td>\n",
              "      <td>3000</td>\n",
              "      <td>165</td>\n",
              "      <td>0</td>\n",
              "    </tr>\n",
              "  </tbody>\n",
              "</table>\n",
              "<p>5 rows × 40 columns</p>\n",
              "</div>\n",
              "    <div class=\"colab-df-buttons\">\n",
              "\n",
              "  <div class=\"colab-df-container\">\n",
              "    <button class=\"colab-df-convert\" onclick=\"convertToInteractive('df-4e483513-13ba-4f37-a31a-97d2ccd29fc9')\"\n",
              "            title=\"Convert this dataframe to an interactive table.\"\n",
              "            style=\"display:none;\">\n",
              "\n",
              "  <svg xmlns=\"http://www.w3.org/2000/svg\" height=\"24px\" viewBox=\"0 -960 960 960\">\n",
              "    <path d=\"M120-120v-720h720v720H120Zm60-500h600v-160H180v160Zm220 220h160v-160H400v160Zm0 220h160v-160H400v160ZM180-400h160v-160H180v160Zm440 0h160v-160H620v160ZM180-180h160v-160H180v160Zm440 0h160v-160H620v160Z\"/>\n",
              "  </svg>\n",
              "    </button>\n",
              "\n",
              "  <style>\n",
              "    .colab-df-container {\n",
              "      display:flex;\n",
              "      gap: 12px;\n",
              "    }\n",
              "\n",
              "    .colab-df-convert {\n",
              "      background-color: #E8F0FE;\n",
              "      border: none;\n",
              "      border-radius: 50%;\n",
              "      cursor: pointer;\n",
              "      display: none;\n",
              "      fill: #1967D2;\n",
              "      height: 32px;\n",
              "      padding: 0 0 0 0;\n",
              "      width: 32px;\n",
              "    }\n",
              "\n",
              "    .colab-df-convert:hover {\n",
              "      background-color: #E2EBFA;\n",
              "      box-shadow: 0px 1px 2px rgba(60, 64, 67, 0.3), 0px 1px 3px 1px rgba(60, 64, 67, 0.15);\n",
              "      fill: #174EA6;\n",
              "    }\n",
              "\n",
              "    .colab-df-buttons div {\n",
              "      margin-bottom: 4px;\n",
              "    }\n",
              "\n",
              "    [theme=dark] .colab-df-convert {\n",
              "      background-color: #3B4455;\n",
              "      fill: #D2E3FC;\n",
              "    }\n",
              "\n",
              "    [theme=dark] .colab-df-convert:hover {\n",
              "      background-color: #434B5C;\n",
              "      box-shadow: 0px 1px 3px 1px rgba(0, 0, 0, 0.15);\n",
              "      filter: drop-shadow(0px 1px 2px rgba(0, 0, 0, 0.3));\n",
              "      fill: #FFFFFF;\n",
              "    }\n",
              "  </style>\n",
              "\n",
              "    <script>\n",
              "      const buttonEl =\n",
              "        document.querySelector('#df-4e483513-13ba-4f37-a31a-97d2ccd29fc9 button.colab-df-convert');\n",
              "      buttonEl.style.display =\n",
              "        google.colab.kernel.accessAllowed ? 'block' : 'none';\n",
              "\n",
              "      async function convertToInteractive(key) {\n",
              "        const element = document.querySelector('#df-4e483513-13ba-4f37-a31a-97d2ccd29fc9');\n",
              "        const dataTable =\n",
              "          await google.colab.kernel.invokeFunction('convertToInteractive',\n",
              "                                                    [key], {});\n",
              "        if (!dataTable) return;\n",
              "\n",
              "        const docLinkHtml = 'Like what you see? Visit the ' +\n",
              "          '<a target=\"_blank\" href=https://colab.research.google.com/notebooks/data_table.ipynb>data table notebook</a>'\n",
              "          + ' to learn more about interactive tables.';\n",
              "        element.innerHTML = '';\n",
              "        dataTable['output_type'] = 'display_data';\n",
              "        await google.colab.output.renderOutput(dataTable, element);\n",
              "        const docLink = document.createElement('div');\n",
              "        docLink.innerHTML = docLinkHtml;\n",
              "        element.appendChild(docLink);\n",
              "      }\n",
              "    </script>\n",
              "  </div>\n",
              "\n",
              "\n",
              "<div id=\"df-df180439-de15-4cf4-9b3a-3bc21332d7d1\">\n",
              "  <button class=\"colab-df-quickchart\" onclick=\"quickchart('df-df180439-de15-4cf4-9b3a-3bc21332d7d1')\"\n",
              "            title=\"Suggest charts\"\n",
              "            style=\"display:none;\">\n",
              "\n",
              "<svg xmlns=\"http://www.w3.org/2000/svg\" height=\"24px\"viewBox=\"0 0 24 24\"\n",
              "     width=\"24px\">\n",
              "    <g>\n",
              "        <path d=\"M19 3H5c-1.1 0-2 .9-2 2v14c0 1.1.9 2 2 2h14c1.1 0 2-.9 2-2V5c0-1.1-.9-2-2-2zM9 17H7v-7h2v7zm4 0h-2V7h2v10zm4 0h-2v-4h2v4z\"/>\n",
              "    </g>\n",
              "</svg>\n",
              "  </button>\n",
              "\n",
              "<style>\n",
              "  .colab-df-quickchart {\n",
              "      --bg-color: #E8F0FE;\n",
              "      --fill-color: #1967D2;\n",
              "      --hover-bg-color: #E2EBFA;\n",
              "      --hover-fill-color: #174EA6;\n",
              "      --disabled-fill-color: #AAA;\n",
              "      --disabled-bg-color: #DDD;\n",
              "  }\n",
              "\n",
              "  [theme=dark] .colab-df-quickchart {\n",
              "      --bg-color: #3B4455;\n",
              "      --fill-color: #D2E3FC;\n",
              "      --hover-bg-color: #434B5C;\n",
              "      --hover-fill-color: #FFFFFF;\n",
              "      --disabled-bg-color: #3B4455;\n",
              "      --disabled-fill-color: #666;\n",
              "  }\n",
              "\n",
              "  .colab-df-quickchart {\n",
              "    background-color: var(--bg-color);\n",
              "    border: none;\n",
              "    border-radius: 50%;\n",
              "    cursor: pointer;\n",
              "    display: none;\n",
              "    fill: var(--fill-color);\n",
              "    height: 32px;\n",
              "    padding: 0;\n",
              "    width: 32px;\n",
              "  }\n",
              "\n",
              "  .colab-df-quickchart:hover {\n",
              "    background-color: var(--hover-bg-color);\n",
              "    box-shadow: 0 1px 2px rgba(60, 64, 67, 0.3), 0 1px 3px 1px rgba(60, 64, 67, 0.15);\n",
              "    fill: var(--button-hover-fill-color);\n",
              "  }\n",
              "\n",
              "  .colab-df-quickchart-complete:disabled,\n",
              "  .colab-df-quickchart-complete:disabled:hover {\n",
              "    background-color: var(--disabled-bg-color);\n",
              "    fill: var(--disabled-fill-color);\n",
              "    box-shadow: none;\n",
              "  }\n",
              "\n",
              "  .colab-df-spinner {\n",
              "    border: 2px solid var(--fill-color);\n",
              "    border-color: transparent;\n",
              "    border-bottom-color: var(--fill-color);\n",
              "    animation:\n",
              "      spin 1s steps(1) infinite;\n",
              "  }\n",
              "\n",
              "  @keyframes spin {\n",
              "    0% {\n",
              "      border-color: transparent;\n",
              "      border-bottom-color: var(--fill-color);\n",
              "      border-left-color: var(--fill-color);\n",
              "    }\n",
              "    20% {\n",
              "      border-color: transparent;\n",
              "      border-left-color: var(--fill-color);\n",
              "      border-top-color: var(--fill-color);\n",
              "    }\n",
              "    30% {\n",
              "      border-color: transparent;\n",
              "      border-left-color: var(--fill-color);\n",
              "      border-top-color: var(--fill-color);\n",
              "      border-right-color: var(--fill-color);\n",
              "    }\n",
              "    40% {\n",
              "      border-color: transparent;\n",
              "      border-right-color: var(--fill-color);\n",
              "      border-top-color: var(--fill-color);\n",
              "    }\n",
              "    60% {\n",
              "      border-color: transparent;\n",
              "      border-right-color: var(--fill-color);\n",
              "    }\n",
              "    80% {\n",
              "      border-color: transparent;\n",
              "      border-right-color: var(--fill-color);\n",
              "      border-bottom-color: var(--fill-color);\n",
              "    }\n",
              "    90% {\n",
              "      border-color: transparent;\n",
              "      border-bottom-color: var(--fill-color);\n",
              "    }\n",
              "  }\n",
              "</style>\n",
              "\n",
              "  <script>\n",
              "    async function quickchart(key) {\n",
              "      const quickchartButtonEl =\n",
              "        document.querySelector('#' + key + ' button');\n",
              "      quickchartButtonEl.disabled = true;  // To prevent multiple clicks.\n",
              "      quickchartButtonEl.classList.add('colab-df-spinner');\n",
              "      try {\n",
              "        const charts = await google.colab.kernel.invokeFunction(\n",
              "            'suggestCharts', [key], {});\n",
              "      } catch (error) {\n",
              "        console.error('Error during call to suggestCharts:', error);\n",
              "      }\n",
              "      quickchartButtonEl.classList.remove('colab-df-spinner');\n",
              "      quickchartButtonEl.classList.add('colab-df-quickchart-complete');\n",
              "    }\n",
              "    (() => {\n",
              "      let quickchartButtonEl =\n",
              "        document.querySelector('#df-df180439-de15-4cf4-9b3a-3bc21332d7d1 button');\n",
              "      quickchartButtonEl.style.display =\n",
              "        google.colab.kernel.accessAllowed ? 'block' : 'none';\n",
              "    })();\n",
              "  </script>\n",
              "</div>\n",
              "    </div>\n",
              "  </div>\n"
            ]
          },
          "metadata": {},
          "execution_count": 339
        }
      ]
    },
    {
      "cell_type": "code",
      "source": [
        "ax = sns.scatterplot(x='stand_by_time', y ='battery_capacity', data = data)"
      ],
      "metadata": {
        "colab": {
          "base_uri": "https://localhost:8080/",
          "height": 458
        },
        "id": "kmd6qGZm_-6D",
        "outputId": "79fffda1-3337-443a-a406-27a36744902a"
      },
      "execution_count": 340,
      "outputs": [
        {
          "output_type": "display_data",
          "data": {
            "text/plain": [
              "<Figure size 640x480 with 1 Axes>"
            ],
            "image/png": "[encoded data removed]"
          },
          "metadata": {}
        }
      ]
    },
    {
      "cell_type": "code",
      "source": [
        "ax = sns.scatterplot(x = 'stand_by_time', y = 'battery_capacity', hue=\"thickness\", data=data)"
      ],
      "metadata": {
        "colab": {
          "base_uri": "https://localhost:8080/",
          "height": 458
        },
        "id": "8csBJGQbAL5q",
        "outputId": "143c7723-9bb9-4940-c282-e118714c2801"
      },
      "execution_count": 343,
      "outputs": [
        {
          "output_type": "display_data",
          "data": {
            "text/plain": [
              "<Figure size 640x480 with 1 Axes>"
            ],
            "image/png": "[encoded data removed]"
          },
          "metadata": {}
        }
      ]
    },
    {
      "cell_type": "code",
      "source": [
        "ax = sns.distplot(data[\"stand_by_time\"]) # histogram"
      ],
      "metadata": {
        "colab": {
          "base_uri": "https://localhost:8080/",
          "height": 654
        },
        "id": "gQnhzyP3A0y8",
        "outputId": "e0f3109f-eb7e-4569-8a4a-939882225366"
      },
      "execution_count": 345,
      "outputs": [
        {
          "output_type": "stream",
          "name": "stderr",
          "text": [
            "<ipython-input-345-e431f1b52395>:1: UserWarning: \n",
            "\n",
            "`distplot` is a deprecated function and will be removed in seaborn v0.14.0.\n",
            "\n",
            "Please adapt your code to use either `displot` (a figure-level function with\n",
            "similar flexibility) or `histplot` (an axes-level function for histograms).\n",
            "\n",
            "For a guide to updating your code to use the new functions, please see\n",
            "https://gist.github.com/mwaskom/de44147ed2974457ad6372750bbe5751\n",
            "\n",
            "  ax = sns.distplot(data[\"stand_by_time\"])\n"
          ]
        },
        {
          "output_type": "display_data",
          "data": {
            "text/plain": [
              "<Figure size 640x480 with 1 Axes>"
            ],
            "image/png": "[encoded data removed]"
          },
          "metadata": {}
        }
      ]
    },
    {
      "cell_type": "code",
      "source": [
        "ax = sns.distplot(data[\"stand_by_time\"], kde = False, rug=True, bins= 20 )  #kde=False will remove the distribution"
      ],
      "metadata": {
        "colab": {
          "base_uri": "https://localhost:8080/",
          "height": 654
        },
        "id": "FbCRXtbmBVEX",
        "outputId": "a6ad8d77-ddb4-4d49-8eae-88e16e161ca7"
      },
      "execution_count": 347,
      "outputs": [
        {
          "output_type": "stream",
          "name": "stderr",
          "text": [
            "<ipython-input-347-f5f222505cc7>:1: UserWarning: \n",
            "\n",
            "`distplot` is a deprecated function and will be removed in seaborn v0.14.0.\n",
            "\n",
            "Please adapt your code to use either `displot` (a figure-level function with\n",
            "similar flexibility) or `histplot` (an axes-level function for histograms).\n",
            "\n",
            "For a guide to updating your code to use the new functions, please see\n",
            "https://gist.github.com/mwaskom/de44147ed2974457ad6372750bbe5751\n",
            "\n",
            "  ax = sns.distplot(data[\"stand_by_time\"], kde = False, rug=True, bins= 20 )  #kde=False will remove the distribution\n"
          ]
        },
        {
          "output_type": "display_data",
          "data": {
            "text/plain": [
              "<Figure size 640x480 with 1 Axes>"
            ],
            "image/png": "[encoded data removed]"
          },
          "metadata": {}
        }
      ]
    },
    {
      "cell_type": "code",
      "source": [
        "# boxplot\n",
        "ax = sns.boxplot(x = 'is_liked', y = 'battery_capacity', data = data)"
      ],
      "metadata": {
        "colab": {
          "base_uri": "https://localhost:8080/",
          "height": 458
        },
        "id": "bYSr3g-SBtSZ",
        "outputId": "a9bf3856-7dc4-4733-9163-a243354fad30"
      },
      "execution_count": 349,
      "outputs": [
        {
          "output_type": "display_data",
          "data": {
            "text/plain": [
              "<Figure size 640x480 with 1 Axes>"
            ],
            "image/png": "[encoded data removed]"
          },
          "metadata": {}
        }
      ]
    },
    {
      "cell_type": "code",
      "source": [
        "ax = sns.boxplot(x='expandable_memory', y='price', data = data)"
      ],
      "metadata": {
        "colab": {
          "base_uri": "https://localhost:8080/",
          "height": 458
        },
        "id": "carMtgf3B98a",
        "outputId": "94eaf2c3-df9a-4b92-ccdb-209b5ca0a5ea"
      },
      "execution_count": 350,
      "outputs": [
        {
          "output_type": "display_data",
          "data": {
            "text/plain": [
              "<Figure size 640x480 with 1 Axes>"
            ],
            "image/png": "[encoded data removed]"
          },
          "metadata": {}
        }
      ]
    },
    {
      "cell_type": "code",
      "source": [
        "uniform_data = np.random.rand(10,12)\n",
        "print(uniform_data)"
      ],
      "metadata": {
        "colab": {
          "base_uri": "https://localhost:8080/"
        },
        "id": "z_ryJKThCeUr",
        "outputId": "7d09e90a-8dcb-473d-9d86-73325f0e211a"
      },
      "execution_count": 351,
      "outputs": [
        {
          "output_type": "stream",
          "name": "stdout",
          "text": [
            "[[0.98853488 0.0419741  0.15438115 0.37645241 0.571391   0.9475357\n",
            "  0.95515572 0.3779146  0.58319918 0.1779064  0.24972767 0.48082925]\n",
            " [0.2853728  0.69241689 0.50425192 0.61561987 0.20105167 0.10981708\n",
            "  0.72181886 0.49862423 0.60392549 0.39748849 0.13920924 0.18120129]\n",
            " [0.38419572 0.13570957 0.28184495 0.8983474  0.45650115 0.78161946\n",
            "  0.41556275 0.17442258 0.32940746 0.91381463 0.23901392 0.26514643]\n",
            " [0.09680399 0.59424799 0.3613886  0.24746444 0.65189234 0.72846746\n",
            "  0.83574547 0.39448984 0.43334606 0.04898729 0.51742679 0.14104687]\n",
            " [0.11948589 0.29575543 0.63169309 0.47439542 0.9111152  0.0443888\n",
            "  0.16969037 0.92145047 0.18618506 0.92201733 0.85104446 0.12760949]\n",
            " [0.08000406 0.2288121  0.31542679 0.87947893 0.10781104 0.72628699\n",
            "  0.60820258 0.03994565 0.41066646 0.79459282 0.51345808 0.83788604]\n",
            " [0.8628638  0.38797939 0.8443224  0.08965024 0.17632103 0.95977808\n",
            "  0.09935773 0.10964421 0.50330148 0.2475462  0.89203404 0.13375642]\n",
            " [0.26006374 0.19822515 0.43470677 0.32409491 0.52839323 0.50502493\n",
            "  0.68360045 0.77254223 0.42976798 0.39494728 0.12459001 0.19371716]\n",
            " [0.26436723 0.66870864 0.53074192 0.93422829 0.13625677 0.89492262\n",
            "  0.18133236 0.60575983 0.73031838 0.02104805 0.20218122 0.46297039]\n",
            " [0.82619911 0.27344767 0.77086927 0.96954749 0.48399653 0.4731614\n",
            "  0.41565458 0.97189251 0.64102485 0.10772306 0.24257913 0.79993169]]\n"
          ]
        }
      ]
    },
    {
      "cell_type": "code",
      "source": [
        "ax = sns.heatmap(uniform_data, cmap=\"YlGnBu\")"
      ],
      "metadata": {
        "colab": {
          "base_uri": "https://localhost:8080/",
          "height": 434
        },
        "id": "S7Qa3_DLCquy",
        "outputId": "fa971a4d-9768-44a1-e42e-d65330bf34b6"
      },
      "execution_count": 353,
      "outputs": [
        {
          "output_type": "display_data",
          "data": {
            "text/plain": [
              "<Figure size 640x480 with 2 Axes>"
            ],
            "image/png": "[encoded data removed]"
          },
          "metadata": {}
        }
      ]
    },
    {
      "cell_type": "code",
      "source": [
        "# plot image\n",
        "!wget https://zenprospect-production.s3.amazonaws.com/uploads/pictures/64045fc4ec33b100016c6fc4/picture"
      ],
      "metadata": {
        "colab": {
          "base_uri": "https://localhost:8080/"
        },
        "id": "Dwjq3u24Cs_5",
        "outputId": "b8e293c9-ace8-42aa-a1a3-0f41e53f84fe"
      },
      "execution_count": 357,
      "outputs": [
        {
          "output_type": "stream",
          "name": "stdout",
          "text": [
            "--2023-12-08 10:53:56--  https://zenprospect-production.s3.amazonaws.com/uploads/pictures/64045fc4ec33b100016c6fc4/picture\n",
            "Resolving zenprospect-production.s3.amazonaws.com (zenprospect-production.s3.amazonaws.com)... 52.217.75.52, 52.217.166.73, 52.217.225.121, ...\n",
            "Connecting to zenprospect-production.s3.amazonaws.com (zenprospect-production.s3.amazonaws.com)|52.217.75.52|:443... connected.\n",
            "HTTP request sent, awaiting response... 200 OK\n",
            "Length: 5743 (5.6K) []\n",
            "Saving to: ‘picture’\n",
            "\n",
            "\rpicture               0%[                    ]       0  --.-KB/s               \rpicture             100%[===================>]   5.61K  --.-KB/s    in 0s      \n",
            "\n",
            "2023-12-08 10:53:56 (386 MB/s) - ‘picture’ saved [5743/5743]\n",
            "\n"
          ]
        }
      ]
    },
    {
      "cell_type": "code",
      "source": [
        "!ls"
      ],
      "metadata": {
        "colab": {
          "base_uri": "https://localhost:8080/"
        },
        "id": "6lI-iUvbDBKy",
        "outputId": "9c3c7e3c-6250-427f-a638-a368caf55754"
      },
      "execution_count": 358,
      "outputs": [
        {
          "output_type": "stream",
          "name": "stdout",
          "text": [
            "'dev?id=5700313618786177705'\t    my_first_file_output.txt   picture\t     sample_data\n",
            " mobile_cleaned-1549119762886.csv   my_first_module.py\t       __pycache__  'view?usp=sharing'\n"
          ]
        }
      ]
    },
    {
      "cell_type": "code",
      "source": [
        "!mv picture onefourthlabs"
      ],
      "metadata": {
        "id": "nY8wN4qmDLJF"
      },
      "execution_count": 359,
      "outputs": []
    },
    {
      "cell_type": "code",
      "source": [
        "import matplotlib.image as mpimg"
      ],
      "metadata": {
        "id": "RGhJLPj4ELri"
      },
      "execution_count": 360,
      "outputs": []
    },
    {
      "cell_type": "code",
      "source": [
        "img = mpimg.imread('/content/onefourthlabs')"
      ],
      "metadata": {
        "id": "CM08C8sYEP1J"
      },
      "execution_count": 363,
      "outputs": []
    },
    {
      "cell_type": "code",
      "source": [
        "print(img)"
      ],
      "metadata": {
        "colab": {
          "base_uri": "https://localhost:8080/"
        },
        "id": "e26pZLORESXI",
        "outputId": "f6398913-fc9b-4bf4-e4fe-4965bd77fe47"
      },
      "execution_count": 364,
      "outputs": [
        {
          "output_type": "stream",
          "name": "stdout",
          "text": [
            "[[[255 255 255]\n",
            "  [255 255 255]\n",
            "  [255 255 255]\n",
            "  ...\n",
            "  [255 255 255]\n",
            "  [255 255 255]\n",
            "  [255 255 255]]\n",
            "\n",
            " [[255 255 255]\n",
            "  [255 255 255]\n",
            "  [255 255 255]\n",
            "  ...\n",
            "  [255 255 255]\n",
            "  [255 255 255]\n",
            "  [255 255 255]]\n",
            "\n",
            " [[255 255 255]\n",
            "  [255 255 255]\n",
            "  [255 255 255]\n",
            "  ...\n",
            "  [255 255 255]\n",
            "  [255 255 255]\n",
            "  [255 255 255]]\n",
            "\n",
            " ...\n",
            "\n",
            " [[255 255 255]\n",
            "  [255 255 255]\n",
            "  [255 255 255]\n",
            "  ...\n",
            "  [255 255 255]\n",
            "  [255 255 255]\n",
            "  [255 255 255]]\n",
            "\n",
            " [[255 255 255]\n",
            "  [255 255 255]\n",
            "  [255 255 255]\n",
            "  ...\n",
            "  [255 255 255]\n",
            "  [255 255 255]\n",
            "  [255 255 255]]\n",
            "\n",
            " [[255 255 255]\n",
            "  [255 255 255]\n",
            "  [255 255 255]\n",
            "  ...\n",
            "  [255 255 255]\n",
            "  [255 255 255]\n",
            "  [255 255 255]]]\n"
          ]
        }
      ]
    },
    {
      "cell_type": "code",
      "source": [
        "imgplot = plt.imshow(img)"
      ],
      "metadata": {
        "colab": {
          "base_uri": "https://localhost:8080/",
          "height": 439
        },
        "id": "XgB4-kbNEZNL",
        "outputId": "37a47987-073f-4930-ad9a-8a97f0def236"
      },
      "execution_count": 365,
      "outputs": [
        {
          "output_type": "display_data",
          "data": {
            "text/plain": [
              "<Figure size 640x480 with 1 Axes>"
            ],
            "image/png": "[encoded data removed]"
          },
          "metadata": {}
        }
      ]
    },
    {
      "cell_type": "code",
      "source": [],
      "metadata": {
        "id": "zQSgSkj7Ee1p"
      },
      "execution_count": null,
      "outputs": []
    }
  ]
}